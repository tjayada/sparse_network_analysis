{
 "cells": [
  {
   "cell_type": "code",
   "execution_count": 1,
   "id": "2b3f449e",
   "metadata": {},
   "outputs": [],
   "source": [
    "from syngem_utils import *\n",
    "from load_models import *"
   ]
  },
  {
   "cell_type": "code",
   "execution_count": 2,
   "id": "ea954ede",
   "metadata": {},
   "outputs": [],
   "source": [
    "import torch\n",
    "import pandas as pd\n",
    "import numpy as np\n",
    "import pickle as pkl\n",
    "import argparse\n",
    "import yaml\n",
    "import scipy"
   ]
  },
  {
   "cell_type": "code",
   "execution_count": 3,
   "id": "ddfc04da",
   "metadata": {},
   "outputs": [
    {
     "name": "stdout",
     "output_type": "stream",
     "text": [
      "=> Reading YAML config from Configs/synflow_fc.yml\n",
      "=> Reading YAML config from Configs/hypercube/resnet20/resnet20_quantized_iter_hc_target_sparsity_1_4_highreg.yml\n",
      "==> Conv Type: SubnetConv\n",
      "==> BN Type: AffineBatchNorm\n",
      "==> Building first layer\n"
     ]
    }
   ],
   "source": [
    "syn_model = load_synflow_resnet20_1_66_sparsity();\n",
    "gem_model = load_gemini_resnet20_1_44_sparsity();"
   ]
  },
  {
   "cell_type": "code",
   "execution_count": 4,
   "id": "54c5dada",
   "metadata": {},
   "outputs": [],
   "source": [
    "syn_sparsity = check_sparsity(syn_model)\n",
    "gem_sparsity = check_sparsity(gem_model)"
   ]
  },
  {
   "cell_type": "code",
   "execution_count": 5,
   "id": "e72ba858",
   "metadata": {
    "scrolled": true
   },
   "outputs": [
    {
     "name": "stdout",
     "output_type": "stream",
     "text": [
      "syn_model: {'overall_sparsity': 1.009}\n",
      "gem_model: {'overall_sparsity': 1.439}\n"
     ]
    }
   ],
   "source": [
    "print(\"syn_model:\", syn_sparsity)\n",
    "print(\"gem_model:\", gem_sparsity)"
   ]
  },
  {
   "cell_type": "code",
   "execution_count": 6,
   "id": "c5ef34c3",
   "metadata": {},
   "outputs": [],
   "source": [
    "syn_filters = get_filters(syn_model)\n",
    "gem_filters = get_filters(gem_model)"
   ]
  },
  {
   "cell_type": "markdown",
   "id": "97694cbe",
   "metadata": {},
   "source": [
    "# sparsity function for filters\n",
    "### --> dictionary(layer_1: [1.23 , 3.21 , ... , 4.12], layer_2: [...])"
   ]
  },
  {
   "cell_type": "code",
   "execution_count": 13,
   "id": "44d3ec14",
   "metadata": {},
   "outputs": [
    {
     "name": "stdout",
     "output_type": "stream",
     "text": [
      "Files already downloaded and verified\n",
      "Files already downloaded and verified\n"
     ]
    }
   ],
   "source": [
    "# load random image to create feature map on\n",
    "test_image = get_images_cifar10(batch_size=4)"
   ]
  },
  {
   "cell_type": "code",
   "execution_count": 17,
   "id": "fe12c64c",
   "metadata": {
    "scrolled": true
   },
   "outputs": [
    {
     "data": {
      "image/png": "[encoded data removed]",
      "text/plain": [
       "<Figure size 1000x1000 with 1 Axes>"
      ]
     },
     "metadata": {},
     "output_type": "display_data"
    },
    {
     "name": "stdout",
     "output_type": "stream",
     "text": [
      "GroundTruth:  car   truck dog   bird \n"
     ]
    }
   ],
   "source": [
    "img, _ = test_image.get_new_images(output=True)\n",
    "test_image.display((10,10))"
   ]
  },
  {
   "cell_type": "markdown",
   "id": "6d93ca09",
   "metadata": {},
   "source": [
    "# compare NN's from bottom to top\n",
    "### --> starting from weight matrices magnitude, to weight matrices structure (one - to one, one to many)\n",
    "### --> to kernel individual feature maps, to filter feature space, "
   ]
  },
  {
   "cell_type": "markdown",
   "id": "88f8380c",
   "metadata": {},
   "source": [
    "reasons: matrix weight dont tell anything about the structure, both magnitude and structure combined dont tell us about the correlation of feature map, e.g inverse edge detector has distance 1 (complete opposite) and corelation 1 (both feature maps are positively corelated). \n",
    "Next the single feature maps are condensed to one feature map which is the output of the filter and here again the individual feature maps might be not corelated, they final feature map they make up might be corealltead to another filters feature map. "
   ]
  },
  {
   "cell_type": "markdown",
   "id": "8977b424",
   "metadata": {},
   "source": [
    "# look at gradients of feature map ?"
   ]
  },
  {
   "cell_type": "code",
   "execution_count": 19,
   "id": "847c0535",
   "metadata": {},
   "outputs": [],
   "source": [
    "# comparing weight matrices magnitudes\n",
    "# any outliers ?\n",
    "# uniformly distributed ?\n",
    "# overall magnitude and direction ?\n",
    "test_weight_matrix_1 = np.array([[-1,0,1], \n",
    "                                 [-2,0,2],\n",
    "                                 [-1,0,1]])\n",
    "\n",
    "test_weight_matrix_2 = np.array([[1,0,-1], \n",
    "                                 [2,0,-2],\n",
    "                                 [1,0,-1]])\n",
    "\n"
   ]
  },
  {
   "cell_type": "code",
   "execution_count": 43,
   "id": "c3080d3d",
   "metadata": {},
   "outputs": [],
   "source": [
    "# from Liu et al.\n",
    "def getNormalizedEditDistance(a, b):\n",
    "\n",
    "    # for two hidden neuron trees, return 1 if they are completely different, 0 if they are exactly the same\n",
    "    if (len(a) == 0 and len(b) == 0):\n",
    "        return 0\n",
    "    intersect, inda, indb = np.intersect1d(a, b, return_indices=True)\n",
    "    if (intersect.shape[0] > 0):\n",
    "        edit = np.delete(a, inda).shape[0] + np.delete(b, indb).shape[0]\n",
    "        normalizedEdit = edit / np.unique(np.concatenate((a, b), axis=0)).shape[0]\n",
    "    else:\n",
    "        normalizedEdit = 1\n",
    "    return normalizedEdit\n",
    "\n",
    "# distance created by Isabel\n",
    "# gets two vectors with all weights (! and not just the connection indices) and gives back edit distance\n",
    "def editDistanceSigns(a,b):\n",
    "    nums = len(a) - len(np.intersect1d(np.where(b==0), np.where(a==0)))\n",
    "    same = len(np.intersect1d(np.where(a<0), np.where(b<0))) + len(np.intersect1d(np.where(a>0), np.where(b>0)))\n",
    "    if nums == 0:\n",
    "        return 0\n",
    "    return (nums-same)/nums\n",
    "\n",
    "\n",
    "# MAED \n",
    "def mean_absolute_error_distance(a,b):\n",
    "    \n",
    "    a_flat_sort = np.sort(a.flatten())\n",
    "    b_flat_sort = np.flip(np.sort(b.flatten()))\n",
    "    \n",
    "    worst_alignment = sum(abs(a_flat_sort - b_flat_sort))\n",
    "\n",
    "    dist = sum(abs(a - b).flatten()) / worst_alignment\n",
    "    \n",
    "    \n",
    "    return dist"
   ]
  },
  {
   "cell_type": "code",
   "execution_count": 44,
   "id": "782ba83b",
   "metadata": {},
   "outputs": [],
   "source": [
    "dist_liu = getNormalizedEditDistance(test_weight_matrix_1.flatten(), test_weight_matrix_2.flatten())\n",
    "dist_isa = editDistanceSigns(test_weight_matrix_1.flatten(), test_weight_matrix_2.flatten())\n",
    "dist_tja = mean_absolute_error_distance(test_weight_matrix_1, test_weight_matrix_2)"
   ]
  },
  {
   "cell_type": "code",
   "execution_count": 45,
   "id": "8e4b720e",
   "metadata": {},
   "outputs": [
    {
     "name": "stdout",
     "output_type": "stream",
     "text": [
      "dist_liu:  1.6\n",
      "dist_isa:  1.0\n",
      "dist_tja:  1.0\n"
     ]
    }
   ],
   "source": [
    "print(\"dist_liu: \", dist_liu)\n",
    "print(\"dist_isa: \", dist_isa)\n",
    "print(\"dist_tja: \", dist_tja)"
   ]
  },
  {
   "cell_type": "code",
   "execution_count": 42,
   "id": "ddc5014d",
   "metadata": {},
   "outputs": [
    {
     "data": {
      "text/plain": [
       "0.0"
      ]
     },
     "execution_count": 42,
     "metadata": {},
     "output_type": "execute_result"
    }
   ],
   "source": [
    "test_weight_matrix_1.mean()"
   ]
  },
  {
   "cell_type": "code",
   "execution_count": null,
   "id": "d31aa163",
   "metadata": {},
   "outputs": [],
   "source": []
  },
  {
   "cell_type": "code",
   "execution_count": null,
   "id": "fea8b52f",
   "metadata": {},
   "outputs": [],
   "source": []
  },
  {
   "cell_type": "code",
   "execution_count": null,
   "id": "a0ca40f9",
   "metadata": {},
   "outputs": [],
   "source": []
  },
  {
   "cell_type": "code",
   "execution_count": null,
   "id": "3b7f9c92",
   "metadata": {},
   "outputs": [],
   "source": []
  },
  {
   "cell_type": "code",
   "execution_count": null,
   "id": "2773c34e",
   "metadata": {},
   "outputs": [],
   "source": []
  },
  {
   "cell_type": "code",
   "execution_count": null,
   "id": "6c26cdd8",
   "metadata": {},
   "outputs": [],
   "source": []
  },
  {
   "cell_type": "code",
   "execution_count": null,
   "id": "7d87cecd",
   "metadata": {},
   "outputs": [],
   "source": []
  },
  {
   "cell_type": "code",
   "execution_count": null,
   "id": "0d7d3b65",
   "metadata": {},
   "outputs": [],
   "source": []
  },
  {
   "cell_type": "code",
   "execution_count": null,
   "id": "6a79069b",
   "metadata": {},
   "outputs": [],
   "source": []
  },
  {
   "cell_type": "code",
   "execution_count": null,
   "id": "bb28093c",
   "metadata": {},
   "outputs": [],
   "source": []
  },
  {
   "cell_type": "code",
   "execution_count": 9,
   "id": "323ef4ee",
   "metadata": {
    "scrolled": true
   },
   "outputs": [],
   "source": [
    "syn_feat = get_feature_map(img, syn_filters)\n",
    "gem_feat = get_feature_map(img, gem_filters)"
   ]
  },
  {
   "cell_type": "code",
   "execution_count": 47,
   "id": "cd7e4107",
   "metadata": {
    "scrolled": false
   },
   "outputs": [
    {
     "data": {
      "image/png": "[encoded data removed]",
      "text/plain": [
       "<Figure size 800x800 with 16 Axes>"
      ]
     },
     "metadata": {},
     "output_type": "display_data"
    }
   ],
   "source": [
    "fig, axs = plt.subplots(nrows=4, ncols=4, figsize=(8,8))\n",
    "\n",
    "layer = 0\n",
    "single_filter = 0\n",
    "\n",
    "for ax in axs.flat:\n",
    "    img = syn_feat[layer][single_filter]\n",
    "    ax.imshow(img, cmap = \"gray\")\n",
    "    ax.xaxis.set_visible(False)\n",
    "    ax.yaxis.set_visible(False)\n",
    "    single_filter += 1\n",
    "\n",
    "plt.show()"
   ]
  },
  {
   "cell_type": "code",
   "execution_count": null,
   "id": "e24e7432",
   "metadata": {
    "scrolled": false
   },
   "outputs": [],
   "source": [
    "fig, axs = plt.subplots(nrows=4, ncols=4, figsize=(10,10))\n",
    "\n",
    "layer = 0\n",
    "single_filter = 0\n",
    "\n",
    "for ax in axs.flat:\n",
    "    img = gem_feat[layer][single_filter]\n",
    "    ax.imshow(img)\n",
    "    ax.xaxis.set_visible(False)\n",
    "    ax.yaxis.set_visible(False)\n",
    "    single_filter += 1\n",
    "\n",
    "plt.show()"
   ]
  },
  {
   "cell_type": "code",
   "execution_count": null,
   "id": "af8a4119",
   "metadata": {},
   "outputs": [],
   "source": [
    "#dist_1 = getNormalizedEditDistance(syn_filters[0][3].flatten(), gem_filters[0][3].flatten())\n",
    "dist_1 = editDistanceSigns(syn_filters[0][3].flatten(), gem_filters[0][3].flatten())\n",
    "dist_2 = mean_absolute_error_distance(syn_filters[0][3],gem_filters[0][3])"
   ]
  },
  {
   "cell_type": "code",
   "execution_count": null,
   "id": "b1b73bea",
   "metadata": {},
   "outputs": [],
   "source": [
    "print(dist_1 , dist_2)"
   ]
  },
  {
   "cell_type": "code",
   "execution_count": null,
   "id": "5e03dab8",
   "metadata": {},
   "outputs": [],
   "source": [
    "for i in range(16):\n",
    "    for j in range(16):\n",
    "        dist_1 = editDistanceSigns(syn_filters[0][i].flatten(), gem_filters[0][j].flatten())\n",
    "        dist_2 = mean_absolute_error_distance(syn_filters[0][i],gem_filters[0][j])\n",
    "        \n",
    "        if abs(dist_1 - dist_2) > 0.06:\n",
    "            print(\"edit_dist \", i , j , dist_1)\n",
    "            print(\"my_dist \", i , j ,   dist_2)\n",
    "            print(\"\")"
   ]
  },
  {
   "cell_type": "code",
   "execution_count": null,
   "id": "9f0c9cde",
   "metadata": {
    "scrolled": false
   },
   "outputs": [],
   "source": [
    "print(syn_filters[0][0])\n",
    "\n",
    "print(\"\\n \\n \\n\")\n",
    "\n",
    "print(gem_filters[0][0])"
   ]
  },
  {
   "cell_type": "markdown",
   "id": "b87a2c12",
   "metadata": {},
   "source": [
    "# in super special cases my should be more accurate\n",
    "# but probably has some problems in other special cases"
   ]
  },
  {
   "cell_type": "code",
   "execution_count": null,
   "id": "827fee95",
   "metadata": {},
   "outputs": [],
   "source": [
    "#test_1 = np.zeros((3,3), dtype=float)\n",
    "#test_1[0][0][0] = 1\n",
    "test_1 = np.array([[-1,0,1], [-2,0,2],[-1,0,1]])\n",
    "test_1"
   ]
  },
  {
   "cell_type": "code",
   "execution_count": null,
   "id": "c88acb72",
   "metadata": {
    "scrolled": false
   },
   "outputs": [],
   "source": [
    "#test_2 = np.zeros((3,3,3), dtype=float)\n",
    "#test_2[0][0][0] = -1\n",
    "#test_2[1][1][1] = 1\n",
    "test_2 = np.array([[1,0,-1], [2,0,-2],[1,0,-1]])\n",
    "test_2"
   ]
  },
  {
   "cell_type": "code",
   "execution_count": null,
   "id": "f3cd4eac",
   "metadata": {},
   "outputs": [],
   "source": [
    "#test_1 = gem_filters[0][3]\n",
    "#test_2 = gem_filters[0][4]"
   ]
  },
  {
   "cell_type": "code",
   "execution_count": null,
   "id": "eebeef9c",
   "metadata": {},
   "outputs": [],
   "source": [
    "img[0][0].shape"
   ]
  },
  {
   "cell_type": "code",
   "execution_count": null,
   "id": "a04a2316",
   "metadata": {},
   "outputs": [],
   "source": [
    "feat_1 = scipy.signal.correlate(img[0][0].numpy(), test_1, mode='same')\n",
    "feat_2 = scipy.signal.correlate(img[0][0].numpy(), test_2, mode='same')\n",
    "#feat_1 = torch.nn.functional.conv2d(img, torch.from_numpy(test_1[None].astype('float32')), padding=1, dilation=1)\n",
    "#feat_2 = torch.nn.functional.conv2d(img, torch.from_numpy(test_2[None].astype('float32')), padding=1, dilation=1)"
   ]
  },
  {
   "cell_type": "code",
   "execution_count": null,
   "id": "47fff002",
   "metadata": {
    "scrolled": false
   },
   "outputs": [],
   "source": [
    "plt.subplots(figsize=(2, 2))\n",
    "plt.imshow(feat_1)\n",
    "plt.show()"
   ]
  },
  {
   "cell_type": "code",
   "execution_count": null,
   "id": "c6dbf448",
   "metadata": {
    "scrolled": false
   },
   "outputs": [],
   "source": [
    "plt.imshow(feat_2)\n",
    "plt.show()"
   ]
  },
  {
   "cell_type": "code",
   "execution_count": null,
   "id": "f7b58361",
   "metadata": {},
   "outputs": [],
   "source": [
    "tt = CKA(feat_1, feat_2)\n",
    "tt"
   ]
  },
  {
   "cell_type": "code",
   "execution_count": null,
   "id": "4fec5dc5",
   "metadata": {},
   "outputs": [],
   "source": [
    "feat_1.shape"
   ]
  },
  {
   "cell_type": "code",
   "execution_count": null,
   "id": "bd83c59c",
   "metadata": {},
   "outputs": [],
   "source": [
    "roundi = 2\n",
    "layer = 0"
   ]
  },
  {
   "cell_type": "code",
   "execution_count": null,
   "id": "eb2034bc",
   "metadata": {},
   "outputs": [],
   "source": [
    "#feat_1 = feat_1.numpy()\n",
    "#feat_2 = feat_2.numpy()"
   ]
  },
  {
   "cell_type": "code",
   "execution_count": null,
   "id": "1b700862",
   "metadata": {},
   "outputs": [],
   "source": [
    "sum((np.round(feat_1[0][0],roundi) == np.round(feat_2[0], roundi)).flatten())"
   ]
  },
  {
   "cell_type": "code",
   "execution_count": null,
   "id": "d9aeb341",
   "metadata": {},
   "outputs": [],
   "source": [
    "def linear_kernel(X, Y):\n",
    "    return np.matmul(X, Y.T)\n",
    "\n",
    "\n",
    "def HSIC(K, L):\n",
    "    \"\"\"\n",
    "    Calculate Hilbert-Schmidt Independence Criterion on K and L.\n",
    "    \"\"\"\n",
    "    n = K.shape[0]\n",
    "    H = np.identity(n) - (1./n) * np.ones((n, n))\n",
    "\n",
    "    KH = np.matmul(K, H)\n",
    "    LH = np.matmul(L, H)\n",
    "    return 1./((n-1)**2) * np.trace(np.matmul(KH, LH))\n",
    "\n",
    "def CKA(X, Y, kernel=None):\n",
    "    \"\"\"\n",
    "    Calculate Centered Kernel Alingment for X and Y. If no kernel\n",
    "    is specified, the linear kernel will be used.\n",
    "    \"\"\"\n",
    "    kernel = linear_kernel if kernel is None else kernel\n",
    "    \n",
    "    K = kernel(X, X)\n",
    "    L = kernel(Y, Y)\n",
    "        \n",
    "    hsic = HSIC(K, L)\n",
    "    varK = np.sqrt(HSIC(K, K))\n",
    "    varL = np.sqrt(HSIC(L, L))\n",
    "    return hsic / (varK * varL)"
   ]
  },
  {
   "cell_type": "code",
   "execution_count": null,
   "id": "86644cb2",
   "metadata": {},
   "outputs": [],
   "source": [
    "feat_1.shape"
   ]
  },
  {
   "cell_type": "code",
   "execution_count": null,
   "id": "8ace1893",
   "metadata": {},
   "outputs": [],
   "source": [
    "tt = CKA(feat_1[0][0], feat_2[0][0])"
   ]
  },
  {
   "cell_type": "code",
   "execution_count": null,
   "id": "401c951a",
   "metadata": {},
   "outputs": [],
   "source": [
    "tt"
   ]
  },
  {
   "cell_type": "code",
   "execution_count": null,
   "id": "406eb356",
   "metadata": {
    "scrolled": true
   },
   "outputs": [],
   "source": [
    "plt.imshow((np.round(feat_1[0][0],roundi) == np.round(feat_2[0][0], roundi)))\n",
    "#plt.imshow(feat_1[0][0])\n",
    "#plt.imshow(img[0][2].numpy())\n",
    "plt.show()"
   ]
  },
  {
   "cell_type": "code",
   "execution_count": null,
   "id": "5610aa0f",
   "metadata": {},
   "outputs": [],
   "source": [
    "# data\n",
    "# kernel with inverse kernel has no similar feature map\n",
    "# kernel with kernel multiplied by scalar has very limited similar feature map (rounding to 2 has 6 similar)"
   ]
  },
  {
   "cell_type": "code",
   "execution_count": null,
   "id": "abbecfe0",
   "metadata": {},
   "outputs": [],
   "source": [
    "img.shape"
   ]
  },
  {
   "cell_type": "code",
   "execution_count": null,
   "id": "af7d9337",
   "metadata": {},
   "outputs": [],
   "source": [
    "test_feat = get_feature_map(img, test_1[None][None], 0)"
   ]
  },
  {
   "cell_type": "code",
   "execution_count": null,
   "id": "c8ae1b05",
   "metadata": {},
   "outputs": [],
   "source": [
    "dist_1 = editDistanceSigns(test_1.flatten(), test_2.flatten())\n",
    "dist_2 = mean_absolute_error_distance(test_1 ,test_2)"
   ]
  },
  {
   "cell_type": "code",
   "execution_count": null,
   "id": "7ea9079c",
   "metadata": {},
   "outputs": [],
   "source": [
    "dist_1"
   ]
  },
  {
   "cell_type": "code",
   "execution_count": null,
   "id": "9c556b9b",
   "metadata": {},
   "outputs": [],
   "source": [
    "dist_2"
   ]
  },
  {
   "cell_type": "code",
   "execution_count": null,
   "id": "7082c3f7",
   "metadata": {},
   "outputs": [],
   "source": [
    "print(gem_filters[0][0])"
   ]
  },
  {
   "cell_type": "code",
   "execution_count": null,
   "id": "21bdf138",
   "metadata": {
    "scrolled": true
   },
   "outputs": [],
   "source": [
    "print(gem_filters[0][3])"
   ]
  },
  {
   "cell_type": "code",
   "execution_count": null,
   "id": "6bbbb33d",
   "metadata": {},
   "outputs": [],
   "source": [
    "# assumption is that the relation between weights is important, not the magnitudes themselves \n",
    "# matrix comapred to its inverse should be 0.5 distance\n",
    "# matirx compared to same matrix multiplied by some factor should be 0"
   ]
  },
  {
   "cell_type": "code",
   "execution_count": null,
   "id": "6d9a2ae6",
   "metadata": {},
   "outputs": [],
   "source": [
    "x_mat = np.array([[2,2,2],\n",
    "                  [3,3,3],\n",
    "                  [3,3,3]])\n",
    "\n",
    "y_mat = np.array([[1,1,1],\n",
    "                  [1,1,1],\n",
    "                  [5,5,5]])"
   ]
  },
  {
   "cell_type": "code",
   "execution_count": null,
   "id": "e5d8e7fd",
   "metadata": {
    "scrolled": true
   },
   "outputs": [],
   "source": [
    "feat_1 = scipy.signal.correlate(x_mat, y_mat, mode='same')"
   ]
  },
  {
   "cell_type": "code",
   "execution_count": null,
   "id": "de26433a",
   "metadata": {
    "scrolled": false
   },
   "outputs": [],
   "source": [
    "feat_1"
   ]
  },
  {
   "cell_type": "code",
   "execution_count": null,
   "id": "ccdc7c66",
   "metadata": {},
   "outputs": [],
   "source": [
    "kk = scipy.stats.pearsonr(x_mat.flatten(),y_mat.flatten())"
   ]
  },
  {
   "cell_type": "code",
   "execution_count": null,
   "id": "254ac436",
   "metadata": {},
   "outputs": [],
   "source": [
    "kk"
   ]
  },
  {
   "cell_type": "code",
   "execution_count": null,
   "id": "ea530c31",
   "metadata": {},
   "outputs": [],
   "source": [
    "ll = np.matmul(x_mat,y_mat.T)"
   ]
  },
  {
   "cell_type": "code",
   "execution_count": null,
   "id": "65c71dd0",
   "metadata": {},
   "outputs": [],
   "source": [
    "ll"
   ]
  },
  {
   "cell_type": "markdown",
   "id": "2d61a37e",
   "metadata": {},
   "source": [
    "# As another comparrison look into feature maps"
   ]
  },
  {
   "cell_type": "code",
   "execution_count": null,
   "id": "3011aeb7",
   "metadata": {},
   "outputs": [],
   "source": [
    "# see how much feature maps correlate with using CKA "
   ]
  },
  {
   "cell_type": "code",
   "execution_count": null,
   "id": "89287c80",
   "metadata": {},
   "outputs": [],
   "source": [
    "# cant proof mathematically but the more dimensions we have through filters the more likely it should be\n",
    "# for \"structurally distant\" filters to create the same feature map"
   ]
  },
  {
   "cell_type": "code",
   "execution_count": null,
   "id": "636bc560",
   "metadata": {},
   "outputs": [],
   "source": []
  }
 ],
 "metadata": {
  "kernelspec": {
   "display_name": "Python 3 (ipykernel)",
   "language": "python",
   "name": "python3"
  },
  "language_info": {
   "codemirror_mode": {
    "name": "ipython",
    "version": 3
   },
   "file_extension": ".py",
   "mimetype": "text/x-python",
   "name": "python",
   "nbconvert_exporter": "python",
   "pygments_lexer": "ipython3",
   "version": "3.10.6"
  }
 },
 "nbformat": 4,
 "nbformat_minor": 5
}
