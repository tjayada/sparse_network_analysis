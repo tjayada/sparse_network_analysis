{
 "cells": [
  {
   "cell_type": "code",
   "execution_count": 1,
   "id": "411960c9",
   "metadata": {},
   "outputs": [],
   "source": [
    "import torch\n",
    "import torchvision\n",
    "import torchvision.transforms as transforms\n",
    "import matplotlib.pyplot as plt\n",
    "import pandas as pd\n",
    "import numpy as np\n",
    "import networkx as nx\n",
    "import copy\n",
    "import warnings\n",
    "warnings.filterwarnings('ignore')"
   ]
  },
  {
   "cell_type": "code",
   "execution_count": 2,
   "id": "ba38d82f",
   "metadata": {},
   "outputs": [],
   "source": [
    "from loader import *\n",
    "from syngem_utils import *"
   ]
  },
  {
   "cell_type": "code",
   "execution_count": 3,
   "id": "b5af77e6",
   "metadata": {},
   "outputs": [],
   "source": [
    "torch.manual_seed(42)\n",
    "np.random.seed(42)"
   ]
  },
  {
   "cell_type": "code",
   "execution_count": 360,
   "id": "408f88af",
   "metadata": {},
   "outputs": [],
   "source": [
    "gem_model_2_21 = load_gemini_model(\"FC\", 20, 21)\n",
    "gem_model_2_42 = load_gemini_model(\"FC\", 20, 42)\n",
    "gem_model_2_63 = load_gemini_model(\"FC\", 20, 63)"
   ]
  },
  {
   "cell_type": "code",
   "execution_count": 361,
   "id": "2427c0ea",
   "metadata": {},
   "outputs": [],
   "source": [
    "syn_model_2_21 = load_synflow_model(\"FC\", 20, 21)\n",
    "syn_model_2_42 = load_synflow_model(\"FC\", 20, 42)\n",
    "syn_model_2_63 = load_synflow_model(\"FC\", 20, 63)"
   ]
  },
  {
   "cell_type": "code",
   "execution_count": 368,
   "id": "f35761cf",
   "metadata": {},
   "outputs": [],
   "source": [
    "syn_fil_2_21 = get_filters(syn_model_2_21)\n",
    "syn_fil_2_42 = get_filters(syn_model_2_42)\n",
    "syn_fil_2_63 = get_filters(syn_model_2_63)"
   ]
  },
  {
   "cell_type": "code",
   "execution_count": 369,
   "id": "3d49d28c",
   "metadata": {},
   "outputs": [],
   "source": [
    "rnd_model_2_21 = load_random_model(\"FC\", 20, 21)\n",
    "rnd_fil_2_21   = get_filters(rnd_model_2_21)"
   ]
  },
  {
   "cell_type": "code",
   "execution_count": 370,
   "id": "553e9971",
   "metadata": {},
   "outputs": [],
   "source": [
    "gem_fil_2_21 = get_filters(gem_model_2_21)\n",
    "gem_fil_2_42 = get_filters(gem_model_2_42)\n",
    "gem_fil_2_63 = get_filters(gem_model_2_63)"
   ]
  },
  {
   "cell_type": "code",
   "execution_count": 17,
   "id": "43c33ed4",
   "metadata": {},
   "outputs": [],
   "source": [
    "# check sparsity could be optimized using np.argwhere "
   ]
  },
  {
   "cell_type": "code",
   "execution_count": null,
   "id": "cb299c4c",
   "metadata": {},
   "outputs": [],
   "source": [
    "# the weights average around ~ in unit 1 in layer 1\n",
    "# the distance is around ~\n",
    "# there are ~ many weights on avergae left in the units "
   ]
  },
  {
   "cell_type": "code",
   "execution_count": 83,
   "id": "d24c7875",
   "metadata": {},
   "outputs": [],
   "source": [
    "# based on best unit matching do these analysis "
   ]
  },
  {
   "cell_type": "code",
   "execution_count": 353,
   "id": "92d95c26",
   "metadata": {},
   "outputs": [
    {
     "data": {
      "text/plain": [
       "array([6, 7, 8, 8, 9])"
      ]
     },
     "execution_count": 353,
     "metadata": {},
     "output_type": "execute_result"
    }
   ],
   "source": [
    "np.concatenate((np.array([6,7,8]), np.array([8,9])))"
   ]
  },
  {
   "cell_type": "code",
   "execution_count": 354,
   "id": "39e6932d",
   "metadata": {},
   "outputs": [],
   "source": [
    "def get_weight_positions(model):\n",
    "    \n",
    "    positions_model = []\n",
    "    for layer in model:\n",
    "        positions_layer = []\n",
    "        for unit in layer:\n",
    "            #print(unit)\n",
    "            weight_idxs = np.argwhere(unit.flatten())\n",
    "            #print(weight_idxs.flatten())\n",
    "            positions_layer = np.concatenate((positions_layer, weight_idxs.flatten()))\n",
    "        \n",
    "        positions_model.append(positions_layer)   \n",
    "    \n",
    "    return positions_model"
   ]
  },
  {
   "cell_type": "code",
   "execution_count": 355,
   "id": "4d59f734",
   "metadata": {},
   "outputs": [],
   "source": [
    "c = get_weight_positions(rnd_fil_2_21)"
   ]
  },
  {
   "cell_type": "code",
   "execution_count": 359,
   "id": "eb78a139",
   "metadata": {},
   "outputs": [
    {
     "data": {
      "text/plain": [
       "array([248., 255., 275., 280., 292., 293., 295., 297., 299., 309., 310.,\n",
       "       321., 323., 332., 336., 343., 344., 348., 350., 351., 363., 371.,\n",
       "       379., 383., 385., 391., 392., 398., 401., 409., 419., 420., 421.,\n",
       "       422., 429., 430., 431., 432., 433., 450., 455., 459., 462., 464.,\n",
       "       475., 477., 486., 487., 488., 495., 498., 502., 503., 506., 509.,\n",
       "       530., 534., 536., 538., 539., 544., 545., 551., 556., 560., 569.,\n",
       "       576., 581., 599., 600., 603., 607., 610., 612., 618., 622., 625.,\n",
       "       639., 642., 655., 656., 663., 665., 671., 678., 681., 688., 693.,\n",
       "       695., 699., 702., 714., 716., 731., 733., 735., 738., 747., 749.,\n",
       "       750., 752., 755., 759., 766., 769., 776., 779., 782.,   3.,   8.,\n",
       "        12.,  24.,  25.,  26.,  28.,  32.,  37.,  43.,  45.,  47.,  49.,\n",
       "        72.,  74.,  78.,  84.,  92.,  98., 101., 103., 112., 128., 129.,\n",
       "       131., 140., 145., 154., 156., 158., 162., 164., 168., 171., 176.,\n",
       "       179., 188., 190., 192., 193., 201., 207.])"
      ]
     },
     "execution_count": 359,
     "metadata": {},
     "output_type": "execute_result"
    }
   ],
   "source": []
  },
  {
   "cell_type": "code",
   "execution_count": 154,
   "id": "b365493a",
   "metadata": {},
   "outputs": [
    {
     "data": {
      "text/plain": [
       "(None, None, None)"
      ]
     },
     "execution_count": 154,
     "metadata": {},
     "output_type": "execute_result"
    }
   ],
   "source": [
    "pos, mid, c = get_weight_positions(gem_fil_2_21[0][23], np.mean)\n",
    "pos, mid, c"
   ]
  },
  {
   "cell_type": "code",
   "execution_count": 157,
   "id": "ee0562e7",
   "metadata": {},
   "outputs": [
    {
     "data": {
      "text/plain": [
       "(308.45, 337.0, 11)"
      ]
     },
     "execution_count": 157,
     "metadata": {},
     "output_type": "execute_result"
    }
   ],
   "source": [
    "pos, mid, c = get_weight_positions(rnd_fil_2_21[0][24], np.mean)\n",
    "pos, mid, c"
   ]
  },
  {
   "cell_type": "code",
   "execution_count": 402,
   "id": "139d7ff1",
   "metadata": {},
   "outputs": [],
   "source": [
    "def get_weight_distance(unit):\n",
    "    \n",
    "    weight_idxs = np.argwhere(unit)\n",
    "    \n",
    "    weight_dist = 0\n",
    "    for idx in range(len(weight_idxs)):\n",
    "        if len(weight_idxs) == 1:\n",
    "            return np.nan\n",
    "        try:\n",
    "            weight_dist += abs(weight_idxs[idx] - weight_idxs[idx + 1])\n",
    "        except:\n",
    "            return int(weight_dist / (len(weight_idxs) - 1))\n",
    "    return np.nan"
   ]
  },
  {
   "cell_type": "code",
   "execution_count": 399,
   "id": "ec66b17e",
   "metadata": {
    "scrolled": false
   },
   "outputs": [
    {
     "name": "stdout",
     "output_type": "stream",
     "text": [
      "2\n",
      "2\n",
      "80\n",
      "2\n",
      "1\n",
      "2\n",
      "43\n",
      "2\n",
      "9\n",
      "39\n",
      "4\n",
      "2\n",
      "6\n",
      "2\n",
      "4\n",
      "4\n",
      "74\n",
      "106\n",
      "64\n",
      "39\n"
     ]
    }
   ],
   "source": [
    "for i in range(20):\n",
    "    test = get_weight_distance(gem_fil_2_21[0][i])\n",
    "    print(test)"
   ]
  },
  {
   "cell_type": "code",
   "execution_count": 397,
   "id": "bdc99425",
   "metadata": {},
   "outputs": [
    {
     "data": {
      "text/plain": [
       "array([-0.        ,  0.        ,  0.        ,  0.        ,  0.        ,\n",
       "        0.        , -0.        , -0.        , -0.        , -0.        ,\n",
       "        0.        , -0.        , -0.        , -0.        ,  0.        ,\n",
       "       -0.        , -0.        , -0.        ,  0.        ,  0.        ,\n",
       "       -0.        ,  0.        ,  0.        , -0.        ,  0.        ,\n",
       "       -0.        ,  0.        ,  0.        ,  0.        , -0.        ,\n",
       "        0.        ,  0.        , -0.        , -0.        ,  0.        ,\n",
       "       -0.        ,  0.        , -0.        , -0.        ,  0.        ,\n",
       "       -0.        , -0.        , -0.        , -0.        ,  0.        ,\n",
       "        0.        , -0.        ,  0.        ,  0.        , -0.        ,\n",
       "       -0.        , -0.        , -0.        ,  0.        ,  0.        ,\n",
       "       -0.        ,  0.        , -0.        ,  0.        , -0.        ,\n",
       "       -0.        ,  0.        , -0.        ,  0.        , -0.        ,\n",
       "       -0.04536363,  0.        , -0.        ,  0.        ,  0.        ,\n",
       "        0.        ,  0.        ,  0.        ,  0.        ,  0.        ,\n",
       "        0.        , -0.        ,  0.        , -0.        , -0.        ,\n",
       "        0.        ,  0.        , -0.        ,  0.        , -0.        ,\n",
       "       -0.        ,  0.        , -0.        ,  0.        ,  0.        ,\n",
       "        0.        ,  0.        ,  0.        , -0.        ,  0.        ,\n",
       "        0.        , -0.        , -0.        ,  0.        , -0.        ,\n",
       "        0.        ,  0.        ,  0.        ,  0.        ,  0.        ,\n",
       "        0.        ,  0.        ,  0.        ,  0.        ,  0.        ,\n",
       "        0.        , -0.        , -0.        , -0.        ,  0.        ,\n",
       "       -0.        ,  0.        , -0.        ,  0.        ,  0.        ,\n",
       "       -0.        , -0.        ,  0.        , -0.        , -0.        ,\n",
       "        0.        , -0.        ,  0.        , -0.        ,  0.        ,\n",
       "       -0.        ,  0.        , -0.        ,  0.        ,  0.        ,\n",
       "       -0.        , -0.        ,  0.        ,  0.        ,  0.        ,\n",
       "        0.        ,  0.        ,  0.        ,  0.        , -0.        ,\n",
       "        0.        ,  0.        ,  0.        , -0.        ,  0.        ,\n",
       "       -0.        , -0.        ,  0.        , -0.        , -0.        ,\n",
       "       -0.        ,  0.        , -0.        ,  0.        ,  0.        ,\n",
       "       -0.        , -0.        , -0.        ,  0.        , -0.        ,\n",
       "        0.        ,  0.        , -0.        , -0.        ,  0.        ,\n",
       "       -0.        , -0.        ,  0.        , -0.        , -0.        ,\n",
       "        0.        , -0.        ,  0.        ,  0.        , -0.        ,\n",
       "       -0.        ,  0.        , -0.        , -0.        ,  0.        ,\n",
       "        0.        , -0.        ,  0.        , -0.        , -0.        ,\n",
       "        0.        ,  0.        ,  0.        ,  0.        , -0.        ,\n",
       "        0.        , -0.        , -0.        ,  0.        ,  0.        ,\n",
       "        0.        ,  0.        , -0.        , -0.        , -0.        ,\n",
       "        0.        , -0.        ,  0.        ,  0.        , -0.        ,\n",
       "        0.        , -0.        , -0.        ,  0.        , -0.04536363,\n",
       "        0.        , -0.        , -0.        , -0.        , -0.        ,\n",
       "       -0.        , -0.        ,  0.        , -0.        ,  0.        ,\n",
       "        0.        , -0.        , -0.        ,  0.        , -0.        ,\n",
       "       -0.        , -0.        , -0.        ,  0.        , -0.        ,\n",
       "       -0.        ,  0.        , -0.        ,  0.        , -0.        ,\n",
       "        0.        , -0.        , -0.        ,  0.        ,  0.        ,\n",
       "        0.        , -0.        ,  0.        ,  0.        , -0.        ,\n",
       "        0.        ,  0.        ,  0.        , -0.        ,  0.        ,\n",
       "       -0.        ,  0.        ,  0.        , -0.        , -0.        ,\n",
       "       -0.        , -0.        , -0.        , -0.        ,  0.        ,\n",
       "        0.        , -0.        , -0.        , -0.        , -0.        ,\n",
       "        0.        ,  0.        , -0.        , -0.        , -0.        ,\n",
       "        0.        ,  0.        ,  0.        ,  0.        ,  0.        ,\n",
       "       -0.        , -0.        , -0.        ,  0.        , -0.        ,\n",
       "       -0.        ,  0.        , -0.        , -0.        ,  0.        ,\n",
       "       -0.        ,  0.        , -0.        ,  0.        ,  0.        ,\n",
       "       -0.        ,  0.        , -0.        ,  0.        , -0.04536363,\n",
       "       -0.        , -0.        ,  0.        ,  0.        , -0.        ,\n",
       "        0.        , -0.        ,  0.        , -0.        , -0.        ,\n",
       "        0.        , -0.        ,  0.        , -0.        ,  0.        ,\n",
       "       -0.        , -0.        , -0.        ,  0.        , -0.        ,\n",
       "        0.        ,  0.        , -0.        ,  0.        ,  0.        ,\n",
       "       -0.        ,  0.        ,  0.        , -0.        ,  0.        ,\n",
       "        0.        ,  0.        , -0.        , -0.        , -0.        ,\n",
       "        0.        ,  0.        ,  0.        , -0.        , -0.        ,\n",
       "       -0.        , -0.        , -0.        , -0.        ,  0.        ,\n",
       "       -0.        , -0.        ,  0.        ,  0.        , -0.        ,\n",
       "       -0.        , -0.        , -0.04536363,  0.        , -0.        ,\n",
       "       -0.        ,  0.        , -0.        , -0.        , -0.        ,\n",
       "        0.        , -0.        ,  0.        , -0.        ,  0.        ,\n",
       "       -0.        , -0.        ,  0.        , -0.        ,  0.        ,\n",
       "        0.        , -0.        , -0.        ,  0.        , -0.        ,\n",
       "       -0.        ,  0.        ,  0.        ,  0.        , -0.        ,\n",
       "        0.        ,  0.        ,  0.        , -0.        , -0.        ,\n",
       "       -0.        ,  0.        , -0.        , -0.        , -0.        ,\n",
       "        0.        , -0.        , -0.        , -0.        ,  0.        ,\n",
       "        0.        , -0.        , -0.        , -0.        ,  0.        ,\n",
       "       -0.        , -0.        ,  0.        , -0.        , -0.        ,\n",
       "       -0.        , -0.        , -0.        , -0.        , -0.        ,\n",
       "       -0.        ,  0.        , -0.        , -0.        ,  0.        ,\n",
       "       -0.        , -0.        , -0.        , -0.        ,  0.        ,\n",
       "        0.        , -0.        ,  0.        , -0.        ,  0.        ,\n",
       "        0.        , -0.        , -0.        , -0.        ,  0.        ,\n",
       "       -0.        ,  0.        , -0.        , -0.        , -0.        ,\n",
       "        0.        , -0.        ,  0.        , -0.        ,  0.        ,\n",
       "       -0.        ,  0.        ,  0.        , -0.        ,  0.        ,\n",
       "       -0.        ,  0.        ,  0.        ,  0.        , -0.        ,\n",
       "       -0.        , -0.        ,  0.        ,  0.        ,  0.        ,\n",
       "        0.        ,  0.        , -0.        , -0.        , -0.        ,\n",
       "        0.        ,  0.        ,  0.        ,  0.        ,  0.        ,\n",
       "       -0.        , -0.        ,  0.        , -0.        , -0.        ,\n",
       "       -0.        , -0.        ,  0.        , -0.        , -0.        ,\n",
       "       -0.        , -0.        , -0.        ,  0.        , -0.        ,\n",
       "       -0.        , -0.        , -0.        ,  0.        , -0.        ,\n",
       "        0.        ,  0.        , -0.        ,  0.        ,  0.        ,\n",
       "        0.04536363, -0.        ,  0.        , -0.        ,  0.        ,\n",
       "        0.        ,  0.        , -0.        ,  0.        ,  0.        ,\n",
       "        0.        , -0.        ,  0.        ,  0.        ,  0.        ,\n",
       "        0.        , -0.        ,  0.        ,  0.        ,  0.        ,\n",
       "       -0.        , -0.        ,  0.        , -0.        , -0.        ,\n",
       "       -0.        , -0.        ,  0.        ,  0.        ,  0.        ,\n",
       "        0.        ,  0.        ,  0.        , -0.        ,  0.        ,\n",
       "        0.        ,  0.        , -0.        ,  0.        , -0.        ,\n",
       "        0.        ,  0.        ,  0.        , -0.        ,  0.        ,\n",
       "       -0.        ,  0.        ,  0.        , -0.        , -0.        ,\n",
       "        0.        , -0.        , -0.        ,  0.        , -0.        ,\n",
       "        0.        , -0.        , -0.        , -0.        ,  0.        ,\n",
       "       -0.        , -0.        ,  0.        ,  0.        ,  0.        ,\n",
       "        0.        ,  0.        , -0.        ,  0.        , -0.        ,\n",
       "       -0.        ,  0.        , -0.        , -0.        ,  0.        ,\n",
       "       -0.        ,  0.        , -0.        ,  0.        , -0.        ,\n",
       "       -0.        ,  0.        , -0.        ,  0.        , -0.        ,\n",
       "        0.        , -0.        ,  0.        ,  0.        , -0.        ,\n",
       "       -0.        ,  0.        ,  0.        ,  0.        ,  0.        ,\n",
       "        0.        , -0.        , -0.        ,  0.        , -0.        ,\n",
       "       -0.        , -0.        , -0.        ,  0.        ,  0.        ,\n",
       "        0.        , -0.        , -0.        , -0.        ,  0.        ,\n",
       "       -0.        ,  0.        ,  0.        , -0.        ,  0.        ,\n",
       "        0.        , -0.        , -0.        ,  0.        ,  0.        ,\n",
       "       -0.        , -0.        ,  0.        , -0.        ,  0.        ,\n",
       "        0.        , -0.        ,  0.        , -0.        , -0.        ,\n",
       "        0.        ,  0.        , -0.        , -0.        ,  0.        ,\n",
       "       -0.        , -0.        , -0.        , -0.        , -0.        ,\n",
       "        0.        , -0.        , -0.        , -0.        ,  0.        ,\n",
       "       -0.        ,  0.        ,  0.        ,  0.        , -0.        ,\n",
       "       -0.        ,  0.        ,  0.        ,  0.        ,  0.        ,\n",
       "        0.        , -0.        ,  0.        , -0.        ,  0.        ,\n",
       "        0.        , -0.        ,  0.        ,  0.        ,  0.        ,\n",
       "        0.        ,  0.        ,  0.        , -0.        , -0.        ,\n",
       "       -0.        ,  0.        , -0.        ,  0.        , -0.        ,\n",
       "        0.        ,  0.        , -0.        ,  0.        ,  0.        ,\n",
       "       -0.        ,  0.        , -0.        , -0.        ,  0.        ,\n",
       "        0.        ,  0.        , -0.        , -0.        , -0.        ,\n",
       "       -0.        , -0.        , -0.        , -0.        ,  0.        ,\n",
       "       -0.        , -0.        , -0.        , -0.        ,  0.        ,\n",
       "       -0.        , -0.        ,  0.        , -0.        ,  0.        ,\n",
       "       -0.        , -0.        , -0.        ,  0.        , -0.        ,\n",
       "       -0.        ,  0.        , -0.        , -0.        , -0.        ,\n",
       "        0.        ,  0.        , -0.        ,  0.        ,  0.        ,\n",
       "        0.        , -0.        , -0.        , -0.        , -0.        ,\n",
       "       -0.        ,  0.        , -0.        ,  0.        ,  0.        ,\n",
       "        0.        , -0.        ,  0.        , -0.        , -0.        ,\n",
       "        0.        , -0.        ,  0.        ,  0.        , -0.        ,\n",
       "       -0.        , -0.        , -0.        ,  0.        ,  0.        ,\n",
       "        0.        ,  0.        , -0.        ,  0.        ,  0.        ,\n",
       "        0.        ,  0.        ,  0.        ,  0.        , -0.        ,\n",
       "        0.        , -0.        ,  0.        ,  0.        ,  0.        ,\n",
       "       -0.        ,  0.        ,  0.        , -0.        ,  0.        ,\n",
       "        0.        , -0.        , -0.        ,  0.        , -0.        ,\n",
       "       -0.        , -0.        ,  0.        ,  0.        , -0.        ,\n",
       "       -0.        ,  0.        ,  0.        ,  0.        , -0.        ,\n",
       "        0.        ,  0.        , -0.        ,  0.        ,  0.        ,\n",
       "       -0.        ,  0.        ,  0.        , -0.        ,  0.        ,\n",
       "       -0.        ,  0.        , -0.        , -0.        ], dtype=float32)"
      ]
     },
     "execution_count": 397,
     "metadata": {},
     "output_type": "execute_result"
    }
   ],
   "source": [
    "gem_fil_2_21[0][17]"
   ]
  },
  {
   "cell_type": "code",
   "execution_count": 199,
   "id": "473621dd",
   "metadata": {},
   "outputs": [
    {
     "data": {
      "text/plain": [
       "39"
      ]
     },
     "execution_count": 199,
     "metadata": {},
     "output_type": "execute_result"
    }
   ],
   "source": [
    "get_weight_distance(rnd_fil_2_21[0][0])"
   ]
  },
  {
   "cell_type": "code",
   "execution_count": 181,
   "id": "de3965a3",
   "metadata": {
    "scrolled": true
   },
   "outputs": [
    {
     "name": "stdout",
     "output_type": "stream",
     "text": [
      "39\n",
      "36\n",
      "42\n",
      "55\n",
      "44\n",
      "50\n",
      "42\n",
      "32\n",
      "54\n",
      "44\n",
      "48\n",
      "40\n",
      "64\n",
      "51\n",
      "37\n",
      "42\n",
      "39\n",
      "32\n",
      "65\n",
      "41\n"
     ]
    }
   ],
   "source": [
    "for i in range(20):\n",
    "    test = get_weight_distance(rnd_fil_2_21[0][i])\n",
    "    print(test)"
   ]
  },
  {
   "cell_type": "code",
   "execution_count": 202,
   "id": "5a4bd5b0",
   "metadata": {},
   "outputs": [],
   "source": [
    "def get_model_weight_distances(model):\n",
    "    distances_model = []\n",
    "    for layer in model:\n",
    "        distances_layer = []\n",
    "        for unit in layer:\n",
    "            dist = get_weight_distance(unit)\n",
    "            distances_layer.append(dist)\n",
    "        distances_model.append(distances_layer)\n",
    "    \n",
    "    return distances_model"
   ]
  },
  {
   "cell_type": "code",
   "execution_count": 403,
   "id": "13c5b105",
   "metadata": {},
   "outputs": [],
   "source": [
    "test_gem = get_model_weight_distances(gem_fil_2_21)\n",
    "test_gem_2 = get_model_weight_distances(gem_fil_2_21)\n"
   ]
  },
  {
   "cell_type": "code",
   "execution_count": 388,
   "id": "78a707be",
   "metadata": {},
   "outputs": [],
   "source": [
    "kk = test_gem + test_gem_2"
   ]
  },
  {
   "cell_type": "code",
   "execution_count": 390,
   "id": "73e7124d",
   "metadata": {},
   "outputs": [
    {
     "data": {
      "text/plain": [
       "12"
      ]
     },
     "execution_count": 390,
     "metadata": {},
     "output_type": "execute_result"
    }
   ],
   "source": [
    "len(kk)"
   ]
  },
  {
   "cell_type": "code",
   "execution_count": 386,
   "id": "09ee538b",
   "metadata": {
    "scrolled": true
   },
   "outputs": [
    {
     "name": "stdout",
     "output_type": "stream",
     "text": [
      "22.67\n",
      "5.14\n",
      "4.92\n",
      "5.69\n",
      "4.41\n",
      "2.7\n"
     ]
    }
   ],
   "source": [
    "for i in range(6):\n",
    "    print(np.mean(np.nan_to_num(test_gem[i])))"
   ]
  },
  {
   "cell_type": "code",
   "execution_count": 279,
   "id": "87036f3d",
   "metadata": {},
   "outputs": [
    {
     "name": "stdout",
     "output_type": "stream",
     "text": [
      "3.66\n",
      "2.0\n",
      "2.0\n",
      "2.0\n",
      "2.0\n",
      "2.0\n"
     ]
    }
   ],
   "source": [
    "syn_gem = get_model_weight_distances(syn_fil_2_21)\n",
    "for i in range(6):\n",
    "    print(np.mean(np.nan_to_num(syn_gem[i])))"
   ]
  },
  {
   "cell_type": "code",
   "execution_count": 280,
   "id": "923d0501",
   "metadata": {},
   "outputs": [
    {
     "data": {
      "text/plain": [
       "5.0"
      ]
     },
     "execution_count": 280,
     "metadata": {},
     "output_type": "execute_result"
    }
   ],
   "source": [
    "test = get_model_weight_distances(rnd_fil_2_21)\n",
    "np.mean(np.nan_to_num(test[5]))"
   ]
  },
  {
   "cell_type": "code",
   "execution_count": 281,
   "id": "1ffe5a8e",
   "metadata": {},
   "outputs": [
    {
     "name": "stdout",
     "output_type": "stream",
     "text": [
      "5.47\n",
      "5.19\n",
      "5.05\n",
      "5.12\n",
      "5.19\n",
      "5.0\n"
     ]
    }
   ],
   "source": [
    "for i in range(6):\n",
    "    print(np.mean(np.nan_to_num(test[i])))"
   ]
  },
  {
   "cell_type": "code",
   "execution_count": null,
   "id": "2aa75123",
   "metadata": {},
   "outputs": [],
   "source": [
    "# this suggests that smart pruning leads to 4x closer cluster of weights \n",
    "# all this similar to the idea of NNSTD where position of weights is compared, but not high distances\n",
    "# not neccesarily punished if they are common to both networks that are getting compared\n",
    "# --> makes sense, the "
   ]
  },
  {
   "cell_type": "code",
   "execution_count": 404,
   "id": "c7561968",
   "metadata": {},
   "outputs": [
    {
     "data": {
      "text/plain": [
       "array([1, 2, 3, 4, 5])"
      ]
     },
     "execution_count": 404,
     "metadata": {},
     "output_type": "execute_result"
    }
   ],
   "source": [
    "np.unique(np.array([1,2,3,4,5,5,5]))"
   ]
  },
  {
   "cell_type": "code",
   "execution_count": 426,
   "id": "a7858eb6",
   "metadata": {},
   "outputs": [],
   "source": [
    "def count_clusters(model):\n",
    "     \n",
    "    clusters_model = []\n",
    "    for layer in model:\n",
    "        clusters_layer = []\n",
    "        for unit in layer:\n",
    "            clusters_unit = []\n",
    "            weight_idxs = np.argwhere(unit.flatten())\n",
    "            count = 0\n",
    "            for i in range(len(weight_idxs)):\n",
    "                try:\n",
    "                    if int(weight_idxs[i] + 1) == int(weight_idxs[i + 1]):\n",
    "                        clusters_unit.append(count)\n",
    "                    else:\n",
    "                        count += 1\n",
    "                        clusters_unit.append(count)\n",
    "                        \n",
    "                except:\n",
    "                    pass\n",
    "                        \n",
    "            clusters = len(np.unique(np.array(clusters_unit)))\n",
    "            clusters_layer.append(clusters)\n",
    "        \n",
    "        clusters_model.append(clusters_layer)   \n",
    "    \n",
    "    return clusters_model"
   ]
  },
  {
   "cell_type": "code",
   "execution_count": 427,
   "id": "3411b886",
   "metadata": {},
   "outputs": [],
   "source": [
    "lol = count_clusters(syn_fil_2_21)"
   ]
  },
  {
   "cell_type": "code",
   "execution_count": 447,
   "id": "3b465c0e",
   "metadata": {
    "scrolled": true
   },
   "outputs": [
    {
     "data": {
      "text/plain": [
       "[19,\n",
       " 21,\n",
       " 24,\n",
       " 20,\n",
       " 21,\n",
       " 21,\n",
       " 22,\n",
       " 20,\n",
       " 19,\n",
       " 23,\n",
       " 22,\n",
       " 19,\n",
       " 25,\n",
       " 18,\n",
       " 22,\n",
       " 17,\n",
       " 21,\n",
       " 20,\n",
       " 24,\n",
       " 20,\n",
       " 19,\n",
       " 28,\n",
       " 26,\n",
       " 19,\n",
       " 19,\n",
       " 21,\n",
       " 23,\n",
       " 23,\n",
       " 20,\n",
       " 24,\n",
       " 23,\n",
       " 25,\n",
       " 20,\n",
       " 23,\n",
       " 21,\n",
       " 17,\n",
       " 23,\n",
       " 20,\n",
       " 20,\n",
       " 23,\n",
       " 24,\n",
       " 18,\n",
       " 23,\n",
       " 23,\n",
       " 16,\n",
       " 24,\n",
       " 19,\n",
       " 21,\n",
       " 23,\n",
       " 25,\n",
       " 20,\n",
       " 21,\n",
       " 23,\n",
       " 21,\n",
       " 22,\n",
       " 19,\n",
       " 22,\n",
       " 21,\n",
       " 22,\n",
       " 23,\n",
       " 22,\n",
       " 19,\n",
       " 23,\n",
       " 21,\n",
       " 21,\n",
       " 18,\n",
       " 24,\n",
       " 26,\n",
       " 21,\n",
       " 21,\n",
       " 20,\n",
       " 23,\n",
       " 18,\n",
       " 22,\n",
       " 22,\n",
       " 21,\n",
       " 18,\n",
       " 20,\n",
       " 20,\n",
       " 21,\n",
       " 21,\n",
       " 26,\n",
       " 20,\n",
       " 18,\n",
       " 24,\n",
       " 20,\n",
       " 24,\n",
       " 22,\n",
       " 23,\n",
       " 25,\n",
       " 24,\n",
       " 25,\n",
       " 22,\n",
       " 21,\n",
       " 24,\n",
       " 25,\n",
       " 17,\n",
       " 22,\n",
       " 23,\n",
       " 23]"
      ]
     },
     "execution_count": 447,
     "metadata": {},
     "output_type": "execute_result"
    }
   ],
   "source": [
    "lol[1]"
   ]
  },
  {
   "cell_type": "code",
   "execution_count": 430,
   "id": "b1db508b",
   "metadata": {},
   "outputs": [],
   "source": [
    "lul = count_clusters(rnd_fil_2_21)"
   ]
  },
  {
   "cell_type": "code",
   "execution_count": 451,
   "id": "1c3c297d",
   "metadata": {
    "scrolled": true
   },
   "outputs": [
    {
     "data": {
      "text/plain": [
       "[133,\n",
       " 141,\n",
       " 154,\n",
       " 123,\n",
       " 131,\n",
       " 135,\n",
       " 133,\n",
       " 122,\n",
       " 122,\n",
       " 117,\n",
       " 123,\n",
       " 140,\n",
       " 133,\n",
       " 131,\n",
       " 122,\n",
       " 125,\n",
       " 125,\n",
       " 122,\n",
       " 132,\n",
       " 124,\n",
       " 132,\n",
       " 115,\n",
       " 134,\n",
       " 131,\n",
       " 121,\n",
       " 124,\n",
       " 118,\n",
       " 116,\n",
       " 134,\n",
       " 122,\n",
       " 120,\n",
       " 127,\n",
       " 117,\n",
       " 110,\n",
       " 118,\n",
       " 135,\n",
       " 125,\n",
       " 119,\n",
       " 132,\n",
       " 121,\n",
       " 143,\n",
       " 123,\n",
       " 120,\n",
       " 121,\n",
       " 141,\n",
       " 116,\n",
       " 126,\n",
       " 121,\n",
       " 136,\n",
       " 112,\n",
       " 128,\n",
       " 118,\n",
       " 123,\n",
       " 135,\n",
       " 134,\n",
       " 112,\n",
       " 112,\n",
       " 134,\n",
       " 113,\n",
       " 142,\n",
       " 128,\n",
       " 109,\n",
       " 121,\n",
       " 117,\n",
       " 141,\n",
       " 111,\n",
       " 118,\n",
       " 135,\n",
       " 111,\n",
       " 126,\n",
       " 132,\n",
       " 129,\n",
       " 137,\n",
       " 115,\n",
       " 132,\n",
       " 127,\n",
       " 120,\n",
       " 128,\n",
       " 136,\n",
       " 144,\n",
       " 117,\n",
       " 113,\n",
       " 123,\n",
       " 128,\n",
       " 128,\n",
       " 118,\n",
       " 117,\n",
       " 130,\n",
       " 125,\n",
       " 131,\n",
       " 139,\n",
       " 117,\n",
       " 132,\n",
       " 127,\n",
       " 122,\n",
       " 112,\n",
       " 127,\n",
       " 120,\n",
       " 135,\n",
       " 111]"
      ]
     },
     "execution_count": 451,
     "metadata": {},
     "output_type": "execute_result"
    }
   ],
   "source": [
    "lul[0]"
   ]
  },
  {
   "cell_type": "code",
   "execution_count": 449,
   "id": "7af49d80",
   "metadata": {},
   "outputs": [],
   "source": [
    "lel = count_clusters(gem_fil_2_21)"
   ]
  },
  {
   "cell_type": "code",
   "execution_count": 453,
   "id": "654b26fd",
   "metadata": {},
   "outputs": [
    {
     "data": {
      "text/plain": [
       "[3,\n",
       " 23,\n",
       " 0,\n",
       " 20,\n",
       " 3,\n",
       " 11,\n",
       " 2,\n",
       " 22,\n",
       " 24,\n",
       " 20,\n",
       " 17,\n",
       " 0,\n",
       " 1,\n",
       " 0,\n",
       " 21,\n",
       " 15,\n",
       " 25,\n",
       " 24,\n",
       " 2,\n",
       " 0,\n",
       " 24,\n",
       " 26,\n",
       " 20,\n",
       " 9,\n",
       " 19,\n",
       " 0,\n",
       " 2,\n",
       " 23,\n",
       " 0,\n",
       " 17,\n",
       " 22,\n",
       " 23,\n",
       " 16,\n",
       " 6,\n",
       " 27,\n",
       " 23,\n",
       " 8,\n",
       " 3,\n",
       " 20,\n",
       " 0,\n",
       " 0,\n",
       " 0,\n",
       " 12,\n",
       " 1,\n",
       " 12,\n",
       " 22,\n",
       " 28,\n",
       " 12,\n",
       " 0,\n",
       " 0,\n",
       " 23,\n",
       " 20,\n",
       " 22,\n",
       " 23,\n",
       " 0,\n",
       " 18,\n",
       " 0,\n",
       " 2,\n",
       " 1,\n",
       " 19,\n",
       " 20,\n",
       " 21,\n",
       " 23,\n",
       " 18,\n",
       " 26,\n",
       " 10,\n",
       " 24,\n",
       " 2,\n",
       " 1,\n",
       " 0,\n",
       " 3,\n",
       " 14,\n",
       " 16,\n",
       " 22,\n",
       " 0,\n",
       " 9,\n",
       " 0,\n",
       " 1,\n",
       " 21,\n",
       " 0,\n",
       " 2,\n",
       " 26,\n",
       " 18,\n",
       " 21,\n",
       " 0,\n",
       " 27,\n",
       " 19,\n",
       " 22,\n",
       " 0,\n",
       " 0,\n",
       " 19,\n",
       " 7,\n",
       " 24,\n",
       " 27,\n",
       " 23,\n",
       " 22,\n",
       " 0,\n",
       " 22,\n",
       " 11,\n",
       " 0]"
      ]
     },
     "execution_count": 453,
     "metadata": {},
     "output_type": "execute_result"
    }
   ],
   "source": [
    "lel[2]"
   ]
  },
  {
   "cell_type": "code",
   "execution_count": 422,
   "id": "c48f4dca",
   "metadata": {},
   "outputs": [
    {
     "data": {
      "text/plain": [
       "array([[  6],\n",
       "       [ 20],\n",
       "       [ 21],\n",
       "       [ 22],\n",
       "       [ 39],\n",
       "       [ 43],\n",
       "       [ 49],\n",
       "       [ 53],\n",
       "       [ 56],\n",
       "       [ 59],\n",
       "       [ 72],\n",
       "       [ 80],\n",
       "       [ 84],\n",
       "       [ 94],\n",
       "       [105],\n",
       "       [110],\n",
       "       [111],\n",
       "       [127],\n",
       "       [131],\n",
       "       [132],\n",
       "       [140],\n",
       "       [162],\n",
       "       [180],\n",
       "       [188],\n",
       "       [189],\n",
       "       [204],\n",
       "       [222],\n",
       "       [227],\n",
       "       [231],\n",
       "       [232],\n",
       "       [236],\n",
       "       [246],\n",
       "       [249],\n",
       "       [255],\n",
       "       [259],\n",
       "       [261],\n",
       "       [264],\n",
       "       [267],\n",
       "       [279],\n",
       "       [289],\n",
       "       [302],\n",
       "       [320],\n",
       "       [331],\n",
       "       [336],\n",
       "       [343],\n",
       "       [357],\n",
       "       [370],\n",
       "       [376],\n",
       "       [387],\n",
       "       [397],\n",
       "       [410],\n",
       "       [435],\n",
       "       [441],\n",
       "       [445],\n",
       "       [447],\n",
       "       [449],\n",
       "       [460],\n",
       "       [477],\n",
       "       [479],\n",
       "       [480],\n",
       "       [481],\n",
       "       [483],\n",
       "       [488],\n",
       "       [490],\n",
       "       [491],\n",
       "       [501],\n",
       "       [502],\n",
       "       [519],\n",
       "       [527],\n",
       "       [532],\n",
       "       [537],\n",
       "       [539],\n",
       "       [548],\n",
       "       [550],\n",
       "       [559],\n",
       "       [568],\n",
       "       [597],\n",
       "       [604],\n",
       "       [612],\n",
       "       [618],\n",
       "       [629],\n",
       "       [630],\n",
       "       [642],\n",
       "       [645],\n",
       "       [648],\n",
       "       [666],\n",
       "       [681],\n",
       "       [693],\n",
       "       [709],\n",
       "       [726],\n",
       "       [742],\n",
       "       [748],\n",
       "       [753],\n",
       "       [754],\n",
       "       [757],\n",
       "       [759],\n",
       "       [762],\n",
       "       [782]])"
      ]
     },
     "execution_count": 422,
     "metadata": {},
     "output_type": "execute_result"
    }
   ],
   "source": [
    "np.argwhere(syn_fil_2_21[0][2].flatten())"
   ]
  },
  {
   "cell_type": "code",
   "execution_count": null,
   "id": "fdda6d98",
   "metadata": {},
   "outputs": [],
   "source": []
  }
 ],
 "metadata": {
  "kernelspec": {
   "display_name": "Python 3 (ipykernel)",
   "language": "python",
   "name": "python3"
  },
  "language_info": {
   "codemirror_mode": {
    "name": "ipython",
    "version": 3
   },
   "file_extension": ".py",
   "mimetype": "text/x-python",
   "name": "python",
   "nbconvert_exporter": "python",
   "pygments_lexer": "ipython3",
   "version": "3.10.6"
  }
 },
 "nbformat": 4,
 "nbformat_minor": 5
}
