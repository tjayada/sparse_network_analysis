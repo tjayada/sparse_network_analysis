{
 "cells": [
  {
   "cell_type": "markdown",
   "id": "4330ef9b",
   "metadata": {},
   "source": [
    "# Import Libraries"
   ]
  },
  {
   "cell_type": "code",
   "execution_count": 1,
   "id": "f7ffec74",
   "metadata": {},
   "outputs": [],
   "source": [
    "import torch\n",
    "import torchvision\n",
    "import torchvision.transforms as transforms\n",
    "import matplotlib.pyplot as plt\n",
    "import pandas as pd\n",
    "import numpy as np\n",
    "import networkx as nx\n",
    "import copy\n",
    "import warnings\n",
    "warnings.filterwarnings('ignore')"
   ]
  },
  {
   "cell_type": "code",
   "execution_count": 2,
   "id": "1cc7ccab",
   "metadata": {},
   "outputs": [],
   "source": [
    "from load_models import *\n",
    "from syngem_utils import *"
   ]
  },
  {
   "cell_type": "code",
   "execution_count": 3,
   "id": "b2addbd7",
   "metadata": {},
   "outputs": [],
   "source": [
    "torch.manual_seed(42)\n",
    "np.random.seed(42)"
   ]
  },
  {
   "cell_type": "markdown",
   "id": "9b69f472",
   "metadata": {},
   "source": [
    "# Load models with 50 % sparsity"
   ]
  },
  {
   "cell_type": "code",
   "execution_count": 4,
   "id": "b7dd2638",
   "metadata": {},
   "outputs": [
    {
     "name": "stdout",
     "output_type": "stream",
     "text": [
      "=> Reading YAML config from Configs/hypercube/resnet20/resnet20_quantized_iter_hc_target_sparsity_1_4_highreg.yml\n",
      "=> Reading YAML config from Configs/synflow_fc.yml\n"
     ]
    }
   ],
   "source": [
    "gem_model_50_21 = load_gemini_fc_50_sparsity_seed_21()\n",
    "gem_model_50_42 = load_gemini_fc_50_sparsity_seed_42()\n",
    "gem_model_50_63 = load_gemini_fc_50_sparsity_seed_63()"
   ]
  },
  {
   "cell_type": "code",
   "execution_count": null,
   "id": "7d49144b",
   "metadata": {},
   "outputs": [],
   "source": [
    "syn_model_50_21 = load_synflow_fc_sparsity_50_seed_21()\n",
    "syn_model_50_42 = load_synflow_fc_sparsity_50_seed_42()\n",
    "syn_model_50_63 = load_synflow_fc_sparsity_50_seed_63()"
   ]
  },
  {
   "cell_type": "code",
   "execution_count": null,
   "id": "176366e7",
   "metadata": {},
   "outputs": [],
   "source": [
    "rnd_model_50_21 = load_random_fc_sparsity_50_seed_21()\n",
    "rnd_model_50_42 = load_random_fc_sparsity_50_seed_42()\n",
    "rnd_model_50_63 = load_random_fc_sparsity_50_seed_63()"
   ]
  },
  {
   "cell_type": "markdown",
   "id": "80a3ee92",
   "metadata": {},
   "source": [
    "# Structural Analysis"
   ]
  },
  {
   "cell_type": "markdown",
   "id": "9dad863b",
   "metadata": {},
   "source": [
    "### Get sparsities"
   ]
  },
  {
   "cell_type": "code",
   "execution_count": null,
   "id": "191c2c2e",
   "metadata": {},
   "outputs": [],
   "source": [
    "sprse_gem_50_21 = check_sparsity(gem_model_50_21, single = True)\n",
    "sprse_gem_50_42 = check_sparsity(gem_model_50_42, single = True)\n",
    "sprse_gem_50_63 = check_sparsity(gem_model_50_63, single = True)"
   ]
  },
  {
   "cell_type": "code",
   "execution_count": null,
   "id": "7707fa29",
   "metadata": {},
   "outputs": [],
   "source": [
    "sprse_syn_50_21 = check_sparsity(syn_model_50_21, single = True)\n",
    "sprse_syn_50_42 = check_sparsity(syn_model_50_42, single = True)\n",
    "sprse_syn_50_63 = check_sparsity(syn_model_50_63, single = True)"
   ]
  },
  {
   "cell_type": "code",
   "execution_count": null,
   "id": "509f6c21",
   "metadata": {},
   "outputs": [],
   "source": [
    "sprse_rnd_50_21 = check_sparsity(rnd_model_50_21, single = True)\n",
    "sprse_rnd_50_42 = check_sparsity(rnd_model_50_42, single = True)\n",
    "sprse_rnd_50_63 = check_sparsity(rnd_model_50_63, single = True)"
   ]
  },
  {
   "cell_type": "markdown",
   "id": "84c27046",
   "metadata": {},
   "source": [
    "### Sparsity tables"
   ]
  },
  {
   "cell_type": "code",
   "execution_count": null,
   "id": "d7f42dd5",
   "metadata": {
    "scrolled": false
   },
   "outputs": [],
   "source": [
    "make_table(sprse_gem_50_21, sprse_gem_50_42, sprse_gem_50_63, \"gem miner 50% sparsity\")"
   ]
  },
  {
   "cell_type": "code",
   "execution_count": null,
   "id": "6279dfdc",
   "metadata": {},
   "outputs": [],
   "source": [
    "table = make_table(sprse_syn_50_21, sprse_syn_50_42, sprse_syn_50_63, \"synflow 50% sparsity\")"
   ]
  },
  {
   "cell_type": "code",
   "execution_count": null,
   "id": "9296c3c7",
   "metadata": {},
   "outputs": [],
   "source": [
    "table = make_table(sprse_rnd_50_21, sprse_rnd_50_42, sprse_rnd_50_63, \"random 50% sparsity\")"
   ]
  },
  {
   "cell_type": "markdown",
   "id": "2c9caa84",
   "metadata": {},
   "source": [
    "### Plot sparsities"
   ]
  },
  {
   "cell_type": "code",
   "execution_count": null,
   "id": "1ae4bb0d",
   "metadata": {},
   "outputs": [],
   "source": [
    "x_axis = [1,2,3,4,5,6,\"model\"]\n",
    "\n",
    "fig, ax = plt.subplots(figsize=(8, 5), layout='constrained')\n",
    "\n",
    "ax.plot(x_axis,list(sprse_gem_50_21.values()), label='gem_50_21', marker='o')\n",
    "ax.plot(x_axis,list(sprse_gem_50_42.values()), label='gem_50_42', marker='o')\n",
    "ax.plot(x_axis,list(sprse_gem_50_63.values()), label='gem_50_63', marker='o')\n",
    "\n",
    "ax.plot(x_axis,list(sprse_syn_50_21.values()), label='syn_50_21', marker='x')\n",
    "ax.plot(x_axis,list(sprse_syn_50_42.values()), label='syn_50_42', marker='x')\n",
    "ax.plot(x_axis,list(sprse_syn_50_63.values()), label='syn_50_63', marker='x')\n",
    "\n",
    "ax.plot(x_axis,list(sprse_rnd_50_21.values()), label='rnd_50_21', marker='.')\n",
    "ax.plot(x_axis,list(sprse_rnd_50_42.values()), label='rnd_50_42', marker='.')\n",
    "ax.plot(x_axis,list(sprse_rnd_50_63.values()), label='rnd_50_63', marker='.')\n",
    "\n",
    "ax.set_xlabel(\"Layers\", fontsize=14)\n",
    "ax.set_ylabel(\"Absolute Sparsity per Layer\", fontsize=14)\n",
    "\n",
    "ax.legend()\n",
    "plt.show()"
   ]
  },
  {
   "cell_type": "code",
   "execution_count": null,
   "id": "7144394c",
   "metadata": {},
   "outputs": [],
   "source": [
    "x_axis = [1,2,3,4,5,6,\"model\"]\n",
    "\n",
    "fig, ax = plt.subplots(figsize=(8, 5), layout='constrained')\n",
    "\n",
    "gem_mean = (np.array(list(sprse_gem_50_21.values())) + \n",
    "            np.array(list(sprse_gem_50_42.values())) +\n",
    "            np.array(list(sprse_gem_50_63.values()))) / 3\n",
    "ax.plot(x_axis, gem_mean, label='gem_50_mean')\n",
    "\n",
    "\n",
    "syn_mean = (np.array(list(sprse_syn_50_21.values())) + \n",
    "            np.array(list(sprse_syn_50_42.values())) + \n",
    "            np.array(list(sprse_syn_50_63.values()))) / 3\n",
    "ax.plot(x_axis, syn_mean, label='syn_50_mean')\n",
    "\n",
    "\n",
    "rnd_mean = (np.array(list(sprse_rnd_50_21.values())) + \n",
    "            np.array(list(sprse_rnd_50_42.values())) + \n",
    "            np.array(list(sprse_rnd_50_63.values()))) / 3\n",
    "ax.plot(x_axis, rnd_mean, label='rnd_50_mean')\n",
    "\n",
    "ax.set_xlabel(\"Layers\", fontsize=14)\n",
    "ax.set_ylabel(\"Absolute Sparsity per Layer (mean) \", fontsize=14)\n",
    "\n",
    "ax.legend()\n",
    "plt.show()"
   ]
  },
  {
   "cell_type": "markdown",
   "id": "6a0012d2",
   "metadata": {},
   "source": [
    "### Get units"
   ]
  },
  {
   "cell_type": "code",
   "execution_count": null,
   "id": "8f9ad091",
   "metadata": {},
   "outputs": [],
   "source": [
    "gem_fil_50_21 = get_filters(gem_model_50_21)\n",
    "gem_fil_50_42 = get_filters(gem_model_50_42)\n",
    "gem_fil_50_63 = get_filters(gem_model_50_63)"
   ]
  },
  {
   "cell_type": "code",
   "execution_count": null,
   "id": "71cf2016",
   "metadata": {},
   "outputs": [],
   "source": [
    "syn_fil_50_21 = get_filters(syn_model_50_21)\n",
    "syn_fil_50_42 = get_filters(syn_model_50_42)\n",
    "syn_fil_50_63 = get_filters(syn_model_50_63)"
   ]
  },
  {
   "cell_type": "code",
   "execution_count": null,
   "id": "c22fd637",
   "metadata": {},
   "outputs": [],
   "source": [
    "rnd_fil_50_21 = get_filters(rnd_model_50_21)\n",
    "rnd_fil_50_42 = get_filters(rnd_model_50_42)\n",
    "rnd_fil_50_63 = get_filters(rnd_model_50_63)"
   ]
  },
  {
   "cell_type": "markdown",
   "id": "b7901b5f",
   "metadata": {},
   "source": [
    "### Define distance measures"
   ]
  },
  {
   "cell_type": "code",
   "execution_count": null,
   "id": "ff243e5e",
   "metadata": {},
   "outputs": [],
   "source": [
    "# code from Liu et al 2020\n",
    "# https://github.com/Shiweiliuiiiiiii/Sparse_Topology_Distance/blob/master/sparse_topology_distance.py\n",
    "\n",
    "def getNormalizedEditDistance(a, b):\n",
    "\n",
    "    # for two hidden neuron trees, return 1 if they are completely different, 0 if they are exactly the same\n",
    "    if (len(a) == 0 and len(b) == 0):\n",
    "        return 0\n",
    "    intersect, inda, indb = np.intersect1d(a, b, return_indices=True)\n",
    "    if (intersect.shape[0] > 0):\n",
    "        edit = np.delete(a, inda).shape[0] + np.delete(b, indb).shape[0]\n",
    "        normalizedEdit = edit / np.unique(np.concatenate((a, b), axis=0)).shape[0]\n",
    "    else:\n",
    "        normalizedEdit = 1\n",
    "    return normalizedEdit"
   ]
  },
  {
   "cell_type": "code",
   "execution_count": null,
   "id": "619e4081",
   "metadata": {},
   "outputs": [],
   "source": [
    "# code from Holler 2022\n",
    "# https://github.com/Holleri/code_bachelor_thesis/blob/main/code_Distances/SaSD%20first-layer-first.ipynb\n",
    "\n",
    "def editDistanceSigns(a,b):\n",
    "    nums = len(a) - len(np.intersect1d(np.where(b==0), np.where(a==0)))\n",
    "    same = len(np.intersect1d(np.where(a<0), np.where(b<0))) + len(np.intersect1d(np.where(a>0), np.where(b>0)))\n",
    "    if nums == 0:\n",
    "        return 0\n",
    "    return (nums-same)/nums"
   ]
  },
  {
   "cell_type": "code",
   "execution_count": null,
   "id": "f28ccec2",
   "metadata": {},
   "outputs": [],
   "source": [
    "def mean_absolute_error_distance(a,b):\n",
    "    \n",
    "    a_flat_sort = np.sort(a.flatten())\n",
    "    b_flat_sort = np.flip(np.sort(b.flatten()))\n",
    "    \n",
    "    worst_alignment = sum(abs(a_flat_sort - b_flat_sort))\n",
    "\n",
    "    dist = sum(abs(a - b).flatten()) / worst_alignment\n",
    "    \n",
    "    return dist"
   ]
  },
  {
   "cell_type": "markdown",
   "id": "74f3192b",
   "metadata": {},
   "source": [
    "### Get all distances between unordered models"
   ]
  },
  {
   "cell_type": "code",
   "execution_count": null,
   "id": "d04112ba",
   "metadata": {},
   "outputs": [],
   "source": [
    "fil_1 = gem_fil_50_21\n",
    "fil_2 = syn_fil_50_21\n",
    "\n",
    "all_dist_matrices_un = []\n",
    "\n",
    "for x in range(len(fil_1)):\n",
    "    new_mat = np.zeros((len(fil_1[x]), len(fil_2[x])), dtype=float)\n",
    "    \n",
    "    for i in range(len(fil_1[x])):\n",
    "        for j in range(len(fil_2[x])):\n",
    "            dist = 0\n",
    "\n",
    "            dist = editDistanceSigns(fil_1[x][i].flatten(),fil_2[x][j].flatten())\n",
    "\n",
    "            new_mat[i][j] = dist\n",
    "            \n",
    "    all_dist_matrices_un.append(new_mat)"
   ]
  },
  {
   "cell_type": "markdown",
   "id": "45db3758",
   "metadata": {},
   "source": [
    "### Get all distances between ordered models"
   ]
  },
  {
   "cell_type": "code",
   "execution_count": null,
   "id": "a9af64a2",
   "metadata": {},
   "outputs": [],
   "source": [
    "fil_1 = gem_fil_50_21\n",
    "fil_2 = order_by_dist(gem_fil_50_21, syn_fil_50_21, editDistanceSigns, fc=True)\n",
    "\n",
    "all_dist_matrices_or = []\n",
    "\n",
    "for x in range(len(fil_1)):\n",
    "    new_mat = np.zeros((len(fil_1[x]), len(fil_2[x])), dtype=float)\n",
    "    \n",
    "    for i in range(len(fil_1[x])):\n",
    "        for j in range(len(fil_2[x])):\n",
    "            dist = 0\n",
    "\n",
    "            dist = editDistanceSigns(fil_1[x][i].flatten(),fil_2[x][j].flatten())\n",
    "\n",
    "            new_mat[i][j] = dist\n",
    "            \n",
    "    all_dist_matrices_or.append(new_mat)"
   ]
  },
  {
   "cell_type": "markdown",
   "id": "e6b76b6f",
   "metadata": {},
   "source": [
    "### Plot ordered and unordered distances "
   ]
  },
  {
   "cell_type": "code",
   "execution_count": null,
   "id": "baf8caf0",
   "metadata": {},
   "outputs": [],
   "source": [
    "fig, axs = plt.subplots(nrows=2, ncols=6, figsize=(12,4))\n",
    "\n",
    "counter = 0\n",
    "\n",
    "all_dists = all_dist_matrices_un + all_dist_matrices_or\n",
    "\n",
    "dist = 0\n",
    "counter = 0\n",
    "\n",
    "for ax in axs.flat:\n",
    "    if counter == 6:\n",
    "        dist = 0\n",
    "        \n",
    "    img = all_dists[counter]\n",
    "    ax.imshow(img, cmap = \"rainbow\")\n",
    "\n",
    "    if counter == 0:\n",
    "        ax.set_title(f\"layer_{counter + 1}\")\n",
    "        ax.set_ylabel(\"unordered\")\n",
    "\n",
    "    if counter < 6:\n",
    "        ax.set_title(f\"layer_{counter + 1}\")\n",
    "    \n",
    "    if counter == 6:\n",
    "        ax.set_ylabel(\"ordered\")\n",
    "        \n",
    "    dist += sum(all_dists[counter].diagonal()) / (len(all_dists[counter].diagonal()))\n",
    "\n",
    "    if counter == 5 or counter == 11:\n",
    "        dist = np.round(dist / 6, 2)\n",
    "\n",
    "        ax.yaxis.set_label_position(\"right\")\n",
    "        ax.set_ylabel(f\"{dist}\", rotation=0, labelpad=18)\n",
    "\n",
    "    ax.tick_params(bottom=False, labelbottom=False, left=False, labelleft=False)\n",
    "    counter += 1\n",
    "\n",
    "plt.tight_layout()\n",
    "plt.show()"
   ]
  },
  {
   "cell_type": "markdown",
   "id": "172943a7",
   "metadata": {},
   "source": [
    "### Compare all models with each other based on mean absolutes error distance"
   ]
  },
  {
   "cell_type": "code",
   "execution_count": null,
   "id": "74dda336",
   "metadata": {
    "scrolled": true
   },
   "outputs": [],
   "source": [
    "all_model_names =  [\"gem_21\", \"gem_42\", \"gem_63\",\n",
    "                    \"syn_21\", \"syn_42\", \"syn_63\",\n",
    "                    \"rnd_21\", \"rnd_42\", \"rnd_63\"]\n",
    "\n",
    "all_models = [gem_fil_50_21, gem_fil_50_42, gem_fil_50_63,\n",
    "              syn_fil_50_21, syn_fil_50_42, syn_fil_50_63,\n",
    "              rnd_fil_50_21, rnd_fil_50_42, rnd_fil_50_63]\n",
    "\n",
    "all_dist_combinations = []\n",
    "new_mat_mean = np.zeros((9, 9), dtype=float)\n",
    "\n",
    "for i in range(len(all_models)):\n",
    "    for j in range(len(all_models)):\n",
    "        if i != j:\n",
    "            combi = all_model_names[i] + all_model_names[j]\n",
    "            if combi not in all_dist_combinations:\n",
    "                dist = 0\n",
    "                ordered_model = order_by_dist(all_models[i], all_models[j], mean_absolute_error_distance, fc = True)\n",
    "\n",
    "                for layer in range(len(all_models[i])):  \n",
    "                    dist += mean_absolute_error_distance(all_models[i][layer].flatten(),ordered_model[layer].flatten())\n",
    "                \n",
    "                dist = dist / len(all_models[i])\n",
    "                \n",
    "                new_mat_mean[i][j] = dist\n",
    "                new_mat_mean[j][i] = dist\n",
    "                \n",
    "                all_dist_combinations.append(all_model_names[i] + all_model_names[j])\n",
    "                all_dist_combinations.append(all_model_names[j] + all_model_names[i])\n",
    " \n",
    "    "
   ]
  },
  {
   "cell_type": "code",
   "execution_count": null,
   "id": "e0fe718b",
   "metadata": {},
   "outputs": [],
   "source": [
    "fig, ax = plt.subplots()\n",
    "img = ax.imshow(new_mat_mean)\n",
    "\n",
    "ax.set_yticks(np.arange(0,9,1))\n",
    "ax.tick_params(axis=\"y\")\n",
    "ax.set_yticklabels(all_model_names)\n",
    "\n",
    "ax.set_xticks(np.arange(0,9,1))\n",
    "ax.tick_params(axis=\"x\", rotation=90)\n",
    "ax.set_xticklabels(all_model_names)\n",
    "ax.set_title(\"Distances based on Mean Error\", fontsize = 14,pad= 30)\n",
    "fig.colorbar(img)\n",
    "fig.show()"
   ]
  },
  {
   "cell_type": "markdown",
   "id": "1ce9a792",
   "metadata": {},
   "source": [
    "### Compare all models with each other based on edit distance signs measure"
   ]
  },
  {
   "cell_type": "code",
   "execution_count": null,
   "id": "93a99d02",
   "metadata": {},
   "outputs": [],
   "source": [
    "all_model_names =  [\"gem_21\", \"gem_42\", \"gem_63\",\n",
    "                    \"syn_21\", \"syn_42\", \"syn_63\",\n",
    "                    \"rnd_21\", \"rnd_42\", \"rnd_63\"]\n",
    "\n",
    "all_models = [gem_fil_50_21, gem_fil_50_42, gem_fil_50_63,\n",
    "              syn_fil_50_21, syn_fil_50_42, syn_fil_50_63,\n",
    "              rnd_fil_50_21, rnd_fil_50_42, rnd_fil_50_63]\n",
    "\n",
    "all_dist_combinations = []\n",
    "new_mat_signs = np.zeros((9, 9), dtype=float)\n",
    "\n",
    "for i in range(len(all_models)):\n",
    "    for j in range(len(all_models)):\n",
    "        if i != j:\n",
    "            combi = all_model_names[i] + all_model_names[j]\n",
    "            if combi not in all_dist_combinations:\n",
    "                dist = 0\n",
    "                ordered_model = order_by_dist(all_models[i], all_models[j], editDistanceSigns, fc = True)\n",
    "\n",
    "                for layer in range(len(all_models[i])):  \n",
    "                    dist += editDistanceSigns(all_models[i][layer].flatten(),ordered_model[layer].flatten())\n",
    "                \n",
    "                dist = dist / len(all_models[i])\n",
    "                \n",
    "                new_mat_signs[i][j] = dist\n",
    "                new_mat_signs[j][i] = dist\n",
    "          \n",
    "                all_dist_combinations.append(all_model_names[i] + all_model_names[j])\n",
    "                all_dist_combinations.append(all_model_names[j] + all_model_names[i])\n",
    " \n",
    "    "
   ]
  },
  {
   "cell_type": "code",
   "execution_count": null,
   "id": "cd1ca852",
   "metadata": {
    "scrolled": false
   },
   "outputs": [],
   "source": [
    "fig, ax = plt.subplots()\n",
    "img = ax.imshow(new_mat_signs)\n",
    "\n",
    "ax.set_yticks(np.arange(0,9,1))\n",
    "ax.tick_params(axis=\"y\")\n",
    "ax.set_yticklabels(all_model_names)\n",
    "\n",
    "ax.set_xticks(np.arange(0,9,1))\n",
    "ax.tick_params(axis=\"x\", rotation=90)\n",
    "ax.set_xticklabels(all_model_names)\n",
    "fig.colorbar(img)\n",
    "fig.show()"
   ]
  },
  {
   "cell_type": "markdown",
   "id": "fb9ac7aa",
   "metadata": {},
   "source": [
    "### Compare all models with each other based on normalized edit distance measure"
   ]
  },
  {
   "cell_type": "code",
   "execution_count": null,
   "id": "1c489f22",
   "metadata": {},
   "outputs": [],
   "source": [
    "all_model_names =  [\"gem_21\", \"gem_42\", \"gem_63\",\n",
    "                    \"syn_21\", \"syn_42\", \"syn_63\",\n",
    "                    \"rnd_21\", \"rnd_42\", \"rnd_63\"]\n",
    "\n",
    "all_models = [gem_fil_50_21, gem_fil_50_42, gem_fil_50_63,\n",
    "              syn_fil_50_21, syn_fil_50_42, syn_fil_50_63,\n",
    "              rnd_fil_50_21, rnd_fil_50_42, rnd_fil_50_63]\n",
    "\n",
    "all_dist_combinations = []\n",
    "new_mat_edit = np.zeros((9, 9), dtype=float)\n",
    "\n",
    "for i in range(len(all_models)):\n",
    "    for j in range(len(all_models)):\n",
    "        if i != j:\n",
    "            combi = all_model_names[i] + all_model_names[j]\n",
    "            if combi not in all_dist_combinations:        \n",
    "                dist = 0\n",
    "                ordered_model = order_by_dist(all_models[i], all_models[j], getNormalizedEditDistance, fc = True, nED=True)\n",
    "\n",
    "                for layer in range(len(all_models[i])):  \n",
    "                    dist += getNormalizedEditDistance(np.nonzero(all_models[i][layer].flatten())[0],np.nonzero(ordered_model[layer].flatten())[0])\n",
    "                \n",
    "                dist = dist / len(all_models[i])\n",
    "                \n",
    "                new_mat_edit[i][j] = dist\n",
    "                new_mat_edit[j][i] = dist\n",
    "                \n",
    "                all_dist_combinations.append(all_model_names[i] + all_model_names[j])\n",
    "                all_dist_combinations.append(all_model_names[j] + all_model_names[i])\n",
    " \n",
    "    "
   ]
  },
  {
   "cell_type": "code",
   "execution_count": null,
   "id": "9e6472ce",
   "metadata": {},
   "outputs": [],
   "source": [
    "fig, ax = plt.subplots()\n",
    "img = ax.imshow(new_mat_edit)\n",
    "\n",
    "ax.set_yticks(np.arange(0,9,1))\n",
    "ax.tick_params(axis=\"y\")\n",
    "ax.set_yticklabels(all_model_names)\n",
    "\n",
    "ax.set_xticks(np.arange(0,9,1))\n",
    "ax.tick_params(axis=\"x\", rotation=90)\n",
    "ax.set_xticklabels(all_model_names)\n",
    "fig.colorbar(img)\n",
    "fig.show()"
   ]
  },
  {
   "cell_type": "markdown",
   "id": "ad4a69b0",
   "metadata": {},
   "source": [
    " "
   ]
  },
  {
   "cell_type": "markdown",
   "id": "092eb2dc",
   "metadata": {},
   "source": [
    " "
   ]
  },
  {
   "cell_type": "markdown",
   "id": "cf028171",
   "metadata": {},
   "source": [
    " "
   ]
  },
  {
   "cell_type": "markdown",
   "id": "7b11d71b",
   "metadata": {},
   "source": [
    "# Semantic analysis"
   ]
  },
  {
   "cell_type": "markdown",
   "id": "b2b26f45",
   "metadata": {},
   "source": [
    "### Load data set"
   ]
  },
  {
   "cell_type": "code",
   "execution_count": null,
   "id": "978ae9cc",
   "metadata": {},
   "outputs": [],
   "source": [
    "batch_of_images_mnist = get_images_mnist(batch_size = 600)"
   ]
  },
  {
   "cell_type": "code",
   "execution_count": null,
   "id": "b5992878",
   "metadata": {},
   "outputs": [],
   "source": [
    "images_mnist, _ = batch_of_images_mnist.get_new_images(output = True)\n",
    "batch_of_images_mnist.display((8,4), unique = 10)"
   ]
  },
  {
   "cell_type": "markdown",
   "id": "2ff391f5",
   "metadata": {},
   "source": [
    "### Get activations over data from units"
   ]
  },
  {
   "cell_type": "code",
   "execution_count": null,
   "id": "67e47374",
   "metadata": {},
   "outputs": [],
   "source": [
    "gem_fm_50_21 = get_activation_series(images_mnist, gem_fil_50_21, \"all\")\n",
    "gem_fm_50_42 = get_activation_series(images_mnist, gem_fil_50_42, \"all\")\n",
    "gem_fm_50_63 = get_activation_series(images_mnist, gem_fil_50_63, \"all\")\n",
    "\n",
    "\n",
    "syn_fm_50_21 = get_activation_series(images_mnist, syn_fil_50_21, \"all\")\n",
    "syn_fm_50_42 = get_activation_series(images_mnist, syn_fil_50_42, \"all\")\n",
    "syn_fm_50_63 = get_activation_series(images_mnist, syn_fil_50_63, \"all\")\n",
    "\n",
    "\n",
    "rnd_fm_50_21 = get_activation_series(images_mnist, rnd_fil_50_21, \"all\")\n",
    "rnd_fm_50_42 = get_activation_series(images_mnist, rnd_fil_50_42, \"all\")\n",
    "rnd_fm_50_63 = get_activation_series(images_mnist, rnd_fil_50_63, \"all\")"
   ]
  },
  {
   "cell_type": "markdown",
   "id": "86eaa821",
   "metadata": {},
   "source": [
    "### Get correlations of activations"
   ]
  },
  {
   "cell_type": "code",
   "execution_count": null,
   "id": "4fce26cf",
   "metadata": {},
   "outputs": [],
   "source": [
    "gem_gem_21_42_cor = get_correlation(gem_fm_50_21, gem_fm_50_42)\n",
    "gem_gem_21_63_cor = get_correlation(gem_fm_50_21, gem_fm_50_63)\n",
    "gem_gem_42_63_cor = get_correlation(gem_fm_50_42, gem_fm_50_63)\n",
    "\n",
    "\n",
    "syn_syn_21_42_cor = get_correlation(syn_fm_50_21, syn_fm_50_42)\n",
    "syn_syn_21_63_cor = get_correlation(syn_fm_50_21, syn_fm_50_63)\n",
    "syn_syn_42_63_cor = get_correlation(syn_fm_50_42, syn_fm_50_63)\n",
    "\n",
    "\n",
    "rnd_rnd_21_42_cor = get_correlation(rnd_fm_50_21, rnd_fm_50_42)\n",
    "rnd_rnd_21_63_cor = get_correlation(rnd_fm_50_21, rnd_fm_50_63)\n",
    "rnd_rnd_42_63_cor = get_correlation(rnd_fm_50_42, rnd_fm_50_63)"
   ]
  },
  {
   "cell_type": "markdown",
   "id": "8656b914",
   "metadata": {},
   "source": [
    "### Plot correlations for gem miner"
   ]
  },
  {
   "cell_type": "code",
   "execution_count": null,
   "id": "ea5d1870",
   "metadata": {},
   "outputs": [],
   "source": [
    "gem_cor = [gem_gem_21_42_cor, gem_gem_21_63_cor, gem_gem_42_63_cor]\n",
    "gem_cor_names = [\"gem_gem_21_42_cor\", \"gem_gem_21_63_cor\", \"gem_gem_42_63_cor\"]\n",
    "\n",
    "for i in range(3):\n",
    "    fig, axs = plt.subplots(nrows=1, ncols=6, figsize=(12,8))\n",
    "    counter = 0\n",
    "    dist = 0\n",
    "    for ax in axs.flat:\n",
    "        img = gem_cor[i][counter]\n",
    "        ax.imshow(img, cmap = \"rainbow\")\n",
    "        \n",
    "        if i == 0:\n",
    "            ax.set_title(f\"layer_{counter + 1}\")\n",
    "        \n",
    "        if counter == 0:\n",
    "            ax.set_ylabel(f\"{gem_cor_names[i]}\")\n",
    "            \n",
    "        dist += sum(gem_cor[i][counter].diagonal()) / (len(gem_cor[i][counter].diagonal()))\n",
    "        \n",
    "        if counter == 5:\n",
    "            dist = np.round(dist / 6, 2)\n",
    "            \n",
    "            ax.yaxis.set_label_position(\"right\")\n",
    "            ax.set_ylabel(f\"{dist}\", rotation=0, labelpad=18)\n",
    "\n",
    "        ax.tick_params(bottom=False, labelbottom=False, left=False, labelleft=False)\n",
    "        counter += 1\n",
    "\n",
    "    plt.tight_layout()\n",
    "    plt.show()"
   ]
  },
  {
   "cell_type": "markdown",
   "id": "4f804c52",
   "metadata": {},
   "source": [
    "### Order gem miner models for better comparrison"
   ]
  },
  {
   "cell_type": "code",
   "execution_count": null,
   "id": "2e11a5b1",
   "metadata": {},
   "outputs": [],
   "source": [
    "all_gem_gem_max_matched_matrices = []\n",
    "all_gem_gem_semi_matched_matrices = []\n",
    "\n",
    "for i in range(3):\n",
    "    max_matched_matrices = []\n",
    "    semi_matched_matrices = []\n",
    "    for j in range(6):\n",
    "        \n",
    "        gem_gem_match_semi_no_diag = find_semi_matching(gem_cor[i][j])\n",
    "        gem_gem_mat_semi = change_mat(gem_cor[i][j],gem_gem_match_semi_no_diag)\n",
    "\n",
    "        semi_matched_matrices.append(gem_gem_mat_semi)\n",
    "\n",
    "        gem_gem_match_max_no_diag = find_max_matching(gem_cor[i][j])\n",
    "        gem_gem_mat_max = change_mat(gem_cor[i][j],gem_gem_match_max_no_diag)\n",
    "\n",
    "        max_matched_matrices.append(gem_gem_mat_max)\n",
    "    \n",
    "    all_gem_gem_max_matched_matrices.append(max_matched_matrices)\n",
    "    all_gem_gem_semi_matched_matrices.append(semi_matched_matrices)"
   ]
  },
  {
   "cell_type": "code",
   "execution_count": null,
   "id": "5b18c52b",
   "metadata": {},
   "outputs": [],
   "source": [
    "for i in range(3):\n",
    "    fig, axs = plt.subplots(nrows=1, ncols=6, figsize=(14,10))\n",
    "    counter = 0\n",
    "    dist = 0\n",
    "    for ax in axs.flat:\n",
    "        img = all_gem_gem_max_matched_matrices[i][counter]\n",
    "        ax.imshow(img, cmap = \"rainbow\")\n",
    "        \n",
    "        if i == 0:\n",
    "            ax.set_title(f\"layer_{counter + 1}\")\n",
    "        \n",
    "        if counter == 0:\n",
    "            ax.set_ylabel(f\"{gem_cor_names[i]}\")\n",
    "        \n",
    "        dist += sum(all_gem_gem_max_matched_matrices[i][counter].diagonal()) / (len(all_gem_gem_max_matched_matrices[i][counter].diagonal()))\n",
    "        \n",
    "        if counter == 5:\n",
    "            dist = np.round(dist / 6, 2)\n",
    "            \n",
    "            ax.yaxis.set_label_position(\"right\")\n",
    "            ax.set_ylabel(f\"{dist}\", rotation=0, labelpad=18)\n",
    "        \n",
    "        ax.tick_params(bottom=False, labelbottom=False, left=False, labelleft=False)\n",
    "        counter += 1\n",
    "\n",
    "    plt.tight_layout()\n",
    "    plt.show()"
   ]
  },
  {
   "cell_type": "markdown",
   "id": "645832a6",
   "metadata": {},
   "source": [
    "### Plot semi and max matches for gem miner"
   ]
  },
  {
   "cell_type": "code",
   "execution_count": null,
   "id": "e393e4c1",
   "metadata": {
    "scrolled": false
   },
   "outputs": [],
   "source": [
    "for i in range(3):\n",
    "    fig, axs = plt.subplots(nrows=1, ncols=6, figsize=(24,4))\n",
    "    counter = 0\n",
    "    dist = 0\n",
    "    for ax in axs.flat:\n",
    "        \n",
    "        \n",
    "        xcor = gem_cor[i][counter]\n",
    "        match = find_max_matching(gem_cor[i][counter])\n",
    "\n",
    "        match_vals = xcor[np.arange(xcor.shape[0]),match]\n",
    "        diag_order = (-xcor.max(1)).argsort()\n",
    "\n",
    "        if counter == 5:\n",
    "            x_axis = np.arange(0,10,1)\n",
    "        else:\n",
    "            x_axis = np.arange(0,100,1)\n",
    "        \n",
    "        ax.plot(x_axis, xcor[diag_order,:].max(1), 'o-', color=(.21/.84,.84/.84,.57/.84), lw=2, ms=10)\n",
    "        ax.plot(x_axis, match_vals[diag_order], 'o-', color=(0,.45,.25), lw=2, ms=5)\n",
    "\n",
    "        counter += 1\n",
    "        \n",
    "    plt.tight_layout()\n",
    "    plt.show()"
   ]
  },
  {
   "cell_type": "markdown",
   "id": "bac70981",
   "metadata": {},
   "source": [
    "### Order synflow models for better comparrison"
   ]
  },
  {
   "cell_type": "code",
   "execution_count": null,
   "id": "beed4fd5",
   "metadata": {},
   "outputs": [],
   "source": [
    "all_syn_syn_max_matched_matrices = []\n",
    "all_syn_syn_semi_matched_matrices = []\n",
    "\n",
    "syn_cor = [syn_syn_21_42_cor, syn_syn_21_63_cor, syn_syn_42_63_cor]\n",
    "syn_cor_names = [\"syn_syn_21_42_cor\", \"syn_syn_21_63_cor\", \"syn_syn_42_63_cor\"]\n",
    "\n",
    "\n",
    "for i in range(3):\n",
    "    max_matched_matrices = []\n",
    "    semi_matched_matrices = []\n",
    "    \n",
    "    for j in range(6):\n",
    "        \n",
    "        syn_syn_match_semi_no_diag = find_semi_matching(syn_cor[i][j])\n",
    "        syn_syn_mat_semi = change_mat(syn_cor[i][j],syn_syn_match_semi_no_diag)\n",
    "\n",
    "        semi_matched_matrices.append(syn_syn_mat_semi)\n",
    "\n",
    "        syn_syn_match_max_no_diag = find_max_matching(syn_cor[i][j])\n",
    "        syn_syn_mat_max = change_mat(syn_cor[i][j],syn_syn_match_max_no_diag)\n",
    "\n",
    "        max_matched_matrices.append(syn_syn_mat_max)\n",
    "    \n",
    "    all_syn_syn_max_matched_matrices.append(max_matched_matrices)\n",
    "    all_syn_syn_semi_matched_matrices.append(semi_matched_matrices)"
   ]
  },
  {
   "cell_type": "code",
   "execution_count": null,
   "id": "6f7db483",
   "metadata": {},
   "outputs": [],
   "source": [
    "for i in range(3):\n",
    "    fig, axs = plt.subplots(nrows=1, ncols=6, figsize=(14,10))\n",
    "    counter = 0\n",
    "    dist = 0\n",
    "    for ax in axs.flat:\n",
    "        img = all_syn_syn_max_matched_matrices[i][counter]\n",
    "        ax.imshow(img, cmap = \"rainbow\")\n",
    "        \n",
    "        if i == 0:\n",
    "            ax.set_title(f\"layer_{counter + 1}\")\n",
    "        \n",
    "        if counter == 0:\n",
    "            ax.set_ylabel(f\"{syn_cor_names[i]}\")\n",
    "        \n",
    "        dist += sum(all_syn_syn_max_matched_matrices[i][counter].diagonal()) / (len(all_syn_syn_max_matched_matrices[i][counter].diagonal()))\n",
    "        \n",
    "        if counter == 5:\n",
    "            dist = np.round(dist / 6, 2)\n",
    "            \n",
    "            ax.yaxis.set_label_position(\"right\")\n",
    "            ax.set_ylabel(f\"{dist}\", rotation=0, labelpad=18)\n",
    "        \n",
    "        ax.tick_params(bottom=False, labelbottom=False, left=False, labelleft=False)\n",
    "        counter += 1\n",
    "\n",
    "    plt.tight_layout()\n",
    "    plt.show()"
   ]
  },
  {
   "cell_type": "markdown",
   "id": "bb9a71d1",
   "metadata": {},
   "source": [
    "### Plot semi and max matches for synflow"
   ]
  },
  {
   "cell_type": "code",
   "execution_count": null,
   "id": "ad877196",
   "metadata": {
    "scrolled": false
   },
   "outputs": [],
   "source": [
    "for i in range(3):\n",
    "    fig, axs = plt.subplots(nrows=1, ncols=6, figsize=(24,4))\n",
    "    counter = 0\n",
    "    dist = 0\n",
    "    for ax in axs.flat:\n",
    "        \n",
    "        xcor = syn_cor[i][counter]\n",
    "        match = find_max_matching(syn_cor[i][counter])\n",
    "\n",
    "        match_vals = xcor[np.arange(xcor.shape[0]),match]\n",
    "        diag_order = (-xcor.max(1)).argsort()\n",
    "\n",
    "        if counter == 5:\n",
    "            x_axis = np.arange(0,10,1)\n",
    "        else:\n",
    "            x_axis = np.arange(0,100,1)\n",
    "        \n",
    "        ax.plot(x_axis, xcor[diag_order,:].max(1), 'o-', color=(.21/.84,.84/.84,.57/.84), lw=2, ms=10)\n",
    "        ax.plot(x_axis, match_vals[diag_order], 'o-', color=(0,.45,.25), lw=2, ms=5)\n",
    "\n",
    "        counter += 1\n",
    "        \n",
    "    plt.tight_layout()\n",
    "    plt.show()"
   ]
  },
  {
   "cell_type": "markdown",
   "id": "0f6ee7c8",
   "metadata": {},
   "source": [
    "### Order randomly pruned models for better comparrison"
   ]
  },
  {
   "cell_type": "code",
   "execution_count": null,
   "id": "439b5f9b",
   "metadata": {},
   "outputs": [],
   "source": [
    "all_rnd_rnd_max_matched_matrices = []\n",
    "all_rnd_rnd_semi_matched_matrices = []\n",
    "\n",
    "rnd_cor = [rnd_rnd_21_42_cor, rnd_rnd_21_63_cor, rnd_rnd_42_63_cor]\n",
    "rnd_cor_names = [\"rnd_rnd_21_42_cor\", \"rnd_rnd_21_63_cor\", \"rnd_rnd_42_63_cor\"]\n",
    "\n",
    "\n",
    "for i in range(3):\n",
    "    max_matched_matrices = []\n",
    "    semi_matched_matrices = []\n",
    "    \n",
    "    for j in range(6):\n",
    "        \n",
    "        rnd_rnd_match_semi_no_diag = find_semi_matching(rnd_cor[i][j])\n",
    "        rnd_rnd_mat_semi = change_mat(rnd_cor[i][j],rnd_rnd_match_semi_no_diag)\n",
    "\n",
    "        semi_matched_matrices.append(rnd_rnd_mat_semi)\n",
    "\n",
    "        rnd_rnd_match_max_no_diag = find_max_matching(rnd_cor[i][j])\n",
    "        rnd_rnd_mat_max = change_mat(rnd_cor[i][j],rnd_rnd_match_max_no_diag)\n",
    "\n",
    "        max_matched_matrices.append(rnd_rnd_mat_max)\n",
    "    \n",
    "    all_rnd_rnd_max_matched_matrices.append(max_matched_matrices)\n",
    "    all_rnd_rnd_semi_matched_matrices.append(semi_matched_matrices)"
   ]
  },
  {
   "cell_type": "code",
   "execution_count": null,
   "id": "4a4457d0",
   "metadata": {
    "scrolled": false
   },
   "outputs": [],
   "source": [
    "for i in range(3):\n",
    "    fig, axs = plt.subplots(nrows=1, ncols=6, figsize=(14,10))\n",
    "    counter = 0\n",
    "    dist = 0\n",
    "    for ax in axs.flat:\n",
    "        img = all_rnd_rnd_max_matched_matrices[i][counter]\n",
    "        ax.imshow(img, cmap = \"rainbow\")\n",
    "        \n",
    "        if i == 0:\n",
    "            ax.set_title(f\"layer_{counter + 1}\")\n",
    "        \n",
    "        if counter == 0:\n",
    "            ax.set_ylabel(f\"{rnd_cor_names[i]}\")\n",
    "        \n",
    "        dist += sum(all_rnd_rnd_max_matched_matrices[i][counter].diagonal()) / (len(all_rnd_rnd_max_matched_matrices[i][counter].diagonal()))\n",
    "        \n",
    "        if counter == 5:\n",
    "            dist = np.round(dist / 6, 2)\n",
    "            \n",
    "            ax.yaxis.set_label_position(\"right\")\n",
    "            ax.set_ylabel(f\"{dist}\", rotation=0, labelpad=18)\n",
    "        \n",
    "        ax.tick_params(bottom=False, labelbottom=False, left=False, labelleft=False)\n",
    "        counter += 1\n",
    "\n",
    "    plt.tight_layout()\n",
    "    plt.show()"
   ]
  },
  {
   "cell_type": "markdown",
   "id": "9247540c",
   "metadata": {},
   "source": [
    "### Plot semi and max matches for randomly pruned models"
   ]
  },
  {
   "cell_type": "code",
   "execution_count": null,
   "id": "244b7852",
   "metadata": {
    "scrolled": false
   },
   "outputs": [],
   "source": [
    "for i in range(3):\n",
    "    fig, axs = plt.subplots(nrows=1, ncols=6, figsize=(24,4))\n",
    "    counter = 0\n",
    "    dist = 0\n",
    "    for ax in axs.flat:\n",
    "        \n",
    "        xcor = rnd_cor[i][counter]\n",
    "        match = find_max_matching(rnd_cor[i][counter])\n",
    "\n",
    "        match_vals = xcor[np.arange(xcor.shape[0]),match]\n",
    "        diag_order = (-xcor.max(1)).argsort()\n",
    "\n",
    "        if counter == 5:\n",
    "            x_axis = np.arange(0,10,1)\n",
    "        else:\n",
    "            x_axis = np.arange(0,100,1)\n",
    "        \n",
    "        ax.plot(x_axis, xcor[diag_order,:].max(1), 'o-', color=(.21/.84,.84/.84,.57/.84), lw=2, ms=10)\n",
    "        ax.plot(x_axis, match_vals[diag_order], 'o-', color=(0,.45,.25), lw=2, ms=5)\n",
    "\n",
    "        counter += 1\n",
    "        \n",
    "    plt.tight_layout()\n",
    "    plt.show()"
   ]
  },
  {
   "cell_type": "markdown",
   "id": "4bd08a5f",
   "metadata": {},
   "source": [
    "# Compare differently pruned models"
   ]
  },
  {
   "cell_type": "markdown",
   "id": "a72c4b48",
   "metadata": {},
   "source": [
    "## Get correlations of different feature maps "
   ]
  },
  {
   "cell_type": "code",
   "execution_count": null,
   "id": "7674c4c8",
   "metadata": {},
   "outputs": [],
   "source": [
    "gem_syn_21_21_cor = get_correlation(gem_fm_50_21, syn_fm_50_21)\n",
    "gem_syn_21_42_cor = get_correlation(gem_fm_50_21, syn_fm_50_42)\n",
    "gem_syn_21_63_cor = get_correlation(gem_fm_50_21, syn_fm_50_63)\n",
    "\n",
    "gem_syn_42_21_cor = get_correlation(gem_fm_50_42, syn_fm_50_21)\n",
    "gem_syn_42_42_cor = get_correlation(gem_fm_50_42, syn_fm_50_42)\n",
    "gem_syn_42_63_cor = get_correlation(gem_fm_50_42, syn_fm_50_63)\n",
    "\n",
    "gem_syn_63_21_cor = get_correlation(gem_fm_50_63, syn_fm_50_21)\n",
    "gem_syn_63_42_cor = get_correlation(gem_fm_50_63, syn_fm_50_42)\n",
    "gem_syn_63_63_cor = get_correlation(gem_fm_50_63, syn_fm_50_63)\n",
    "\n",
    "\n",
    "\n",
    "gem_rnd_21_21_cor = get_correlation(gem_fm_50_21, rnd_fm_50_21)\n",
    "gem_rnd_21_42_cor = get_correlation(gem_fm_50_21, rnd_fm_50_42)\n",
    "gem_rnd_21_63_cor = get_correlation(gem_fm_50_21, rnd_fm_50_63)\n",
    "\n",
    "gem_rnd_42_21_cor = get_correlation(gem_fm_50_42, rnd_fm_50_21)\n",
    "gem_rnd_42_42_cor = get_correlation(gem_fm_50_42, rnd_fm_50_42)\n",
    "gem_rnd_42_63_cor = get_correlation(gem_fm_50_42, rnd_fm_50_63)\n",
    "\n",
    "gem_rnd_63_21_cor = get_correlation(gem_fm_50_63, rnd_fm_50_21)\n",
    "gem_rnd_63_42_cor = get_correlation(gem_fm_50_63, rnd_fm_50_42)\n",
    "gem_rnd_63_63_cor = get_correlation(gem_fm_50_63, rnd_fm_50_63)\n",
    "\n",
    "\n",
    "\n",
    "syn_rnd_21_21_cor = get_correlation(syn_fm_50_21, rnd_fm_50_21)\n",
    "syn_rnd_21_42_cor = get_correlation(syn_fm_50_21, rnd_fm_50_42)\n",
    "syn_rnd_21_63_cor = get_correlation(syn_fm_50_21, rnd_fm_50_63)\n",
    "\n",
    "syn_rnd_42_21_cor = get_correlation(syn_fm_50_42, rnd_fm_50_21)\n",
    "syn_rnd_42_42_cor = get_correlation(syn_fm_50_42, rnd_fm_50_42)\n",
    "syn_rnd_42_63_cor = get_correlation(syn_fm_50_42, rnd_fm_50_63)\n",
    "\n",
    "syn_rnd_63_21_cor = get_correlation(syn_fm_50_63, rnd_fm_50_21)\n",
    "syn_rnd_63_42_cor = get_correlation(syn_fm_50_63, rnd_fm_50_42)\n",
    "syn_rnd_63_63_cor = get_correlation(syn_fm_50_63, rnd_fm_50_63)"
   ]
  },
  {
   "cell_type": "markdown",
   "id": "183e5609",
   "metadata": {},
   "source": [
    "## Compare feature maps of gem-miner and synflow pruned models"
   ]
  },
  {
   "cell_type": "code",
   "execution_count": null,
   "id": "9e1b7fec",
   "metadata": {},
   "outputs": [],
   "source": [
    "gem_syn_model_names =  [\"gem_syn_21_21_cor\", \"gem_syn_21_42_cor\", \"gem_syn_21_63_cor\",\n",
    "                        \"gem_syn_42_21_cor\", \"gem_syn_42_42_cor\", \"gem_syn_42_63_cor\",\n",
    "                        \"gem_syn_63_21_cor\", \"gem_syn_63_42_cor\", \"gem_syn_63_63_cor\"]\n",
    "\n",
    "\n",
    "gem_syn_models = [gem_syn_21_21_cor, gem_syn_21_42_cor, gem_syn_21_63_cor,\n",
    "                  gem_syn_42_21_cor, gem_syn_42_42_cor, gem_syn_42_63_cor,\n",
    "                  gem_syn_63_21_cor, gem_syn_63_42_cor, gem_syn_63_63_cor]\n",
    "              \n",
    "\n",
    "gem_syn_max_matched_matrices = []\n",
    "\n",
    "for model in gem_syn_models:\n",
    "    \n",
    "    gem_syn_matrices = []\n",
    "    \n",
    "    for i in range(6):\n",
    "                \n",
    "        match_max_no_diag = find_max_matching(model[i])\n",
    "        mat_max = change_mat(model[i], match_max_no_diag)\n",
    "    \n",
    "        gem_syn_matrices.append(mat_max)\n",
    "    \n",
    "    gem_syn_max_matched_matrices.append(gem_syn_matrices)\n",
    " "
   ]
  },
  {
   "cell_type": "code",
   "execution_count": null,
   "id": "ee35c33c",
   "metadata": {
    "scrolled": false
   },
   "outputs": [],
   "source": [
    "for i in range(9):\n",
    "    fig, axs = plt.subplots(nrows=1, ncols=6, figsize=(14,10))\n",
    "    counter = 0\n",
    "    dist = 0\n",
    "    for ax in axs.flat:\n",
    "        img = gem_syn_max_matched_matrices[i][counter]\n",
    "        ax.imshow(img, cmap = \"rainbow\")\n",
    "        \n",
    "        if i == 0:\n",
    "            ax.set_title(f\"layer_{counter + 1}\")\n",
    "        \n",
    "        if counter == 0:\n",
    "            ax.set_ylabel(f\"{gem_syn_model_names[i]}\")\n",
    "        \n",
    "        dist += sum(gem_syn_max_matched_matrices[i][counter].diagonal()) / (len(gem_syn_max_matched_matrices[i][counter].diagonal()))\n",
    "        \n",
    "        if counter == 5:\n",
    "            dist = np.round(dist / 6, 2)\n",
    "            \n",
    "            ax.yaxis.set_label_position(\"right\")\n",
    "            ax.set_ylabel(f\"{dist}\", rotation=0, labelpad=18)\n",
    "        \n",
    "        ax.tick_params(bottom=False, labelbottom=False, left=False, labelleft=False)\n",
    "        counter += 1\n",
    "\n",
    "    plt.tight_layout()\n",
    "    plt.show()"
   ]
  },
  {
   "cell_type": "markdown",
   "id": "879826b8",
   "metadata": {},
   "source": [
    "## Compare feature maps of gem-miner and randomly pruned models"
   ]
  },
  {
   "cell_type": "code",
   "execution_count": null,
   "id": "56a82207",
   "metadata": {},
   "outputs": [],
   "source": [
    "gem_rnd_model_names =  [\"gem_rnd_21_21_cor\", \"gem_rnd_21_42_cor\", \"gem_rnd_21_63_cor\",\n",
    "                        \"gem_rnd_42_21_cor\", \"gem_rnd_42_42_cor\", \"gem_rnd_42_63_cor\",\n",
    "                        \"gem_rnd_63_21_cor\", \"gem_rnd_63_42_cor\", \"gem_rnd_63_63_cor\"]\n",
    "\n",
    "\n",
    "gem_rnd_models = [gem_rnd_21_21_cor, gem_rnd_21_42_cor, gem_rnd_21_63_cor,\n",
    "                  gem_rnd_42_21_cor, gem_rnd_42_42_cor, gem_rnd_42_63_cor,\n",
    "                  gem_rnd_63_21_cor, gem_rnd_63_42_cor, gem_rnd_63_63_cor]\n",
    "              \n",
    "\n",
    "gem_rnd_max_matched_matrices = []\n",
    "\n",
    "for model in gem_rnd_models:\n",
    "    \n",
    "    gem_rnd_matrices = []\n",
    "    \n",
    "    for i in range(6):\n",
    "                \n",
    "        match_max_no_diag = find_max_matching(model[i])\n",
    "        mat_max = change_mat(model[i], match_max_no_diag)\n",
    "    \n",
    "        gem_rnd_matrices.append(mat_max)\n",
    "    \n",
    "    gem_rnd_max_matched_matrices.append(gem_rnd_matrices)\n",
    " "
   ]
  },
  {
   "cell_type": "code",
   "execution_count": null,
   "id": "b06768fb",
   "metadata": {},
   "outputs": [],
   "source": [
    "for i in range(9):\n",
    "    fig, axs = plt.subplots(nrows=1, ncols=6, figsize=(14,10))\n",
    "    counter = 0\n",
    "    dist = 0\n",
    "    for ax in axs.flat:\n",
    "        img = gem_rnd_max_matched_matrices[i][counter]\n",
    "        ax.imshow(img, cmap = \"rainbow\")\n",
    "        \n",
    "        if i == 0:\n",
    "            ax.set_title(f\"layer_{counter + 1}\")\n",
    "        \n",
    "        if counter == 0:\n",
    "            ax.set_ylabel(f\"{gem_rnd_model_names[i]}\")\n",
    "        \n",
    "        dist += sum(gem_rnd_max_matched_matrices[i][counter].diagonal()) / (len(gem_rnd_max_matched_matrices[i][counter].diagonal()))\n",
    "        \n",
    "        if counter == 5:\n",
    "            dist = np.round(dist / 6, 2)\n",
    "            \n",
    "            ax.yaxis.set_label_position(\"right\")\n",
    "            ax.set_ylabel(f\"{dist}\", rotation=0, labelpad=18)\n",
    "        \n",
    "        ax.tick_params(bottom=False, labelbottom=False, left=False, labelleft=False)\n",
    "        counter += 1\n",
    "\n",
    "    plt.tight_layout()\n",
    "    plt.show()"
   ]
  },
  {
   "cell_type": "markdown",
   "id": "8b944444",
   "metadata": {},
   "source": [
    "## Compare feature maps of synflow and randomly pruned models"
   ]
  },
  {
   "cell_type": "code",
   "execution_count": null,
   "id": "4e68ca34",
   "metadata": {},
   "outputs": [],
   "source": [
    "syn_rnd_model_names =  [\"syn_rnd_21_21_cor\", \"syn_rnd_21_42_cor\", \"syn_rnd_21_63_cor\",\n",
    "                        \"syn_rnd_42_21_cor\", \"syn_rnd_42_42_cor\", \"syn_rnd_42_63_cor\",\n",
    "                        \"syn_rnd_63_21_cor\", \"syn_rnd_63_42_cor\", \"syn_rnd_63_63_cor\"]\n",
    "\n",
    "\n",
    "syn_rnd_models = [syn_rnd_21_21_cor, syn_rnd_21_42_cor, syn_rnd_21_63_cor,\n",
    "                  syn_rnd_42_21_cor, syn_rnd_42_42_cor, syn_rnd_42_63_cor,\n",
    "                  syn_rnd_63_21_cor, syn_rnd_63_42_cor, syn_rnd_63_63_cor]\n",
    "              \n",
    "\n",
    "syn_rnd_max_matched_matrices = []\n",
    "\n",
    "for model in syn_rnd_models:\n",
    "    \n",
    "    syn_rnd_matrices = []\n",
    "    \n",
    "    for i in range(6):\n",
    "                \n",
    "        match_max_no_diag = find_max_matching(model[i])\n",
    "        mat_max = change_mat(model[i], match_max_no_diag)\n",
    "    \n",
    "        syn_rnd_matrices.append(mat_max)\n",
    "    \n",
    "    syn_rnd_max_matched_matrices.append(syn_rnd_matrices)\n",
    " "
   ]
  },
  {
   "cell_type": "code",
   "execution_count": null,
   "id": "da6ad81f",
   "metadata": {},
   "outputs": [],
   "source": [
    "for i in range(9):\n",
    "    fig, axs = plt.subplots(nrows=1, ncols=6, figsize=(14,10))\n",
    "    counter = 0\n",
    "    dist = 0\n",
    "    for ax in axs.flat:\n",
    "        img = syn_rnd_max_matched_matrices[i][counter]\n",
    "        ax.imshow(img, cmap = \"rainbow\")\n",
    "        \n",
    "        if i == 0:\n",
    "            ax.set_title(f\"layer_{counter + 1}\")\n",
    "        \n",
    "        if counter == 0:\n",
    "            ax.set_ylabel(f\"{syn_rnd_model_names[i]}\")\n",
    "        \n",
    "        dist += sum(syn_rnd_max_matched_matrices[i][counter].diagonal()) / (len(syn_rnd_max_matched_matrices[i][counter].diagonal()))\n",
    "        \n",
    "        if counter == 5:\n",
    "            dist = np.round(dist / 6, 2)\n",
    "            \n",
    "            ax.yaxis.set_label_position(\"right\")\n",
    "            ax.set_ylabel(f\"{dist}\", rotation=0, labelpad=18)\n",
    "        \n",
    "        ax.tick_params(bottom=False, labelbottom=False, left=False, labelleft=False)\n",
    "        counter += 1\n",
    "\n",
    "    plt.tight_layout()\n",
    "    plt.show()"
   ]
  }
 ],
 "metadata": {
  "kernelspec": {
   "display_name": "Python 3 (ipykernel)",
   "language": "python",
   "name": "python3"
  },
  "language_info": {
   "codemirror_mode": {
    "name": "ipython",
    "version": 3
   },
   "file_extension": ".py",
   "mimetype": "text/x-python",
   "name": "python",
   "nbconvert_exporter": "python",
   "pygments_lexer": "ipython3",
   "version": "3.10.6"
  }
 },
 "nbformat": 4,
 "nbformat_minor": 5
}
