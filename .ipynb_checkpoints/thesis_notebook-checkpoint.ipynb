{
 "cells": [
  {
   "cell_type": "code",
   "execution_count": 1,
   "id": "ec0872a4",
   "metadata": {},
   "outputs": [],
   "source": [
    "import torch\n",
    "import torchvision\n",
    "import torchvision.transforms as transforms\n",
    "import matplotlib.pyplot as plt\n",
    "import pandas as pd\n",
    "import numpy as np\n",
    "import networkx as nx\n",
    "import copy\n",
    "import warnings\n",
    "warnings.filterwarnings('ignore')"
   ]
  },
  {
   "cell_type": "code",
   "execution_count": 2,
   "id": "a1faa5c0",
   "metadata": {},
   "outputs": [],
   "source": [
    "from loader import *\n",
    "from syngem_utils import *"
   ]
  },
  {
   "cell_type": "code",
   "execution_count": 3,
   "id": "50d96363",
   "metadata": {},
   "outputs": [],
   "source": [
    "torch.manual_seed(42)\n",
    "np.random.seed(42)"
   ]
  },
  {
   "cell_type": "code",
   "execution_count": 4,
   "id": "2e50c7f7",
   "metadata": {},
   "outputs": [],
   "source": [
    "fil_1 = np.array(([-1,0,1], [-2,0,2], [-1,0,1]))"
   ]
  },
  {
   "cell_type": "code",
   "execution_count": 6,
   "id": "0f6cc155",
   "metadata": {},
   "outputs": [],
   "source": [
    "fil_2 = np.array(([1,0,-1], [2,0,-2], [1,0,-1]))"
   ]
  },
  {
   "cell_type": "code",
   "execution_count": 23,
   "id": "90597b7a",
   "metadata": {},
   "outputs": [],
   "source": [
    "fil_3 = np.array(([1,2,1], [0,0,0], [-1,-2,-1]))"
   ]
  },
  {
   "cell_type": "code",
   "execution_count": 90,
   "id": "00c63f08",
   "metadata": {},
   "outputs": [],
   "source": [
    "fil_4 = np.array(([1,2,3], [0,0,0], [4,5,6]))"
   ]
  },
  {
   "cell_type": "code",
   "execution_count": 91,
   "id": "be096a51",
   "metadata": {},
   "outputs": [],
   "source": [
    "fil_5 = np.array(([-1,-2,-3], [0,0,0], [4,5,6]))"
   ]
  },
  {
   "cell_type": "code",
   "execution_count": 98,
   "id": "e103e27b",
   "metadata": {},
   "outputs": [],
   "source": [
    "fil_lap = np.array(([0,1,0], [1,-4,1], [0,1,0]))"
   ]
  },
  {
   "cell_type": "code",
   "execution_count": 105,
   "id": "533b8e21",
   "metadata": {},
   "outputs": [],
   "source": [
    "fil_rid = -1 * np.array(([0,1,0], [1,-8,1], [0,1,0]))"
   ]
  },
  {
   "cell_type": "code",
   "execution_count": 7,
   "id": "ff243e5e",
   "metadata": {},
   "outputs": [],
   "source": [
    "# code from Liu et al 2020\n",
    "# https://github.com/Shiweiliuiiiiiii/Sparse_Topology_Distance/blob/master/sparse_topology_distance.py\n",
    "\n",
    "def getNormalizedEditDistance(a, b):\n",
    "\n",
    "    # for two hidden neuron trees, return 1 if they are completely different, 0 if they are exactly the same\n",
    "    if (len(a) == 0 and len(b) == 0):\n",
    "        return 0\n",
    "    intersect, inda, indb = np.intersect1d(a, b, return_indices=True)\n",
    "    if (intersect.shape[0] > 0):\n",
    "        edit = np.delete(a, inda).shape[0] + np.delete(b, indb).shape[0]\n",
    "        normalizedEdit = edit / np.unique(np.concatenate((a, b), axis=0)).shape[0]\n",
    "    else:\n",
    "        normalizedEdit = 1\n",
    "    return normalizedEdit"
   ]
  },
  {
   "cell_type": "code",
   "execution_count": 8,
   "id": "619e4081",
   "metadata": {},
   "outputs": [],
   "source": [
    "# code from Holler 2022\n",
    "# https://github.com/Holleri/code_bachelor_thesis/blob/main/code_Distances/SaSD%20first-layer-first.ipynb\n",
    "\n",
    "def editDistanceSigns(a,b):\n",
    "    nums = len(a) - len(np.intersect1d(np.where(b==0), np.where(a==0)))\n",
    "    same = len(np.intersect1d(np.where(a<0), np.where(b<0))) + len(np.intersect1d(np.where(a>0), np.where(b>0)))\n",
    "    if nums == 0:\n",
    "        return 0\n",
    "    return (nums-same)/nums"
   ]
  },
  {
   "cell_type": "code",
   "execution_count": 9,
   "id": "f28ccec2",
   "metadata": {},
   "outputs": [],
   "source": [
    "def mean_absolute_error_distance(a,b):\n",
    "    \n",
    "    a_flat_sort = np.sort(a.flatten())\n",
    "    b_flat_sort = np.flip(np.sort(b.flatten()))\n",
    "    \n",
    "    worst_alignment = sum(abs(a_flat_sort - b_flat_sort))\n",
    "\n",
    "    dist = sum(abs(a - b).flatten()) / worst_alignment\n",
    "    \n",
    "    return dist"
   ]
  },
  {
   "cell_type": "code",
   "execution_count": 20,
   "id": "cc6353aa",
   "metadata": {},
   "outputs": [
    {
     "data": {
      "text/plain": [
       "0.0"
      ]
     },
     "execution_count": 20,
     "metadata": {},
     "output_type": "execute_result"
    }
   ],
   "source": [
    "getNormalizedEditDistance(np.nonzero(fil_1.flatten())[0],np.nonzero(fil_2.flatten())[0])"
   ]
  },
  {
   "cell_type": "code",
   "execution_count": 32,
   "id": "8432bc25",
   "metadata": {},
   "outputs": [
    {
     "data": {
      "text/plain": [
       "1.0"
      ]
     },
     "execution_count": 32,
     "metadata": {},
     "output_type": "execute_result"
    }
   ],
   "source": [
    "editDistanceSigns(fil_1.flatten(), 2 * fil_2.flatten())"
   ]
  },
  {
   "cell_type": "code",
   "execution_count": 33,
   "id": "b05b5911",
   "metadata": {},
   "outputs": [
    {
     "data": {
      "text/plain": [
       "1.0"
      ]
     },
     "execution_count": 33,
     "metadata": {},
     "output_type": "execute_result"
    }
   ],
   "source": [
    "mean_absolute_error_distance(fil_1.flatten(), 2 * fil_2.flatten())"
   ]
  },
  {
   "cell_type": "code",
   "execution_count": 24,
   "id": "8215b496",
   "metadata": {},
   "outputs": [
    {
     "data": {
      "text/plain": [
       "0.5"
      ]
     },
     "execution_count": 24,
     "metadata": {},
     "output_type": "execute_result"
    }
   ],
   "source": [
    "getNormalizedEditDistance(np.nonzero(fil_1.flatten())[0],np.nonzero(fil_3.flatten())[0])"
   ]
  },
  {
   "cell_type": "code",
   "execution_count": 25,
   "id": "2eee43c5",
   "metadata": {},
   "outputs": [
    {
     "data": {
      "text/plain": [
       "0.75"
      ]
     },
     "execution_count": 25,
     "metadata": {},
     "output_type": "execute_result"
    }
   ],
   "source": [
    "editDistanceSigns(fil_1.flatten(), fil_3.flatten())"
   ]
  },
  {
   "cell_type": "code",
   "execution_count": 26,
   "id": "f321bac5",
   "metadata": {
    "scrolled": true
   },
   "outputs": [
    {
     "data": {
      "text/plain": [
       "0.75"
      ]
     },
     "execution_count": 26,
     "metadata": {},
     "output_type": "execute_result"
    }
   ],
   "source": [
    "mean_absolute_error_distance(fil_1.flatten(), fil_3.flatten())"
   ]
  },
  {
   "cell_type": "code",
   "execution_count": 92,
   "id": "0ec01fcd",
   "metadata": {},
   "outputs": [
    {
     "data": {
      "text/plain": [
       "0.0"
      ]
     },
     "execution_count": 92,
     "metadata": {},
     "output_type": "execute_result"
    }
   ],
   "source": [
    "getNormalizedEditDistance(np.nonzero(fil_4.flatten())[0],np.nonzero(fil_5.flatten())[0])"
   ]
  },
  {
   "cell_type": "code",
   "execution_count": 95,
   "id": "c7041cad",
   "metadata": {},
   "outputs": [
    {
     "data": {
      "text/plain": [
       "0.5"
      ]
     },
     "execution_count": 95,
     "metadata": {},
     "output_type": "execute_result"
    }
   ],
   "source": [
    "editDistanceSigns(100 * fil_4.flatten(), fil_5.flatten())"
   ]
  },
  {
   "cell_type": "code",
   "execution_count": 96,
   "id": "2295908c",
   "metadata": {},
   "outputs": [
    {
     "data": {
      "text/plain": [
       "0.9858557284299858"
      ]
     },
     "execution_count": 96,
     "metadata": {},
     "output_type": "execute_result"
    }
   ],
   "source": [
    "mean_absolute_error_distance(100 * fil_4.flatten(), fil_5.flatten())"
   ]
  },
  {
   "cell_type": "code",
   "execution_count": null,
   "id": "18d22ffe",
   "metadata": {},
   "outputs": [],
   "source": []
  },
  {
   "cell_type": "code",
   "execution_count": null,
   "id": "b0133ef5",
   "metadata": {},
   "outputs": [],
   "source": []
  },
  {
   "cell_type": "code",
   "execution_count": 100,
   "id": "ade93e61",
   "metadata": {},
   "outputs": [
    {
     "data": {
      "text/plain": [
       "0.0"
      ]
     },
     "execution_count": 100,
     "metadata": {},
     "output_type": "execute_result"
    }
   ],
   "source": [
    "getNormalizedEditDistance(np.nonzero(fil_lap.flatten())[0],np.nonzero(fil_rid.flatten())[0])"
   ]
  },
  {
   "cell_type": "code",
   "execution_count": 106,
   "id": "29476502",
   "metadata": {},
   "outputs": [
    {
     "data": {
      "text/plain": [
       "1.0"
      ]
     },
     "execution_count": 106,
     "metadata": {},
     "output_type": "execute_result"
    }
   ],
   "source": [
    "editDistanceSigns(100 * fil_lap.flatten(), fil_rid.flatten())"
   ]
  },
  {
   "cell_type": "code",
   "execution_count": 107,
   "id": "94d900a8",
   "metadata": {},
   "outputs": [
    {
     "data": {
      "text/plain": [
       "1.0"
      ]
     },
     "execution_count": 107,
     "metadata": {},
     "output_type": "execute_result"
    }
   ],
   "source": [
    "mean_absolute_error_distance(100 * fil_lap.flatten(), fil_rid.flatten())"
   ]
  },
  {
   "cell_type": "code",
   "execution_count": null,
   "id": "1af2cf5e",
   "metadata": {},
   "outputs": [],
   "source": []
  }
 ],
 "metadata": {
  "kernelspec": {
   "display_name": "Python 3 (ipykernel)",
   "language": "python",
   "name": "python3"
  },
  "language_info": {
   "codemirror_mode": {
    "name": "ipython",
    "version": 3
   },
   "file_extension": ".py",
   "mimetype": "text/x-python",
   "name": "python",
   "nbconvert_exporter": "python",
   "pygments_lexer": "ipython3",
   "version": "3.10.6"
  }
 },
 "nbformat": 4,
 "nbformat_minor": 5
}
