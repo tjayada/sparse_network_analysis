{
 "cells": [
  {
   "cell_type": "code",
   "execution_count": null,
   "id": "4c3e8a5c",
   "metadata": {
    "scrolled": false
   },
   "outputs": [],
   "source": [
    "import torch\n",
    "import pandas as pd\n",
    "import numpy as np\n",
    "import pickle as pkl\n",
    "import argparse\n",
    "import yaml\n",
    "from synflow_args_helper import synflow_parser_args\n",
    "from gem_miner_args_helper import gem_miner_parser_args"
   ]
  },
  {
   "cell_type": "code",
   "execution_count": null,
   "id": "4dad84b7",
   "metadata": {},
   "outputs": [],
   "source": [
    "print(\"synflow config:\", synflow_parser_args.config, \"\\nsynflow model:\", synflow_parser_args.model, \"\\nsynflow data:\", synflow_parser_args.dataset)\n",
    "print(\" \")\n",
    "print(\"gemini config:\", gem_miner_parser_args.config, \"\\ngemini model:\", gem_miner_parser_args.arch, \"\\ngemini data:\", gem_miner_parser_args.dataset)\n"
   ]
  },
  {
   "cell_type": "code",
   "execution_count": null,
   "id": "219ebdc5",
   "metadata": {
    "scrolled": true
   },
   "outputs": [],
   "source": [
    "# change args helper manually \n",
    "\n",
    "# load yaml file\n",
    "syn_yaml_txt = open('Configs/synflow_resnet20.yml').read()\n",
    "gem_yaml_txt = open('/Users/tjarkdarius/Desktop/syngem_v3/Configs/gemini_resnet20_CIFAR_sparsity_1_44_unflagT.yml').read()\n",
    "\n",
    "# override old args\n",
    "syn_loaded_yaml = yaml.load(syn_yaml_txt, Loader=yaml.FullLoader)\n",
    "gem_loaded_yaml = yaml.load(gem_yaml_txt, Loader=yaml.FullLoader)\n",
    "\n",
    "synflow_parser_args.__dict__.update(syn_loaded_yaml)\n",
    "gem_miner_parser_args.__dict__.update(gem_loaded_yaml)"
   ]
  },
  {
   "cell_type": "code",
   "execution_count": null,
   "id": "c16c2cb6",
   "metadata": {},
   "outputs": [],
   "source": [
    "# show new configurations \n",
    "print(\"synflow config:\", synflow_parser_args.config, \"\\nsynflow model:\", synflow_parser_args.model, \"\\nsynflow data:\", synflow_parser_args.dataset)\n",
    "print(\" \")\n",
    "print(\"gemini config:\", gem_miner_parser_args.config, \"\\ngemini model:\", gem_miner_parser_args.arch, \"\\ngemini data:\", gem_miner_parser_args.dataset)"
   ]
  },
  {
   "cell_type": "code",
   "execution_count": null,
   "id": "5c72b454",
   "metadata": {},
   "outputs": [],
   "source": [
    "# after updating config files, we can create the mdoels\n",
    "from Models.resnet_kaiming import resnet20 as gem_resnet20\n",
    "from Models.lottery_resnet import resnet20 as syn_resnet20"
   ]
  },
  {
   "cell_type": "code",
   "execution_count": null,
   "id": "fa78754c",
   "metadata": {
    "scrolled": false
   },
   "outputs": [],
   "source": [
    "D = 20\n",
    "W = 16\n",
    "plan = [(W, D), (2*W, D), (4*W, D)]\n",
    "\n",
    "syn_model = syn_resnet20(plan, 10)\n",
    "gem_model = gem_resnet20()"
   ]
  },
  {
   "cell_type": "code",
   "execution_count": null,
   "id": "5d1d8757",
   "metadata": {},
   "outputs": [],
   "source": [
    "syn_model.load_state_dict(torch.load(\"/Users/tjarkdarius/Desktop/test_results/synflow_resnet20_cifar_seed_42_epochs_100_compr_05/model.pt\", map_location=torch.device('cpu')))\n",
    "gem_model.load_state_dict(torch.load(\"/Users/tjarkdarius/Desktop/test_results/hc_sparsity_1_44_unflagT/results_pruning_CIFAR10_resnet20_hc_iter_0_5_5_reg_L2_0_0001_sgd_cosine_lr_0_1_0_1_50_finetune_0_01_MAML_-1_10_fan_False_signed_constant_unif_width_1_0_seed_42_idx_None/model_after_finetune.pth\", map_location=torch.device('cpu')))"
   ]
  },
  {
   "cell_type": "code",
   "execution_count": null,
   "id": "898defe2",
   "metadata": {},
   "outputs": [],
   "source": [
    "#syn_model.eval()"
   ]
  },
  {
   "cell_type": "code",
   "execution_count": null,
   "id": "5bfcbc6a",
   "metadata": {},
   "outputs": [],
   "source": [
    "#gem_model.eval()"
   ]
  },
  {
   "cell_type": "code",
   "execution_count": null,
   "id": "fd8e54c9",
   "metadata": {},
   "outputs": [],
   "source": [
    "def get_children(model: torch.nn.Module):\n",
    "    # get children form model!\n",
    "    children = list(model.children())\n",
    "    flatt_children = []\n",
    "    if children == []:\n",
    "        # if model has no children; model is last child! :O\n",
    "        return model\n",
    "    else:\n",
    "       # look for children from children... to the last child!\n",
    "       for child in children:\n",
    "            try:\n",
    "                flatt_children.extend(get_children(child))\n",
    "            except TypeError:\n",
    "                flatt_children.append(get_children(child))\n",
    "    return flatt_children"
   ]
  },
  {
   "cell_type": "code",
   "execution_count": null,
   "id": "366af2bd",
   "metadata": {},
   "outputs": [],
   "source": [
    "lel = get_children(init_model)\n",
    "lul = get_children(tuned_model)"
   ]
  },
  {
   "cell_type": "code",
   "execution_count": null,
   "id": "14a2fa34",
   "metadata": {},
   "outputs": [],
   "source": [
    "lel"
   ]
  },
  {
   "cell_type": "code",
   "execution_count": null,
   "id": "31e4905f",
   "metadata": {
    "scrolled": true
   },
   "outputs": [],
   "source": [
    "init_model.eval()"
   ]
  },
  {
   "cell_type": "code",
   "execution_count": null,
   "id": "dc86e71d",
   "metadata": {
    "scrolled": false
   },
   "outputs": [],
   "source": [
    "list(init_model.children())"
   ]
  },
  {
   "cell_type": "code",
   "execution_count": null,
   "id": "a8e1695d",
   "metadata": {},
   "outputs": [],
   "source": [
    "lel"
   ]
  },
  {
   "cell_type": "code",
   "execution_count": null,
   "id": "564678c0",
   "metadata": {
    "scrolled": true
   },
   "outputs": [],
   "source": [
    "lul[0].state_dict().keys()"
   ]
  },
  {
   "cell_type": "code",
   "execution_count": null,
   "id": "db142b69",
   "metadata": {},
   "outputs": [],
   "source": [
    "n , i = np.unique(lul[0].state_dict()['flag'].numpy().flatten()  , return_counts=True)\n",
    "print(n)\n",
    "print(i)"
   ]
  },
  {
   "cell_type": "code",
   "execution_count": null,
   "id": "df9864bb",
   "metadata": {},
   "outputs": [],
   "source": [
    "all_zeros = 0\n",
    "all_ones = 0\n",
    "for i in range(len(lul)):\n",
    "    try:\n",
    "        n , i = np.unique(lul[i].state_dict()['flag'].numpy().flatten()  , return_counts=True)\n",
    "        all_zeros += i[0]\n",
    "        all_ones += i[1]\n",
    "    except:\n",
    "        pass\n",
    "    \n",
    "print(all_ones / all_zeros)"
   ]
  },
  {
   "cell_type": "code",
   "execution_count": null,
   "id": "37ef9262",
   "metadata": {},
   "outputs": [],
   "source": [
    "gg = all_ones + all_zeros"
   ]
  },
  {
   "cell_type": "code",
   "execution_count": null,
   "id": "a51b8400",
   "metadata": {},
   "outputs": [],
   "source": [
    "(all_ones / gg) * 100"
   ]
  },
  {
   "cell_type": "markdown",
   "id": "b16c8c6d",
   "metadata": {},
   "source": [
    "# fuckin got it !\n",
    "# weights dont matter\n",
    "# flags do\n",
    "# ratio of 0's and 1's in flag is the sparsity, NOT weights \n",
    "# how can i use this knowledge though ?\n",
    "# --> 1. gain some structural information for CNN's ?\n",
    "# --> 2. work with fully connected networks instead ? better architecture gain\n",
    "\n",
    "# wait\n",
    "# new idea\n",
    "# look at distribution of 0's and 1's for each layer in model \n",
    "# where sparsity higher than average, the layer might be considered \"not that important\"\n",
    "# and when many 1's, the layer might be important\n",
    "# thus giving insight in structure and architecture of models\n",
    "# since fully connected networks might suck \n",
    "# would be trained on mnist and I have to code everything\n",
    "# since gem-miner people didnt put too much effort into it\n",
    "# but still could make for a nice section in the BA\n",
    "# first fc then (more difficult) CNN/RNN \n",
    "# fc look at structure \"dot-wise\"\n",
    "# span network and see what is pruned where\n",
    "# then in CNN/RNN section look at structure of kernels\n",
    "# maybe use heatmap like Isabel \n",
    "# and also the layer wise distribution (need cool idea for graphic there)"
   ]
  },
  {
   "cell_type": "code",
   "execution_count": null,
   "id": "b2c261a8",
   "metadata": {},
   "outputs": [],
   "source": [
    "for i in range(len(lel)):\n",
    "    try:\n",
    "        lay = lel[i].state_dict()['flag']\n",
    "        loy = lul[i].state_dict()['flag']\n",
    "        \n",
    "        kok = lay == loy\n",
    "        \n",
    "        print(all(kok.numpy().flatten()))\n",
    "        \n",
    "        \n",
    "    except:\n",
    "        print(\"Hm\")\n",
    "    "
   ]
  },
  {
   "cell_type": "code",
   "execution_count": null,
   "id": "47455c05",
   "metadata": {},
   "outputs": [],
   "source": [
    "first_layer_init = lel[10].state_dict()['weight']\n",
    "first_layer_tuned = lul[10].state_dict()['weight']"
   ]
  },
  {
   "cell_type": "code",
   "execution_count": null,
   "id": "2eb63c4c",
   "metadata": {},
   "outputs": [],
   "source": [
    "#first_layer_init"
   ]
  },
  {
   "cell_type": "code",
   "execution_count": null,
   "id": "94f6499c",
   "metadata": {},
   "outputs": [],
   "source": [
    "#first_layer_tuned"
   ]
  },
  {
   "cell_type": "code",
   "execution_count": null,
   "id": "be27ef4b",
   "metadata": {},
   "outputs": [],
   "source": [
    "kok = first_layer_init == first_layer_tuned\n",
    "all(kok.numpy().flatten())"
   ]
  },
  {
   "cell_type": "markdown",
   "id": "bf5b0d4a",
   "metadata": {},
   "source": [
    "# Weird that init model and tuned model are the same ?\n",
    "# Look at accuracy by hand --> load cifar10 and test \n",
    "# Whats going on here ?\n",
    "# Mayber saving wrong in script ?"
   ]
  },
  {
   "cell_type": "code",
   "execution_count": null,
   "id": "8acf4234",
   "metadata": {},
   "outputs": [],
   "source": [
    "import torch\n",
    "import torchvision\n",
    "import torchvision.transforms as transforms"
   ]
  },
  {
   "cell_type": "code",
   "execution_count": null,
   "id": "4061ff25",
   "metadata": {},
   "outputs": [],
   "source": [
    "batch_size = 4\n",
    "\n",
    "normalize = transforms.Normalize(\n",
    "            mean=[0.491, 0.482, 0.447],\n",
    "            std=[0.247, 0.243, 0.262]\n",
    "        )\n",
    "\n",
    "transform_train = transforms.Compose(\n",
    "                    [\n",
    "                        transforms.RandomCrop(32, padding=4),\n",
    "                        transforms.RandomHorizontalFlip(),\n",
    "                        transforms.ToTensor(),\n",
    "                        normalize,\n",
    "                    ]\n",
    "                )\n",
    "\n",
    "transform_test = transforms.Compose(\n",
    "                    [\n",
    "                        transforms.ToTensor(),\n",
    "                        normalize\n",
    "                    ]\n",
    "                )"
   ]
  },
  {
   "cell_type": "code",
   "execution_count": null,
   "id": "fdd84c61",
   "metadata": {},
   "outputs": [],
   "source": [
    "trainset = torchvision.datasets.CIFAR10(root='./data', train=True,\n",
    "                                        download=True, transform=transform_train)\n",
    "trainloader = torch.utils.data.DataLoader(trainset, batch_size=batch_size,\n",
    "                                          shuffle=True, num_workers=2)\n",
    "\n",
    "testset = torchvision.datasets.CIFAR10(root='./data', train=False,\n",
    "                                       download=True, transform=transform_test)\n",
    "testloader = torch.utils.data.DataLoader(testset, batch_size=batch_size,\n",
    "                                         shuffle=False, num_workers=2)\n",
    "\n",
    "classes = ('plane', 'car', 'bird', 'cat',\n",
    "           'deer', 'dog', 'frog', 'horse', 'ship', 'truck')"
   ]
  },
  {
   "cell_type": "code",
   "execution_count": null,
   "id": "b653a7b9",
   "metadata": {
    "scrolled": true
   },
   "outputs": [],
   "source": [
    "import matplotlib.pyplot as plt\n",
    "import numpy as np\n",
    "\n",
    "# functions to show an image\n",
    "\n",
    "\n",
    "def imshow(img):\n",
    "    img = img / 2 + 0.5     # unnormalize\n",
    "    npimg = img.numpy()\n",
    "    plt.imshow(np.transpose(npimg, (1, 2, 0)))\n",
    "    plt.show()\n",
    "\n",
    "\n",
    "# get some random training images\n",
    "dataiter = iter(trainloader)\n",
    "images, labels = next(dataiter)\n",
    "\n",
    "# show images\n",
    "imshow(torchvision.utils.make_grid(images))\n",
    "# print labels\n",
    "print(' '.join(f'{classes[labels[j]]:5s}' for j in range(batch_size)))"
   ]
  },
  {
   "cell_type": "code",
   "execution_count": null,
   "id": "efa3ff06",
   "metadata": {
    "scrolled": true
   },
   "outputs": [],
   "source": [
    "dataiter = iter(testloader)"
   ]
  },
  {
   "cell_type": "code",
   "execution_count": null,
   "id": "517bb832",
   "metadata": {
    "scrolled": true
   },
   "outputs": [],
   "source": [
    "images, labels = next(dataiter)\n",
    "\n",
    "# print images\n",
    "imshow(torchvision.utils.make_grid(images))\n",
    "print('GroundTruth: ', ' '.join(f'{classes[labels[j]]:5s}' for j in range(4)))"
   ]
  },
  {
   "cell_type": "code",
   "execution_count": null,
   "id": "167c96cd",
   "metadata": {},
   "outputs": [],
   "source": [
    "img, labl = next(dataiter)"
   ]
  },
  {
   "cell_type": "code",
   "execution_count": null,
   "id": "9803f0a5",
   "metadata": {},
   "outputs": [],
   "source": [
    "img.size()"
   ]
  },
  {
   "cell_type": "code",
   "execution_count": null,
   "id": "4a9a361d",
   "metadata": {},
   "outputs": [],
   "source": [
    "img = torchvision.utils.make_grid(img)\n",
    "img = img / 2 + 0.5     # unnormalize\n",
    "npimg = img.numpy()\n",
    "test = np.transpose(npimg, (1, 2, 0))"
   ]
  },
  {
   "cell_type": "code",
   "execution_count": null,
   "id": "822b1aef",
   "metadata": {},
   "outputs": [],
   "source": [
    "test.shape"
   ]
  },
  {
   "cell_type": "code",
   "execution_count": null,
   "id": "e06e8a88",
   "metadata": {},
   "outputs": [],
   "source": [
    "outputs = tuned_model(images)\n",
    "\n",
    "_, predicted = torch.max(outputs, 1)\n",
    "\n",
    "print('Predicted: ', ' '.join(f'{classes[predicted[j]]:5s}'\n",
    "                              for j in range(4)))"
   ]
  },
  {
   "cell_type": "code",
   "execution_count": null,
   "id": "cfe3f8bc",
   "metadata": {},
   "outputs": [],
   "source": [
    "outputs = init_model(images)\n",
    "\n",
    "_, predicted = torch.max(outputs, 1)\n",
    "\n",
    "print('Predicted: ', ' '.join(f'{classes[predicted[j]]:5s}'\n",
    "                              for j in range(4)))"
   ]
  },
  {
   "cell_type": "code",
   "execution_count": 17,
   "id": "4c143ae3",
   "metadata": {},
   "outputs": [],
   "source": [
    "import torch\n",
    "import torchvision\n",
    "import torchvision.transforms as transforms\n",
    "import matplotlib.pyplot as plt\n",
    "import numpy as np\n",
    "\n",
    "class get_images_cifar10(object):\n",
    "    def __init__(self, batch_size: int = 1):\n",
    "        self.batch_size = batch_size\n",
    "        \n",
    "    \n",
    "        normalize = transforms.Normalize(\n",
    "                    mean=[0.491, 0.482, 0.447],\n",
    "                    std=[0.247, 0.243, 0.262]\n",
    "                )\n",
    "\n",
    "        transform_train = transforms.Compose(\n",
    "                            [\n",
    "                                transforms.RandomCrop(32, padding=4),\n",
    "                                transforms.RandomHorizontalFlip(),\n",
    "                                transforms.ToTensor(),\n",
    "                                normalize,\n",
    "                            ]\n",
    "                        )\n",
    "\n",
    "        transform_test = transforms.Compose(\n",
    "                            [\n",
    "                                transforms.ToTensor(),\n",
    "                                normalize\n",
    "                            ]\n",
    "                        )\n",
    "\n",
    "        trainset = torchvision.datasets.CIFAR10(root='./data', train=True,\n",
    "                                            download=True, transform=transform_train)\n",
    "        trainloader = torch.utils.data.DataLoader(trainset, batch_size=batch_size,\n",
    "                                                  shuffle=True, num_workers=1)\n",
    "\n",
    "        testset = torchvision.datasets.CIFAR10(root='./data', train=False,\n",
    "                                               download=True, transform=transform_test)\n",
    "        testloader = torch.utils.data.DataLoader(testset, batch_size=batch_size,\n",
    "                                                 shuffle=False, num_workers=1)\n",
    "\n",
    "        classes = ('plane', 'car', 'bird', 'cat',\n",
    "                   'deer', 'dog', 'frog', 'horse', 'ship', 'truck')\n",
    "        \n",
    "        \n",
    "        self.trainloader = trainloader\n",
    "        self.testloader = testloader\n",
    "        self.classes = classes\n",
    "        \n",
    "        self.get_new_images(output = False)\n",
    "   \n",
    "    \n",
    "    def get_new_images(self, target: str = \"random\", output: bool = True):\n",
    "        # get some random training images\n",
    "        if target == \"random\":\n",
    "            dataiter = iter(self.trainloader)\n",
    "            images, labels = next(dataiter)\n",
    "\n",
    "            self.images = images\n",
    "            self.labels = labels\n",
    "            \n",
    "        elif target in self.classes:\n",
    "            target_images = torch.zeros((self.batch_size, 3, 32, 32))\n",
    "            counter = 0\n",
    "            correct_label = None\n",
    "            dataiter = iter(self.trainloader)\n",
    "\n",
    "            while counter < self.batch_size:\n",
    "                images, labels = next(dataiter)\n",
    "                \n",
    "                for i, j in enumerate(labels):\n",
    "                    labl = self.classes[j]\n",
    "                    \n",
    "                    if target == labl:\n",
    "                        if correct_label == None:\n",
    "                            correct_label = j  \n",
    "                        target_images[counter] = images[i]\n",
    "                        counter += 1\n",
    "                        \n",
    "                        \n",
    "            self.images = target_images\n",
    "            self.labels = [correct_label] * self.batch_size\n",
    "                \n",
    "            \n",
    "        \n",
    "        if output:\n",
    "            return self.images, self.labels\n",
    "        \n",
    "    \n",
    "    \n",
    "    def display(self):\n",
    "        img = torchvision.utils.make_grid(self.images)\n",
    "        \n",
    "        img = img / 2 + 0.5     # unnormalize\n",
    "        npimg = np.clip(img.numpy(), 0, 1)\n",
    "        plt.imshow(np.transpose(npimg, (1, 2, 0)))\n",
    "        plt.show()\n",
    "        print('GroundTruth: ', ' '.join(f'{self.classes[self.labels[j]]:5s}' for j in range(self.batch_size)))\n",
    "        \n",
    "        \n",
    "        "
   ]
  },
  {
   "cell_type": "code",
   "execution_count": 18,
   "id": "ad4c3b16",
   "metadata": {
    "scrolled": true
   },
   "outputs": [
    {
     "name": "stdout",
     "output_type": "stream",
     "text": [
      "Files already downloaded and verified\n",
      "Files already downloaded and verified\n"
     ]
    }
   ],
   "source": [
    "test = get_images_cifar10(batch_size = 4)"
   ]
  },
  {
   "cell_type": "code",
   "execution_count": 25,
   "id": "6dd3589b",
   "metadata": {},
   "outputs": [],
   "source": [
    "test.get_new_images(\"cat\", output = False)"
   ]
  },
  {
   "cell_type": "code",
   "execution_count": 26,
   "id": "d98d768e",
   "metadata": {
    "scrolled": true
   },
   "outputs": [
    {
     "data": {
      "image/png": "[encoded data removed]",
      "text/plain": [
       "<Figure size 640x480 with 1 Axes>"
      ]
     },
     "metadata": {},
     "output_type": "display_data"
    },
    {
     "name": "stdout",
     "output_type": "stream",
     "text": [
      "GroundTruth:  cat   cat   cat   cat  \n"
     ]
    }
   ],
   "source": [
    "test.display()"
   ]
  },
  {
   "cell_type": "code",
   "execution_count": 20,
   "id": "1b91d3b7",
   "metadata": {},
   "outputs": [
    {
     "data": {
      "text/plain": [
       "['yay', 'yay', 'yay', 'yay']"
      ]
     },
     "execution_count": 20,
     "metadata": {},
     "output_type": "execute_result"
    }
   ],
   "source": [
    "[\"yay\"] * 4"
   ]
  },
  {
   "cell_type": "markdown",
   "id": "34e481fb",
   "metadata": {},
   "source": [
    "# wtf geht hier ab ?\n",
    "# tuned model acc in ordnung\n",
    "# init komplett whack\n",
    "# war zu erwarten aber nicht auf basis der weights \n",
    "# es sind doch alle weights gleich laut \"analyse\" ??!\n",
    "# wtf"
   ]
  },
  {
   "cell_type": "code",
   "execution_count": null,
   "id": "c5ad2329",
   "metadata": {},
   "outputs": [],
   "source": [
    "def check_sparsity(model: torch.nn.Module, layers: int = None, single: bool = False):\n",
    "\n",
    "    ## need doc string\n",
    "    \n",
    "    # get children\n",
    "    each_layer = get_children(model)\n",
    "\n",
    "    # declare empty sparsities dictionary\n",
    "    sparsities = {}\n",
    "    \n",
    "    # declare counter variables\n",
    "    all_zeros , all_ones = 0 , 0\n",
    "    \n",
    "    # check arguments, otherwise raise error\n",
    "    if type(single) != bool:\n",
    "        print(\"Single must be boolean\")\n",
    "        \n",
    "    if layers != None and type(layers) == list:\n",
    "        for i in layers:\n",
    "            if type(i) != int:\n",
    "                # maybe actually raise error instead of printing ?\n",
    "                print(\"Layers must be None or (list of) integers\")\n",
    "                \n",
    "            # already iterating over layers, why not use ?\n",
    "            # because dont know if single or not ?\n",
    "            \n",
    "            if single:\n",
    "                _ , counts = np.unique(each_layer[i].state_dict()['flag'].numpy().flatten()  , return_counts=True)\n",
    "                calc = (counts[1] / (counts[0] + counts[1])) * 100\n",
    "                sparsities[f\"layer_{i}\"] = round(calc , 3)\n",
    "                \n",
    "            \n",
    "            elif not single:\n",
    "                _ , counts = np.unique(each_layer[i].state_dict()['flag'].numpy().flatten()  , return_counts=True)\n",
    "                all_zeros += counts[0]\n",
    "                all_ones += counts[1]\n",
    "                \n",
    "        if not single:\n",
    "            calc = (all_ones / (all_zeros + all_ones)) * 100\n",
    "            sparsities[f\"selected_layers_{layers}\"] = round(calc , 3)\n",
    "            \n",
    "            \n",
    "    \n",
    "    \n",
    "    \n",
    "    \n",
    "    if layers == None and not single:\n",
    "        x = len(each_layer)\n",
    "        sparsities = {\"overall_sparsity\" : 0}\n",
    "        \n",
    "        \n",
    "    \n",
    "    # elif layers check if all layer args are ints \n",
    "    # then if single is false, use that list of args in for loop below to iterate over it\n",
    "    # elif single true, return list of sparsities ??\n",
    "    \n",
    "    all_zeros = 0\n",
    "    all_ones = 0\n",
    "    for i in range(x):\n",
    "        try:\n",
    "            n , i = np.unique(each_layer[i].state_dict()['flag'].numpy().flatten()  , return_counts=True)\n",
    "            all_zeros += i[0]\n",
    "            all_ones += i[1]\n",
    "        except:\n",
    "            pass\n",
    "    \n",
    "    calc = (all_ones / (all_zeros + all_ones)) * 100\n",
    "    sparsities[\"overall_sparsity\"] = round(calc , 3)\n",
    "    \n",
    "    return sparsities"
   ]
  },
  {
   "cell_type": "code",
   "execution_count": null,
   "id": "bc1bfb4d",
   "metadata": {},
   "outputs": [],
   "source": [
    "for i in lel:\n",
    "    print(len(i.state_dict()))\n",
    "\n"
   ]
  },
  {
   "cell_type": "code",
   "execution_count": null,
   "id": "3d266ea9",
   "metadata": {},
   "outputs": [],
   "source": [
    "gg = check_sparsity(tuned_model, [1,2,3])"
   ]
  },
  {
   "cell_type": "code",
   "execution_count": null,
   "id": "3cfc76a9",
   "metadata": {},
   "outputs": [],
   "source": [
    "gg"
   ]
  },
  {
   "cell_type": "code",
   "execution_count": null,
   "id": "006838b6",
   "metadata": {},
   "outputs": [],
   "source": [
    "pp = [3,4,5]\n",
    "\n",
    "tret = {}\n",
    "\n",
    "for i in pp:\n",
    "    tret[f\"pollo_{i}\"] = i\n",
    "tret[f\"pollo_{pp}\"] = \"yyy\""
   ]
  },
  {
   "cell_type": "code",
   "execution_count": null,
   "id": "71b357d9",
   "metadata": {},
   "outputs": [],
   "source": [
    "print(tret)"
   ]
  },
  {
   "cell_type": "code",
   "execution_count": null,
   "id": "7d2018b2",
   "metadata": {},
   "outputs": [],
   "source": [
    "type(dd)"
   ]
  },
  {
   "cell_type": "code",
   "execution_count": null,
   "id": "975d4cc6",
   "metadata": {},
   "outputs": [],
   "source": []
  },
  {
   "cell_type": "code",
   "execution_count": null,
   "id": "5a77a7ad",
   "metadata": {},
   "outputs": [],
   "source": [
    "# from gem-miner main_utils\n",
    "def visualize_mask_2D(model, criterion, data, validate):\n",
    "\n",
    "    flat_tensor = []\n",
    "    # concatenate the masks\n",
    "    for name, params in model.named_parameters():\n",
    "        if \".score\" in name:\n",
    "            flat_tensor.append(params.data)\n",
    "    # a: flat_tensor, b = mask_init,\n",
    "    mask_init = _flatten_dense_tensors(flat_tensor)\n",
    "\n",
    "    # select random direction to go\n",
    "    sparsity = 0.05\n",
    "    num_d = 1  # 100\n",
    "    num_v = 10  # 100\n",
    "    resol = 1000  # 1000\n",
    "\n",
    "    # batch data to test\n",
    "    for data_, label_ in data.train_loader:\n",
    "        data_, label_ = data_.cuda(), label_.cuda()\n",
    "        break\n",
    "\n",
    "    # setting for saving results\n",
    "    cp_model = copy.deepcopy(model)\n",
    "    train_mode_str = 'weight_training' if parser_args.weight_training else 'pruning'\n",
    "    results_filename = \"results/results_2D_visualize_sharpness_epoch_sparsity_{}_d_{}_v_{}_{}_{}_{}\".format(\n",
    "        sparsity, num_d, num_v, train_mode_str, parser_args.dataset, parser_args.algo)\n",
    "\n",
    "    # init_time = time.time()\n",
    "    for d1_idx in range(num_d):\n",
    "\n",
    "        d1 = torch.bernoulli(torch.ones_like(mask_init) * sparsity)  # d1\n",
    "        print('sum of d1: ', torch.sum(d1))\n",
    "        d2 = torch.bernoulli(torch.ones_like(mask_init) * sparsity)  # d2\n",
    "        print('sum of d2: ', torch.sum(d2))\n",
    "        print('sum of d1*d2: ', torch.sum(d1*d2))\n",
    "\n",
    "        # new_d1 = (d1 + mask_init) % 2\n",
    "        # new_d2 = (d2 + mask_init) % 2\n",
    "\n",
    "        loss_arr = np.zeros((resol, resol))\n",
    "        for i1 in range(resol):\n",
    "            p1 = i1/resol  # probability of adding elements from d1\n",
    "            for i2 in range(resol):\n",
    "                p2 = i2/resol  # probability of adding elements from d2\n",
    "                loss_avg = 0\n",
    "\n",
    "                for v_idx in range(num_v):\n",
    "                    # [0, 1]^n  1: I'll add d1 elements\n",
    "                    sampling_vct1 = torch.bernoulli(\n",
    "                        torch.ones_like(mask_init) * p1)\n",
    "                    # [0, 1]^n  1: I'll add d2 elements\n",
    "                    sampling_vct2 = torch.bernoulli(\n",
    "                        torch.ones_like(mask_init) * p2)\n",
    "\n",
    "                    new_mask = (mask_init + sampling_vct1 * d1 +\n",
    "                                sampling_vct2 * d2) % 2  # w+v1+v2\n",
    "\n",
    "                    # put merged masks back to the model\n",
    "                    new_mask_unflat = _unflatten_dense_tensors(\n",
    "                        new_mask, flat_tensor)\n",
    "                    idx = 0\n",
    "                    for name, params in cp_model.named_parameters():\n",
    "                        if \".score\" in name:\n",
    "                            params.data = new_mask_unflat[idx]\n",
    "                            idx += 1\n",
    "\n",
    "                    # compute loss for the mask\n",
    "                    loss = criterion(cp_model(data_), label_)\n",
    "                    # print(i1, i2, v_idx, loss.data.item())\n",
    "                    loss_avg += loss.data.item()\n",
    "                loss_arr[i1, i2] = loss_avg/num_v\n",
    "\n",
    "        # print(loss_arr)\n",
    "        np.save(results_filename + \"_{}.npy\".format(d1_idx), loss_arr)\n",
    "        saved_loss = np.load(results_filename + \"_{}.npy\".format(d1_idx))\n",
    "        print('saved_loss for d1_idx {}'.format(d1_idx), saved_loss)\n",
    "    #     if d1_idx == 0:\n",
    "    #         results_df = pd.DataFrame({'dist': dist_list, 'batch_train_loss': train_loss_list})\n",
    "    #     else:\n",
    "    #         results_df['batch_train_loss{}'.format(d1_idx+1)] = train_loss_list\n",
    "\n",
    "    #     #fin_time = time.time()\n",
    "    #     #print('1st d1 lap-time: ', fin_time - init_time)\n",
    "    #     #pdb.set_trace()\n",
    "    # results_df.to_csv(results_filename, index=False)"
   ]
  },
  {
   "cell_type": "code",
   "execution_count": null,
   "id": "b8010999",
   "metadata": {},
   "outputs": [],
   "source": []
  },
  {
   "cell_type": "code",
   "execution_count": null,
   "id": "0d7a4a4a",
   "metadata": {},
   "outputs": [],
   "source": []
  },
  {
   "cell_type": "code",
   "execution_count": null,
   "id": "509f4e82",
   "metadata": {},
   "outputs": [],
   "source": []
  },
  {
   "cell_type": "code",
   "execution_count": null,
   "id": "ea2e4010",
   "metadata": {},
   "outputs": [],
   "source": []
  },
  {
   "cell_type": "code",
   "execution_count": null,
   "id": "701a16a4",
   "metadata": {},
   "outputs": [],
   "source": []
  },
  {
   "cell_type": "code",
   "execution_count": null,
   "id": "0e086310",
   "metadata": {},
   "outputs": [],
   "source": [
    "from torch.nn.parameter import Parameter\n",
    "from torch.nn import init\n"
   ]
  },
  {
   "cell_type": "code",
   "execution_count": null,
   "id": "77261f26",
   "metadata": {},
   "outputs": [],
   "source": [
    "class Identity1d(nn.Module):\n",
    "    def __init__(self, num_features):\n",
    "        super(Identity1d, self).__init__()\n",
    "        self.num_features = num_features\n",
    "        self.weight = Parameter(torch.Tensor(num_features))\n",
    "        self.register_buffer('weight_mask', torch.ones(self.weight.shape))\n",
    "        self.reset_parameters()\n",
    "\n",
    "    def reset_parameters(self):\n",
    "        init.ones_(self.weight)\n",
    "\n",
    "    def forward(self, input):\n",
    "        W = self.weight_mask * self.weight\n",
    "        return input * W"
   ]
  },
  {
   "cell_type": "code",
   "execution_count": null,
   "id": "b1126343",
   "metadata": {},
   "outputs": [],
   "source": [
    "pep = Identity1d(30)"
   ]
  },
  {
   "cell_type": "code",
   "execution_count": null,
   "id": "1504a705",
   "metadata": {},
   "outputs": [],
   "source": [
    "pep"
   ]
  },
  {
   "cell_type": "code",
   "execution_count": null,
   "id": "13a31837",
   "metadata": {},
   "outputs": [],
   "source": [
    "gg = torch.nn.Sequential()"
   ]
  },
  {
   "cell_type": "code",
   "execution_count": null,
   "id": "acdfea7c",
   "metadata": {},
   "outputs": [],
   "source": [
    "gg([33,3,4,5,6])"
   ]
  },
  {
   "cell_type": "code",
   "execution_count": null,
   "id": "d8126983",
   "metadata": {},
   "outputs": [],
   "source": []
  }
 ],
 "metadata": {
  "kernelspec": {
   "display_name": "Python 3 (ipykernel)",
   "language": "python",
   "name": "python3"
  },
  "language_info": {
   "codemirror_mode": {
    "name": "ipython",
    "version": 3
   },
   "file_extension": ".py",
   "mimetype": "text/x-python",
   "name": "python",
   "nbconvert_exporter": "python",
   "pygments_lexer": "ipython3",
   "version": "3.10.6"
  }
 },
 "nbformat": 4,
 "nbformat_minor": 5
}
