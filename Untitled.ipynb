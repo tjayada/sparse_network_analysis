{
 "cells": [
  {
   "cell_type": "code",
   "execution_count": 1,
   "id": "931c8c97",
   "metadata": {},
   "outputs": [],
   "source": [
    "from syngem_utils import *"
   ]
  },
  {
   "cell_type": "code",
   "execution_count": 2,
   "id": "73857bb9",
   "metadata": {},
   "outputs": [
    {
     "name": "stdout",
     "output_type": "stream",
     "text": [
      "=> Reading YAML config from Configs/synflow_fc.yml\n",
      "=> Reading YAML config from Configs/hypercube/resnet20/resnet20_quantized_iter_hc_target_sparsity_1_4_highreg.yml\n"
     ]
    }
   ],
   "source": [
    "import torch\n",
    "import pandas as pd\n",
    "import numpy as np\n",
    "import pickle as pkl\n",
    "import argparse\n",
    "import yaml\n",
    "from synflow_args_helper import synflow_parser_args\n",
    "from gem_miner_args_helper import gem_miner_parser_args"
   ]
  },
  {
   "cell_type": "code",
   "execution_count": null,
   "id": "1179e107",
   "metadata": {},
   "outputs": [],
   "source": [
    "def load_synflow_resnet20_1_44_sparsity():\n",
    "    from synflow_args_helper import synflow_parser_args\n",
    "    syn_yaml_txt = open('Configs/synflow_resnet20.yml').read()\n",
    "    syn_loaded_yaml = yaml.load(syn_yaml_txt, Loader=yaml.FullLoader)\n",
    "    synflow_parser_args.__dict__.update(syn_loaded_yaml)\n",
    "    from Models.lottery_resnet import resnet20 as syn_resnet20\n",
    "    \n",
    "    D = 20\n",
    "    W = 16\n",
    "    plan = [(W, D), (2*W, D), (4*W, D)]\n",
    "\n",
    "    model = syn_resnet20(plan, 10)\n",
    "    \n",
    "    model.load_state_dict(torch.load(\"/Users/tjarkdarius/Desktop/test_results/synflow_resnet20_cifar_seed_42_epochs_100_compr_05/model.pt\", map_location=torch.device('cpu')))\n",
    "\n",
    "    model.eval()\n",
    "\n",
    "    return model\n",
    "    "
   ]
  },
  {
   "cell_type": "code",
   "execution_count": null,
   "id": "45fe18ba",
   "metadata": {},
   "outputs": [],
   "source": [
    "def load_gemini_resnet20_1_44_sparsity():\n",
    "    from gem_miner_args_helper import gem_miner_parser_args    \n",
    "    gem_yaml_txt = open('/Users/tjarkdarius/Desktop/syngem_v4/Configs/gemini_resnet20_CIFAR_sparsity_1_44_unflagT.yml').read()\n",
    "\n",
    "    gem_loaded_yaml = yaml.load(gem_yaml_txt, Loader=yaml.FullLoader)\n",
    "\n",
    "    gem_miner_parser_args.__dict__.update(gem_loaded_yaml)\n",
    "    from Models.resnet_kaiming import resnet20 as gem_resnet20\n",
    "\n",
    "    \n",
    "    D = 20\n",
    "    W = 16\n",
    "    plan = [(W, D), (2*W, D), (4*W, D)]\n",
    "\n",
    "    model = gem_resnet20()\n",
    "    \n",
    "    model.load_state_dict(torch.load(\"/Users/tjarkdarius/Desktop/test_results/hc_sparsity_1_44_unflagT/results_pruning_CIFAR10_resnet20_hc_iter_0_5_5_reg_L2_0_0001_sgd_cosine_lr_0_1_0_1_50_finetune_0_01_MAML_-1_10_fan_False_signed_constant_unif_width_1_0_seed_42_idx_None/model_before_finetune.pth\", map_location=torch.device('cpu')))\n",
    "\n",
    "    model.eval()\n",
    "\n",
    "    return model"
   ]
  },
  {
   "cell_type": "code",
   "execution_count": 3,
   "id": "ddd98fb5",
   "metadata": {},
   "outputs": [],
   "source": [
    "# change args helper manually \n",
    "\n",
    "# load yaml file\n",
    "syn_yaml_txt = open('Configs/synflow_resnet20.yml').read()\n",
    "gem_yaml_txt = open('/Users/tjarkdarius/Desktop/syngem_v4/Configs/gemini_resnet20_CIFAR_sparsity_1_44_unflagT.yml').read()\n",
    "\n",
    "# override old args\n",
    "syn_loaded_yaml = yaml.load(syn_yaml_txt, Loader=yaml.FullLoader)\n",
    "gem_loaded_yaml = yaml.load(gem_yaml_txt, Loader=yaml.FullLoader)\n",
    "\n",
    "synflow_parser_args.__dict__.update(syn_loaded_yaml)\n",
    "gem_miner_parser_args.__dict__.update(gem_loaded_yaml)\n",
    "\n",
    "# after updating config files, we can create the mdoels\n",
    "from Models.resnet_kaiming import resnet20 as gem_resnet20\n",
    "from Models.lottery_resnet import resnet20 as syn_resnet20"
   ]
  },
  {
   "cell_type": "code",
   "execution_count": 4,
   "id": "df223741",
   "metadata": {
    "scrolled": true
   },
   "outputs": [
    {
     "name": "stdout",
     "output_type": "stream",
     "text": [
      "==> Conv Type: SubnetConv\n",
      "==> BN Type: AffineBatchNorm\n",
      "==> Building first layer\n",
      "\n"
     ]
    }
   ],
   "source": [
    "D = 20\n",
    "W = 16\n",
    "plan = [(W, D), (2*W, D), (4*W, D)]\n",
    "\n",
    "syn_model = syn_resnet20(plan, 10)\n",
    "gem_model = gem_resnet20()\n",
    "\n",
    "syn_model.load_state_dict(torch.load(\"/Users/tjarkdarius/Desktop/test_results/synflow_resnet20_cifar_seed_42_epochs_100_compr_05/model.pt\", map_location=torch.device('cpu')))\n",
    "gem_model.load_state_dict(torch.load(\"/Users/tjarkdarius/Desktop/test_results/hc_sparsity_1_44_unflagT/results_pruning_CIFAR10_resnet20_hc_iter_0_5_5_reg_L2_0_0001_sgd_cosine_lr_0_1_0_1_50_finetune_0_01_MAML_-1_10_fan_False_signed_constant_unif_width_1_0_seed_42_idx_None/model_before_finetune.pth\", map_location=torch.device('cpu')))\n",
    "\n",
    "syn_model.eval()\n",
    "gem_model.eval()\n",
    "\n",
    "print(\"\")"
   ]
  },
  {
   "cell_type": "code",
   "execution_count": 772,
   "id": "5ba9e954",
   "metadata": {},
   "outputs": [],
   "source": [
    "test = check_sparsity(syn_model, single=True, relative = True)"
   ]
  },
  {
   "cell_type": "code",
   "execution_count": 773,
   "id": "86b57d43",
   "metadata": {},
   "outputs": [
    {
     "data": {
      "text/plain": [
       "{'layer_0': 0.157,\n",
       " 'layer_2': 0.795,\n",
       " 'layer_4': 0.788,\n",
       " 'layer_7': 0.797,\n",
       " 'layer_9': 0.802,\n",
       " 'layer_12': 0.792,\n",
       " 'layer_14': 0.796,\n",
       " 'layer_17': 1.459,\n",
       " 'layer_19': 2.435,\n",
       " 'layer_23': 2.463,\n",
       " 'layer_25': 2.433,\n",
       " 'layer_28': 2.447,\n",
       " 'layer_30': 2.444,\n",
       " 'layer_33': 3.166,\n",
       " 'layer_35': 1.924,\n",
       " 'layer_39': 1.971,\n",
       " 'layer_41': 1.996,\n",
       " 'layer_44': 1.968,\n",
       " 'layer_46': 2.009,\n",
       " 'layer_49': 0.234,\n",
       " 'overall_sparsity': 31.874}"
      ]
     },
     "execution_count": 773,
     "metadata": {},
     "output_type": "execute_result"
    }
   ],
   "source": [
    "test"
   ]
  },
  {
   "cell_type": "code",
   "execution_count": null,
   "id": "d342a3f4",
   "metadata": {},
   "outputs": [],
   "source": [
    "x = 0\n",
    "for i,j in test.items():\n",
    "    if i != \"overall_sparsity\":\n",
    "        x += j"
   ]
  },
  {
   "cell_type": "code",
   "execution_count": null,
   "id": "3c7b68c1",
   "metadata": {},
   "outputs": [],
   "source": [
    "x"
   ]
  },
  {
   "cell_type": "markdown",
   "id": "1f22df1a",
   "metadata": {},
   "source": [
    "# do same for mlp "
   ]
  },
  {
   "cell_type": "code",
   "execution_count": null,
   "id": "15089708",
   "metadata": {},
   "outputs": [],
   "source": [
    "from synflow_args_helper import synflow_parser_args\n",
    "from gem_miner_args_helper import gem_miner_parser_args\n",
    "\n",
    "# change args helper manually \n",
    "\n",
    "# load yaml file\n",
    "syn_yaml_txt = open('Configs/synflow_fc.yml').read()\n",
    "gem_yaml_txt = open('Configs/gemini_fc.yml').read()\n",
    "\n",
    "# override old args\n",
    "syn_loaded_yaml = yaml.load(syn_yaml_txt, Loader=yaml.FullLoader)\n",
    "gem_loaded_yaml = yaml.load(gem_yaml_txt, Loader=yaml.FullLoader)\n",
    "\n",
    "synflow_parser_args.__dict__.update(syn_loaded_yaml)\n",
    "gem_miner_parser_args.__dict__.update(gem_loaded_yaml)\n",
    "\n",
    "# after updating config files, we can create the mdoels\n",
    "from Models.mlp import *"
   ]
  },
  {
   "cell_type": "code",
   "execution_count": null,
   "id": "c8f1d659",
   "metadata": {},
   "outputs": [],
   "source": [
    "input_shape, num_classes = (1, 28, 28), 10"
   ]
  },
  {
   "cell_type": "code",
   "execution_count": null,
   "id": "ef943306",
   "metadata": {},
   "outputs": [],
   "source": [
    "syn_fc = fc(input_shape, num_classes)\n",
    "gem_fc = FC(input_shape, num_classes)\n",
    "\n",
    "syn_fc.load_state_dict(torch.load(\"/Users/tjarkdarius/Desktop/Results_synflow_fc/synflow/synflow_fc_mnist_seed_42_epochs_3_compr_05/model.pt\", map_location=torch.device('cpu')))\n",
    "#gem_fc.load_state_dict(torch.load(\"/Users/tjarkdarius/Desktop/Results_gemini_fc/Results_2/results_pruning_MNIST_FC_hc_iter_0_5_2_reg_L2_0_0001_sgd_cosine_lr_0_1_0_1_50_finetune_0_01_MAML_-1_10_fan_False_signed_constant_unif_width_1_0_seed_42_idx_None/model_before_finetune.pth\", map_location=torch.device('cpu')))\n",
    "gem_fc.load_state_dict(torch.load(\"/Users/tjarkdarius/Desktop/Results_gemini_fc/Results/results_pruning_MNIST_FC_hc_iter_0_5_2_reg_L2_0_0001_sgd_cosine_lr_0_1_0_1_50_finetune_0_01_MAML_-1_10_fan_False_signed_constant_unif_width_1_0_seed_42_idx_None/model_before_finetune.pth\", map_location=torch.device('cpu')))\n",
    "\n",
    "syn_fc.eval()\n",
    "gem_fc.eval()\n",
    "\n",
    "print(\"\")"
   ]
  },
  {
   "cell_type": "code",
   "execution_count": null,
   "id": "74c6c138",
   "metadata": {
    "scrolled": true
   },
   "outputs": [],
   "source": [
    "#test_1 = check_sparsity_resnet(syn_fc, single=True)\n",
    "test_2 = check_sparsity(gem_fc, single=True, relative=False)"
   ]
  },
  {
   "cell_type": "code",
   "execution_count": null,
   "id": "1913c40b",
   "metadata": {},
   "outputs": [],
   "source": [
    "test_2"
   ]
  },
  {
   "cell_type": "markdown",
   "id": "ea4a40db",
   "metadata": {},
   "source": [
    "# write kernel display function"
   ]
  },
  {
   "cell_type": "markdown",
   "id": "09195792",
   "metadata": {},
   "source": [
    "### - layer arg to get kernel of specific layer \n",
    "### - group by arg : sign, \n",
    "### - use mask to get \"real\" kernel \n",
    "### - split into rgb kernel (maybe look at rgb distriubtion of dataset to find parallelen /explanation)  --> have 16 and more channels later on, so not possible \n",
    "### - rgb only in first layer then (rgb arg ?)\n",
    "### add all kernels of a single filter together ? (and divide by amount of channeös to relativise ?)\n"
   ]
  },
  {
   "cell_type": "code",
   "execution_count": null,
   "id": "84cb5093",
   "metadata": {},
   "outputs": [],
   "source": [
    "ret = get_children(gem_model)"
   ]
  },
  {
   "cell_type": "code",
   "execution_count": null,
   "id": "c22ff2e9",
   "metadata": {},
   "outputs": [],
   "source": [
    "ret[2].state_dict()[\"flag\"].shape"
   ]
  },
  {
   "cell_type": "code",
   "execution_count": null,
   "id": "67e4b367",
   "metadata": {},
   "outputs": [],
   "source": [
    "np.array(ret[0].state_dict()[\"flag\"][1][0])"
   ]
  },
  {
   "cell_type": "code",
   "execution_count": null,
   "id": "c8d7eb40",
   "metadata": {},
   "outputs": [],
   "source": [
    "def display_kernel(model: torch.nn.Module):\n",
    "    \n",
    "    banned_layers = [\"Identity2d()\",\n",
    "                     \"ReLU()\",\n",
    "                     \"Flatten(start_dim=1, end_dim=-1)\",\n",
    "                     \"Conv2d(16, 32, kernel_size=(1, 1), stride=(2, 2), bias=False)\", \n",
    "                     \"Conv2d(32, 64, kernel_size=(1, 1), stride=(2, 2), bias=False)\"]\n",
    "    \n",
    "    each_layer = get_children(model)\n",
    "    \n",
    "    matrix = np.zeros((3,3))\n",
    "    \n",
    "    for i in range(len(each_layer)):\n",
    "        \n",
    "        if \"running_mean\" not in each_layer[i].state_dict() and str(each_layer[i]) not in banned_layers:\n",
    "                    if \"flag\" in each_layer[i].state_dict():\n",
    "                        key_word = \"flag\"\n",
    "                    elif \"weight_mask\" in each_layer[i].state_dict() and str(each_layer[i]) not in banned_layers:\n",
    "                        key_word = \"weight_mask\"\n",
    "                                            \n",
    "                    \n",
    "                    for j in range(len(each_layer[i].state_dict()[key_word])):\n",
    "                        #print(np.array(each_layer[i].state_dict()[key_word][j][0]))\n",
    "                        matrix += np.array(each_layer[i].state_dict()[key_word][j][1])\n",
    "                        \n",
    "                        \n",
    "             \n",
    "            \n",
    "            \n",
    "            \n",
    "            \n",
    "            \n",
    "    return matrix             \n",
    "                        \n",
    "                    \n",
    "        \n",
    "    \n",
    "    "
   ]
  },
  {
   "cell_type": "code",
   "execution_count": null,
   "id": "7da9fe0e",
   "metadata": {},
   "outputs": [],
   "source": [
    "lel = display_kernel(gem_model)"
   ]
  },
  {
   "cell_type": "code",
   "execution_count": null,
   "id": "7496384d",
   "metadata": {
    "scrolled": true
   },
   "outputs": [],
   "source": [
    "lel"
   ]
  },
  {
   "cell_type": "code",
   "execution_count": null,
   "id": "3b287d38",
   "metadata": {},
   "outputs": [],
   "source": [
    "test = get_children(gem_model)\n",
    "matrix = np.zeros((3,3))\n",
    "for j in range(len(test[0].state_dict()[\"flag\"])):\n",
    "    matrix += np.array(test[0].state_dict()[\"flag\"][j][2])"
   ]
  },
  {
   "cell_type": "code",
   "execution_count": null,
   "id": "2bcf3dec",
   "metadata": {},
   "outputs": [],
   "source": [
    "matrix"
   ]
  },
  {
   "cell_type": "markdown",
   "id": "745fec1a",
   "metadata": {},
   "source": [
    "# compare mask function"
   ]
  },
  {
   "cell_type": "markdown",
   "id": "5ee3b17b",
   "metadata": {},
   "source": [
    "### - get every unique mask layer wise or all arg\n",
    "### - get weight magnitude heatmap for masks\n",
    "### - get weight sign heatmap for masks \n",
    "### - for gemini check if score mask and real mask are always similar (every weight that should be pruned is pruned)\n",
    "### compare featuremaps of init and after fine tune model to see what they wanted to learn ?"
   ]
  },
  {
   "cell_type": "code",
   "execution_count": null,
   "id": "8836b1cb",
   "metadata": {},
   "outputs": [],
   "source": []
  },
  {
   "cell_type": "code",
   "execution_count": null,
   "id": "ce92e0d8",
   "metadata": {},
   "outputs": [],
   "source": []
  },
  {
   "cell_type": "markdown",
   "id": "4130f4ba",
   "metadata": {},
   "source": [
    "# function to look at feature map of certain kernel and image !!!\n",
    "## --> maybe only feasible for first layer ? \n",
    "### --> checl for image that wasnt classified correcty as well, since it has to have some problems there\n",
    "### look at laery after stride 2, downsampling might result in interesting kernels "
   ]
  },
  {
   "cell_type": "code",
   "execution_count": 41,
   "id": "fd55d4f5",
   "metadata": {},
   "outputs": [],
   "source": [
    "def get_featuremap(model: torch.nn.Module, layer):\n",
    "    banned_layers = [\"Identity2d()\",\n",
    "                     \"ReLU()\",\n",
    "                     \"Flatten(start_dim=1, end_dim=-1)\",\n",
    "                     \"Conv2d(16, 32, kernel_size=(1, 1), stride=(2, 2), bias=False)\", \n",
    "                     \"Conv2d(32, 64, kernel_size=(1, 1), stride=(2, 2), bias=False)\"]\n",
    "    \n",
    "    each_layer = get_children(model)\n",
    "    \n",
    "    matrix = np.zeros((3,3,3))\n",
    "    \n",
    "    #for i in range(len(each_layer)):\n",
    "    \n",
    "    # iterate by hand for now\n",
    "    i = layer\n",
    "    if \"running_mean\" not in each_layer[i].state_dict() and str(each_layer[i]) not in banned_layers:\n",
    "        if \"flag\" in each_layer[i].state_dict():\n",
    "            key_word = \"flag\"\n",
    "        elif \"weight_mask\" in each_layer[i].state_dict() and str(each_layer[i]) not in banned_layers:\n",
    "            key_word = \"weight_mask\"\n",
    "\n",
    "    \n",
    "     \n",
    "    \n",
    "        #for j in range(len(each_layer[i].state_dict()[key_word])):\n",
    "            #print(np.array(each_layer[i].state_dict()[key_word][j][0]))\n",
    "            \n",
    "    feature_map = np.array(each_layer[i].state_dict()[key_word]) * np.array(each_layer[i].state_dict()[\"weight\"])\n",
    "                        \n",
    "            \n",
    "            \n",
    "            \n",
    "    return feature_map             "
   ]
  },
  {
   "cell_type": "code",
   "execution_count": null,
   "id": "f732ee7d",
   "metadata": {},
   "outputs": [],
   "source": [
    "def get_filters(model: torch.nn.Module, layers: int = None):\n",
    "    \"\"\"\n",
    "    CHANGE\n",
    "    \"\"\"\n",
    "    \n",
    "    # get a list of all the layers in the model\n",
    "    each_layer = get_children(model)\n",
    "    \n",
    "    # layers that do not contribute to sparsity\n",
    "    banned_layers = [\"Identity2d()\",\n",
    "                     \"ReLU()\",\n",
    "                     \"Flatten(start_dim=1, end_dim=-1)\",\n",
    "                     \"Conv2d(16, 32, kernel_size=(1, 1), stride=(2, 2), bias=False)\", \n",
    "                     \"Conv2d(32, 64, kernel_size=(1, 1), stride=(2, 2), bias=False)\"]\n",
    "\n",
    "    # declare empty list for all filters in which single filter will be appended\n",
    "    all_filters = []\n",
    "    \n",
    "        \n",
    "    # if list of layers is passed, we iterate over them    \n",
    "    if layers != None:\n",
    "        for i in layers:\n",
    "            if \"running_mean\" not in each_layer[i].state_dict() and str(each_layer[i]) not in banned_layers:\n",
    "                if \"flag\" in each_layer[i].state_dict():\n",
    "                    key_word = \"flag\"\n",
    "                elif \"weight_mask\" in each_layer[i].state_dict() and str(each_layer[i]) not in banned_layers:\n",
    "                    key_word = \"weight_mask\"\n",
    "\n",
    "                    single_filter = np.array(each_layer[i].state_dict()[key_word]) * np.array(each_layer[i].state_dict()[\"weight\"])\n",
    "\n",
    "                    all_filters.append(single_filter)   \n",
    "\n",
    "    # if no layers are passed, that means every layer is selected       \n",
    "    elif layers == None:\n",
    "        for i in range((len(each_layer))):\n",
    "            if \"running_mean\" not in each_layer[i].state_dict() and str(each_layer[i]) not in banned_layers:\n",
    "                if \"flag\" in each_layer[i].state_dict():\n",
    "                    key_word = \"flag\"\n",
    "                elif \"weight_mask\" in each_layer[i].state_dict():\n",
    "                    key_word = \"weight_mask\"\n",
    "                \n",
    "                single_filter = np.array(each_layer[i].state_dict()[key_word]) * np.array(each_layer[i].state_dict()[\"weight\"])\n",
    "\n",
    "                all_filters.append(single_filter) \n",
    "                \n",
    "        \n",
    "    return all_filters"
   ]
  },
  {
   "cell_type": "code",
   "execution_count": 49,
   "id": "69c3645c",
   "metadata": {},
   "outputs": [],
   "source": [
    "save_test_layer_1 = get_featuremap(gem_model, layer=0)\n",
    "test = get_featuremap(gem_model, layer=2)"
   ]
  },
  {
   "cell_type": "code",
   "execution_count": 50,
   "id": "58c90410",
   "metadata": {},
   "outputs": [
    {
     "data": {
      "text/plain": [
       "(16, 16, 3, 3)"
      ]
     },
     "execution_count": 50,
     "metadata": {},
     "output_type": "execute_result"
    }
   ],
   "source": [
    "test.shape"
   ]
  },
  {
   "cell_type": "code",
   "execution_count": 29,
   "id": "8ff80450",
   "metadata": {
    "scrolled": false
   },
   "outputs": [
    {
     "name": "stdout",
     "output_type": "stream",
     "text": [
      "Files already downloaded and verified\n",
      "Files already downloaded and verified\n"
     ]
    }
   ],
   "source": [
    "test_image = get_images_cifar10(batch_size=1)"
   ]
  },
  {
   "cell_type": "code",
   "execution_count": 30,
   "id": "48b3f1cd",
   "metadata": {},
   "outputs": [],
   "source": [
    "img, _ = test_image.get_new_images(output=True)"
   ]
  },
  {
   "cell_type": "code",
   "execution_count": 31,
   "id": "0fd681d0",
   "metadata": {
    "scrolled": true
   },
   "outputs": [
    {
     "data": {
      "image/png": "[encoded data removed]",
      "text/plain": [
       "<Figure size 640x480 with 1 Axes>"
      ]
     },
     "metadata": {},
     "output_type": "display_data"
    },
    {
     "name": "stdout",
     "output_type": "stream",
     "text": [
      "GroundTruth:  plane\n"
     ]
    }
   ],
   "source": [
    "test_image.display()"
   ]
  },
  {
   "cell_type": "code",
   "execution_count": null,
   "id": "0bdee223",
   "metadata": {},
   "outputs": [],
   "source": []
  },
  {
   "cell_type": "code",
   "execution_count": 32,
   "id": "f9b51fd1",
   "metadata": {},
   "outputs": [],
   "source": [
    "out = gem_model(img)"
   ]
  },
  {
   "cell_type": "code",
   "execution_count": 33,
   "id": "035becc7",
   "metadata": {},
   "outputs": [
    {
     "name": "stdout",
     "output_type": "stream",
     "text": [
      "Predicted:  plane\n"
     ]
    }
   ],
   "source": [
    "_, predicted = torch.max(out, 1)\n",
    "\n",
    "\n",
    "classes = ('plane', 'car', 'bird', 'cat',\n",
    "                   'deer', 'dog', 'frog', 'horse', 'ship', 'truck')\n",
    "\n",
    "\n",
    "print('Predicted: ', ' '.join(f'{classes[predicted[j]]:5s}'\n",
    "                              for j in range(1)))"
   ]
  },
  {
   "cell_type": "code",
   "execution_count": 34,
   "id": "5e034d0d",
   "metadata": {},
   "outputs": [],
   "source": [
    "import scipy\n",
    "from scipy.ndimage import convolve, correlate"
   ]
  },
  {
   "cell_type": "code",
   "execution_count": null,
   "id": "4ea6d353",
   "metadata": {},
   "outputs": [],
   "source": []
  },
  {
   "cell_type": "markdown",
   "id": "50a85b5e",
   "metadata": {},
   "source": [
    "# test what conv2d output looks like"
   ]
  },
  {
   "cell_type": "code",
   "execution_count": 51,
   "id": "a4dd43f6",
   "metadata": {},
   "outputs": [],
   "source": [
    "test = torch.from_numpy(test)\n",
    "save_test_layer_1 = torch.from_numpy(save_test_layer_1)"
   ]
  },
  {
   "cell_type": "code",
   "execution_count": 52,
   "id": "48a8421f",
   "metadata": {},
   "outputs": [
    {
     "data": {
      "text/plain": [
       "torch.Size([16, 16, 3, 3])"
      ]
     },
     "execution_count": 52,
     "metadata": {},
     "output_type": "execute_result"
    }
   ],
   "source": [
    "test.shape"
   ]
  },
  {
   "cell_type": "code",
   "execution_count": 53,
   "id": "6e6b39fc",
   "metadata": {},
   "outputs": [
    {
     "data": {
      "text/plain": [
       "torch.Size([16, 3, 3, 3])"
      ]
     },
     "execution_count": 53,
     "metadata": {},
     "output_type": "execute_result"
    }
   ],
   "source": [
    "save_test_layer_1.shape"
   ]
  },
  {
   "cell_type": "code",
   "execution_count": 54,
   "id": "7bceae23",
   "metadata": {},
   "outputs": [],
   "source": [
    "torch.manual_seed(0)\n",
    "np.random.seed(0)"
   ]
  },
  {
   "cell_type": "code",
   "execution_count": 55,
   "id": "10596d73",
   "metadata": {},
   "outputs": [],
   "source": [
    "save_test_layer_1 = torch.nn.functional.conv2d(img, save_test_layer_1, padding=1, dilation=1)\n",
    "test_layer_1 = torch.nn.functional.conv2d(save_test_layer_1, test, padding=1, dilation=1)\n",
    "#test_layer_2 = torch.nn.Conv2d(3, 1, kernel_size=(3, 3), bias=False, padding=1, groups=1)"
   ]
  },
  {
   "cell_type": "code",
   "execution_count": 56,
   "id": "20b375b6",
   "metadata": {},
   "outputs": [],
   "source": [
    "#test_layer_2.weight = torch.nn.Parameter(test)\n",
    "#test_layer_2.eval()"
   ]
  },
  {
   "cell_type": "code",
   "execution_count": 57,
   "id": "d9c303cf",
   "metadata": {},
   "outputs": [],
   "source": [
    "#test_layer_2 = test_layer_2(img)"
   ]
  },
  {
   "cell_type": "code",
   "execution_count": 58,
   "id": "d03e8186",
   "metadata": {},
   "outputs": [],
   "source": [
    "#test_layer_2.shape"
   ]
  },
  {
   "cell_type": "code",
   "execution_count": 59,
   "id": "d60690f8",
   "metadata": {},
   "outputs": [
    {
     "data": {
      "text/plain": [
       "torch.Size([1, 16, 32, 32])"
      ]
     },
     "execution_count": 59,
     "metadata": {},
     "output_type": "execute_result"
    }
   ],
   "source": [
    "test_layer_1.shape"
   ]
  },
  {
   "cell_type": "code",
   "execution_count": 60,
   "id": "4f534f2b",
   "metadata": {},
   "outputs": [],
   "source": [
    "ret_1 = torch.unsqueeze(test_layer_1[0][0],0)\n",
    "#ret_2 = test_layer_2[0][0][None]\n",
    "\n",
    "#ret.shape"
   ]
  },
  {
   "cell_type": "code",
   "execution_count": 61,
   "id": "46ec0405",
   "metadata": {},
   "outputs": [],
   "source": [
    "#ret_2.shape"
   ]
  },
  {
   "cell_type": "code",
   "execution_count": 62,
   "id": "05863d5d",
   "metadata": {
    "scrolled": true
   },
   "outputs": [
    {
     "data": {
      "text/plain": [
       "tensor(-1.5979)"
      ]
     },
     "execution_count": 62,
     "metadata": {},
     "output_type": "execute_result"
    }
   ],
   "source": [
    "ret_1.min()"
   ]
  },
  {
   "cell_type": "code",
   "execution_count": 63,
   "id": "11f3941c",
   "metadata": {},
   "outputs": [
    {
     "data": {
      "text/plain": [
       "tensor(1.1180)"
      ]
     },
     "execution_count": 63,
     "metadata": {},
     "output_type": "execute_result"
    }
   ],
   "source": [
    "ret_1.max()"
   ]
  },
  {
   "cell_type": "code",
   "execution_count": 64,
   "id": "7302a952",
   "metadata": {},
   "outputs": [
    {
     "data": {
      "text/plain": [
       "torch.Size([1, 32, 32])"
      ]
     },
     "execution_count": 64,
     "metadata": {},
     "output_type": "execute_result"
    }
   ],
   "source": [
    "ret_1.shape"
   ]
  },
  {
   "cell_type": "code",
   "execution_count": 65,
   "id": "2f2239f1",
   "metadata": {
    "scrolled": true
   },
   "outputs": [
    {
     "data": {
      "image/png": "[encoded data removed]",
      "text/plain": [
       "<Figure size 640x480 with 1 Axes>"
      ]
     },
     "metadata": {},
     "output_type": "display_data"
    }
   ],
   "source": [
    "#f, axarr = plt.subplots(2)\n",
    "#axarr[0].imshow(ret_1[0])\n",
    "#axarr[1].imshow(ret_2[0].detach().numpy())\n",
    "plt.imshow(ret_1[0], cmap=\"gray\")\n",
    "plt.show()"
   ]
  },
  {
   "cell_type": "code",
   "execution_count": 66,
   "id": "e09f2740",
   "metadata": {},
   "outputs": [],
   "source": [
    "#all((ret_1 == ret_2).flatten())"
   ]
  },
  {
   "cell_type": "code",
   "execution_count": 67,
   "id": "a8c52335",
   "metadata": {},
   "outputs": [],
   "source": [
    "#test.shape"
   ]
  },
  {
   "cell_type": "code",
   "execution_count": 68,
   "id": "ecee2d89",
   "metadata": {
    "scrolled": true
   },
   "outputs": [],
   "source": [
    "fert = scipy.signal.correlate(save_test_layer_1, test[0][None], mode='same')#, cval=1.0)"
   ]
  },
  {
   "cell_type": "code",
   "execution_count": 69,
   "id": "5aa13827",
   "metadata": {},
   "outputs": [
    {
     "data": {
      "text/plain": [
       "(1, 16, 32, 32)"
      ]
     },
     "execution_count": 69,
     "metadata": {},
     "output_type": "execute_result"
    }
   ],
   "source": [
    "fert.shape"
   ]
  },
  {
   "cell_type": "code",
   "execution_count": 70,
   "id": "2fe45df2",
   "metadata": {},
   "outputs": [],
   "source": [
    "#fert_1 = fert[0][0] + fert[0][1] + fert[0][2]"
   ]
  },
  {
   "cell_type": "code",
   "execution_count": 71,
   "id": "6383ab50",
   "metadata": {},
   "outputs": [],
   "source": [
    "#fert_2 = np.transpose(fert[0], (1, 2, 0))\n",
    "\n",
    "#print(fert_2.shape)\n",
    "\n",
    "#fert_3 = fert\n",
    "#fert_2 = fert_2.sum(-1)"
   ]
  },
  {
   "cell_type": "code",
   "execution_count": 72,
   "id": "d755486f",
   "metadata": {},
   "outputs": [
    {
     "data": {
      "text/plain": [
       "(32, 32)"
      ]
     },
     "execution_count": 72,
     "metadata": {},
     "output_type": "execute_result"
    }
   ],
   "source": [
    "fert[0][1].shape"
   ]
  },
  {
   "cell_type": "code",
   "execution_count": 73,
   "id": "271cfe65",
   "metadata": {},
   "outputs": [],
   "source": [
    "#fert = np.transpose(fert, (1, 2, 0))"
   ]
  },
  {
   "cell_type": "code",
   "execution_count": 74,
   "id": "930b7e34",
   "metadata": {
    "scrolled": false
   },
   "outputs": [
    {
     "data": {
      "text/plain": [
       "1.1180346"
      ]
     },
     "execution_count": 74,
     "metadata": {},
     "output_type": "execute_result"
    }
   ],
   "source": [
    "fert[0][8].max()"
   ]
  },
  {
   "cell_type": "code",
   "execution_count": 75,
   "id": "71469f85",
   "metadata": {},
   "outputs": [
    {
     "data": {
      "text/plain": [
       "-1.5978854"
      ]
     },
     "execution_count": 75,
     "metadata": {},
     "output_type": "execute_result"
    }
   ],
   "source": [
    "fert[0][8].min()"
   ]
  },
  {
   "cell_type": "code",
   "execution_count": 1,
   "id": "61ab9f1f",
   "metadata": {
    "scrolled": true
   },
   "outputs": [
    {
     "ename": "NameError",
     "evalue": "name 'plt' is not defined",
     "output_type": "error",
     "traceback": [
      "\u001b[0;31m---------------------------------------------------------------------------\u001b[0m",
      "\u001b[0;31mNameError\u001b[0m                                 Traceback (most recent call last)",
      "Cell \u001b[0;32mIn [1], line 1\u001b[0m\n\u001b[0;32m----> 1\u001b[0m plt\u001b[38;5;241m.\u001b[39mimshow(fert[\u001b[38;5;241m0\u001b[39m][\u001b[38;5;241m8\u001b[39m], cmap\u001b[38;5;241m=\u001b[39m\u001b[38;5;124m\"\u001b[39m\u001b[38;5;124mgray\u001b[39m\u001b[38;5;124m\"\u001b[39m)\n\u001b[1;32m      2\u001b[0m plt\u001b[38;5;241m.\u001b[39mshow()\n",
      "\u001b[0;31mNameError\u001b[0m: name 'plt' is not defined"
     ]
    }
   ],
   "source": [
    "plt.imshow(fert[0][8], cmap=\"gray\")\n",
    "plt.show()"
   ]
  },
  {
   "cell_type": "code",
   "execution_count": 78,
   "id": "23ddbf97",
   "metadata": {},
   "outputs": [
    {
     "data": {
      "text/plain": [
       "140"
      ]
     },
     "execution_count": 78,
     "metadata": {},
     "output_type": "execute_result"
    }
   ],
   "source": [
    "sum((fert[0][8] == ret_1.numpy()).flatten())"
   ]
  },
  {
   "cell_type": "code",
   "execution_count": 79,
   "id": "8814a222",
   "metadata": {},
   "outputs": [],
   "source": [
    "kk_1 = np.round(fert[0][8], 5)\n",
    "kk_2 = np.round(ret_1, 5)"
   ]
  },
  {
   "cell_type": "code",
   "execution_count": 80,
   "id": "ba77a34c",
   "metadata": {},
   "outputs": [
    {
     "data": {
      "text/plain": [
       "1019"
      ]
     },
     "execution_count": 80,
     "metadata": {},
     "output_type": "execute_result"
    }
   ],
   "source": [
    "sum((kk_1 == kk_2.numpy()).flatten())"
   ]
  },
  {
   "cell_type": "code",
   "execution_count": 81,
   "id": "1990eda0",
   "metadata": {
    "scrolled": false
   },
   "outputs": [
    {
     "data": {
      "image/png": "[encoded data removed]",
      "text/plain": [
       "<Figure size 640x480 with 1 Axes>"
      ]
     },
     "metadata": {},
     "output_type": "display_data"
    }
   ],
   "source": [
    "plt.imshow(np.array(kk_1 == kk_2.numpy())[0])\n",
    "plt.show()"
   ]
  },
  {
   "cell_type": "code",
   "execution_count": null,
   "id": "d4c539e2",
   "metadata": {},
   "outputs": [],
   "source": [
    "all((kk_1 == kk_2.numpy()).flatten())"
   ]
  },
  {
   "cell_type": "code",
   "execution_count": null,
   "id": "007801b6",
   "metadata": {
    "scrolled": true
   },
   "outputs": [],
   "source": [
    "np.unique(test[0][None])"
   ]
  },
  {
   "cell_type": "code",
   "execution_count": null,
   "id": "aa2323cd",
   "metadata": {},
   "outputs": [],
   "source": [
    "test.shape"
   ]
  },
  {
   "cell_type": "code",
   "execution_count": null,
   "id": "c3b5d50e",
   "metadata": {},
   "outputs": [],
   "source": [
    "test[0][None].shape"
   ]
  },
  {
   "cell_type": "code",
   "execution_count": null,
   "id": "bc667717",
   "metadata": {},
   "outputs": [],
   "source": [
    "test.shape"
   ]
  },
  {
   "cell_type": "markdown",
   "id": "6e844ce4",
   "metadata": {},
   "source": [
    "# def und loop zum kernel /  featuremap finden"
   ]
  },
  {
   "cell_type": "code",
   "execution_count": 549,
   "id": "9427219f",
   "metadata": {},
   "outputs": [],
   "source": [
    "def create_filter(filter_to_break, good_fit):\n",
    "    nr_ch = filter_to_break.shape[1]\n",
    "    k_w = filter_to_break.shape[2]\n",
    "    k_h = filter_to_break.shape[3]\n",
    "    uniq = np.unique(filter_to_break)\n",
    "    uniq = np.append(uniq, [0,0,0,0,0,0,0,0])\n",
    "    \n",
    "    new_val = 0\n",
    "    if type(good_fit) != type(None):\n",
    "        filter_1 = good_fit.numpy()\n",
    "        \n",
    "        for idx, val in np.ndenumerate(filter_1):\n",
    "            rnd = int(np.random.randint(len(uniq), size=1))\n",
    "            \n",
    "            new_val = val\n",
    "            if uniq[rnd] != val:\n",
    "                rnd = int(np.random.randint(len(uniq), size=1))\n",
    "                new_val = uniq[rnd]\n",
    "            \n",
    "            elif new_val < 0 and rnd < 3:\n",
    "                new_val = uniq[2]\n",
    "            \n",
    "            elif new_val > 0 and rnd < 3:\n",
    "                new_val = uniq[0]\n",
    "                     \n",
    "            filter_1[idx] = new_val\n",
    "        \n",
    "    \n",
    "    else:\n",
    "        filter_1 = np.zeros_like(filter_to_break[0])\n",
    "        for idx, _ in np.ndenumerate(filter_1):\n",
    "            rnd = int(np.random.randint(len(uniq), size=1))\n",
    "            filter_1[idx] = uniq[rnd]\n",
    "            \n",
    "    \n",
    "    return torch.from_numpy(filter_1[None])\n",
    "        "
   ]
  },
  {
   "cell_type": "markdown",
   "id": "52c8b18b",
   "metadata": {},
   "source": [
    "# add rules for good kernels "
   ]
  },
  {
   "cell_type": "code",
   "execution_count": 492,
   "id": "5a99dcca",
   "metadata": {},
   "outputs": [],
   "source": [
    "uniq = np.unique(test[0][None])"
   ]
  },
  {
   "cell_type": "code",
   "execution_count": 493,
   "id": "4d668fe2",
   "metadata": {},
   "outputs": [
    {
     "data": {
      "text/plain": [
       "array([-0.11785113,  0.        ,  0.11785113,  0.        ,  0.        ,\n",
       "        0.        ,  0.        ])"
      ]
     },
     "execution_count": 493,
     "metadata": {},
     "output_type": "execute_result"
    }
   ],
   "source": [
    "np.append(uniq, [0,0,0,0])"
   ]
  },
  {
   "cell_type": "code",
   "execution_count": 494,
   "id": "64a3f94e",
   "metadata": {
    "scrolled": false
   },
   "outputs": [],
   "source": [
    "pls_1 = create_filter(test[0][None], None)"
   ]
  },
  {
   "cell_type": "code",
   "execution_count": 224,
   "id": "f806e3cd",
   "metadata": {},
   "outputs": [
    {
     "data": {
      "text/plain": [
       "torch.Size([1, 16, 3, 3])"
      ]
     },
     "execution_count": 224,
     "metadata": {},
     "output_type": "execute_result"
    }
   ],
   "source": [
    "pls_1.shape"
   ]
  },
  {
   "cell_type": "code",
   "execution_count": 225,
   "id": "42dbed53",
   "metadata": {
    "scrolled": true
   },
   "outputs": [
    {
     "data": {
      "text/plain": [
       "torch.Size([1, 16, 3, 3])"
      ]
     },
     "execution_count": 225,
     "metadata": {},
     "output_type": "execute_result"
    }
   ],
   "source": [
    "pls_2 = create_filter(test[0][None], pls_1[0])\n",
    "pls_2.shape"
   ]
  },
  {
   "cell_type": "code",
   "execution_count": 226,
   "id": "f8ab4cf8",
   "metadata": {},
   "outputs": [
    {
     "data": {
      "text/plain": [
       "torch.Size([1, 16, 3, 3])"
      ]
     },
     "execution_count": 226,
     "metadata": {},
     "output_type": "execute_result"
    }
   ],
   "source": [
    "pls_3 = create_filter(test[0][None], pls_2[0])\n",
    "pls_3.shape"
   ]
  },
  {
   "cell_type": "code",
   "execution_count": 577,
   "id": "307e0d0c",
   "metadata": {},
   "outputs": [],
   "source": [
    "def compare_feature_map(filter_1, filter_2, image):\n",
    "    feat_1 = scipy.signal.correlate(image, filter_1, mode='same')\n",
    "    feat_2 = scipy.signal.correlate(image, filter_2, mode='same')\n",
    "    \n",
    "    kk_1 = np.round(feat_1[0][8], 1)\n",
    "    kk_2 = np.round(feat_2[0][8], 1)\n",
    "    \n",
    "    #score = sum((kk_1 == kk_2).flatten())\n",
    "    score = 1024 - sum((abs(kk_1 - kk_2)).flatten()) \n",
    "    \n",
    "    loss = sum((abs(kk_1 - kk_2)).flatten()) / (32*32)\n",
    "    \n",
    "    \n",
    "    \n",
    "    return score, loss\n",
    "    "
   ]
  },
  {
   "cell_type": "code",
   "execution_count": 594,
   "id": "35cddbc5",
   "metadata": {},
   "outputs": [],
   "source": [
    "catch_me_if_you_can = test[0][None]\n",
    "lets_try = create_filter(catch_me_if_you_can, None)\n",
    "\n",
    "\n",
    "score = 0\n",
    "loss = 100\n",
    "best_map = lets_try\n",
    "\n",
    "#while score < 350:\n",
    "for i in range(100000):\n",
    "    #print(i)\n",
    "    \n",
    "    new_score, new_loss = compare_feature_map(catch_me_if_you_can, lets_try, save_test_layer_1)\n",
    "    #print(new_score)\n",
    "    \n",
    "    if new_score > score:# and new_score > score:\n",
    "        score = new_score\n",
    "        loss = new_loss\n",
    "        best_map = lets_try\n",
    "        \n",
    "    lets_try = create_filter(catch_me_if_you_can, None)\n",
    "    "
   ]
  },
  {
   "cell_type": "code",
   "execution_count": 595,
   "id": "6c045766",
   "metadata": {},
   "outputs": [
    {
     "data": {
      "text/plain": [
       "tensor([[[ 0.0000,  0.0000,  0.0000],\n",
       "         [ 0.0000,  0.0000,  0.1179],\n",
       "         [ 0.0000,  0.0000,  0.0000]],\n",
       "\n",
       "        [[ 0.0000,  0.0000,  0.1179],\n",
       "         [ 0.0000,  0.0000,  0.0000],\n",
       "         [ 0.0000,  0.0000,  0.0000]],\n",
       "\n",
       "        [[ 0.0000,  0.0000,  0.0000],\n",
       "         [ 0.0000,  0.0000,  0.0000],\n",
       "         [ 0.0000,  0.0000,  0.0000]],\n",
       "\n",
       "        [[ 0.0000,  0.0000,  0.0000],\n",
       "         [ 0.0000,  0.0000,  0.0000],\n",
       "         [ 0.0000,  0.0000,  0.0000]],\n",
       "\n",
       "        [[-0.1179,  0.1179,  0.0000],\n",
       "         [ 0.0000,  0.0000,  0.0000],\n",
       "         [ 0.0000,  0.0000,  0.0000]],\n",
       "\n",
       "        [[ 0.0000,  0.0000, -0.1179],\n",
       "         [ 0.0000,  0.0000,  0.0000],\n",
       "         [ 0.0000,  0.0000,  0.0000]],\n",
       "\n",
       "        [[ 0.0000,  0.0000,  0.1179],\n",
       "         [ 0.0000,  0.0000,  0.0000],\n",
       "         [ 0.0000,  0.0000,  0.0000]],\n",
       "\n",
       "        [[ 0.0000,  0.0000,  0.0000],\n",
       "         [-0.1179,  0.0000,  0.0000],\n",
       "         [ 0.0000,  0.0000,  0.0000]],\n",
       "\n",
       "        [[ 0.0000,  0.0000,  0.0000],\n",
       "         [ 0.0000,  0.0000,  0.0000],\n",
       "         [ 0.0000,  0.0000,  0.1179]],\n",
       "\n",
       "        [[ 0.0000,  0.0000,  0.0000],\n",
       "         [ 0.0000,  0.0000,  0.0000],\n",
       "         [-0.1179,  0.0000,  0.0000]],\n",
       "\n",
       "        [[ 0.0000,  0.0000,  0.0000],\n",
       "         [ 0.0000,  0.1179,  0.0000],\n",
       "         [ 0.0000,  0.0000,  0.0000]],\n",
       "\n",
       "        [[ 0.0000,  0.0000, -0.1179],\n",
       "         [ 0.0000,  0.0000,  0.1179],\n",
       "         [ 0.0000,  0.0000,  0.0000]],\n",
       "\n",
       "        [[ 0.0000,  0.0000,  0.0000],\n",
       "         [ 0.0000,  0.0000,  0.0000],\n",
       "         [ 0.0000,  0.0000,  0.0000]],\n",
       "\n",
       "        [[ 0.0000,  0.0000,  0.0000],\n",
       "         [ 0.0000,  0.0000,  0.0000],\n",
       "         [ 0.0000,  0.0000,  0.0000]],\n",
       "\n",
       "        [[-0.1179,  0.0000,  0.0000],\n",
       "         [ 0.1179,  0.1179,  0.0000],\n",
       "         [ 0.0000,  0.0000, -0.1179]],\n",
       "\n",
       "        [[ 0.0000,  0.0000,  0.0000],\n",
       "         [ 0.0000,  0.0000, -0.1179],\n",
       "         [ 0.0000,  0.0000,  0.0000]]])"
      ]
     },
     "execution_count": 595,
     "metadata": {},
     "output_type": "execute_result"
    }
   ],
   "source": [
    "best_map[0]"
   ]
  },
  {
   "cell_type": "code",
   "execution_count": 722,
   "id": "d1cf3b77",
   "metadata": {
    "scrolled": true
   },
   "outputs": [
    {
     "data": {
      "text/plain": [
       "tensor([[[ 0.0000,  0.0000,  0.0000],\n",
       "         [ 0.0000, -0.0000, -0.0000],\n",
       "         [ 0.0000,  0.0000,  0.0000]],\n",
       "\n",
       "        [[-0.0000, -0.0000,  0.0000],\n",
       "         [ 0.0000,  0.0000, -0.1179],\n",
       "         [ 0.0000,  0.1179,  0.0000]],\n",
       "\n",
       "        [[ 0.0000,  0.0000,  0.0000],\n",
       "         [ 0.0000, -0.0000, -0.1179],\n",
       "         [ 0.0000, -0.0000, -0.0000]],\n",
       "\n",
       "        [[-0.0000,  0.0000,  0.0000],\n",
       "         [ 0.0000, -0.0000, -0.0000],\n",
       "         [-0.0000, -0.0000,  0.0000]],\n",
       "\n",
       "        [[ 0.0000,  0.1179,  0.0000],\n",
       "         [ 0.0000,  0.0000, -0.0000],\n",
       "         [ 0.0000, -0.1179, -0.0000]],\n",
       "\n",
       "        [[-0.0000,  0.0000,  0.0000],\n",
       "         [ 0.0000,  0.1179, -0.0000],\n",
       "         [-0.0000,  0.0000, -0.1179]],\n",
       "\n",
       "        [[-0.0000, -0.0000,  0.0000],\n",
       "         [-0.0000,  0.0000,  0.0000],\n",
       "         [-0.0000, -0.0000,  0.0000]],\n",
       "\n",
       "        [[-0.0000, -0.0000,  0.0000],\n",
       "         [-0.0000, -0.0000, -0.0000],\n",
       "         [-0.0000, -0.0000, -0.0000]],\n",
       "\n",
       "        [[ 0.0000,  0.0000, -0.0000],\n",
       "         [-0.1179, -0.1179, -0.0000],\n",
       "         [-0.0000, -0.0000,  0.0000]],\n",
       "\n",
       "        [[-0.1179, -0.0000, -0.0000],\n",
       "         [ 0.0000, -0.0000, -0.0000],\n",
       "         [ 0.0000,  0.0000,  0.0000]],\n",
       "\n",
       "        [[-0.0000, -0.0000, -0.0000],\n",
       "         [ 0.0000,  0.0000, -0.0000],\n",
       "         [ 0.0000, -0.0000, -0.0000]],\n",
       "\n",
       "        [[-0.0000,  0.0000,  0.0000],\n",
       "         [-0.0000,  0.0000, -0.0000],\n",
       "         [ 0.0000,  0.0000,  0.0000]],\n",
       "\n",
       "        [[-0.1179,  0.1179, -0.0000],\n",
       "         [-0.0000,  0.0000,  0.0000],\n",
       "         [ 0.0000,  0.0000, -0.0000]],\n",
       "\n",
       "        [[ 0.0000,  0.0000, -0.1179],\n",
       "         [-0.0000, -0.0000,  0.0000],\n",
       "         [ 0.0000, -0.0000, -0.0000]],\n",
       "\n",
       "        [[ 0.0000, -0.0000, -0.0000],\n",
       "         [ 0.1179, -0.0000, -0.1179],\n",
       "         [ 0.0000, -0.0000, -0.0000]],\n",
       "\n",
       "        [[ 0.0000, -0.0000, -0.0000],\n",
       "         [ 0.0000, -0.1179, -0.0000],\n",
       "         [-0.0000, -0.0000, -0.0000]]])"
      ]
     },
     "execution_count": 722,
     "metadata": {},
     "output_type": "execute_result"
    }
   ],
   "source": [
    "catch_me_if_you_can[0]"
   ]
  },
  {
   "cell_type": "code",
   "execution_count": 721,
   "id": "d3e3fcfd",
   "metadata": {},
   "outputs": [
    {
     "data": {
      "text/plain": [
       "0.8888888888888888"
      ]
     },
     "execution_count": 721,
     "metadata": {},
     "output_type": "execute_result"
    }
   ],
   "source": [
    "128/144"
   ]
  },
  {
   "cell_type": "code",
   "execution_count": 597,
   "id": "beb659ec",
   "metadata": {},
   "outputs": [
    {
     "data": {
      "text/plain": [
       "863.5999956279993"
      ]
     },
     "execution_count": 597,
     "metadata": {},
     "output_type": "execute_result"
    }
   ],
   "source": [
    "score"
   ]
  },
  {
   "cell_type": "code",
   "execution_count": 598,
   "id": "8449bf3d",
   "metadata": {},
   "outputs": [
    {
     "data": {
      "text/plain": [
       "0.15664062926953193"
      ]
     },
     "execution_count": 598,
     "metadata": {},
     "output_type": "execute_result"
    }
   ],
   "source": [
    "loss"
   ]
  },
  {
   "cell_type": "code",
   "execution_count": 765,
   "id": "adee97d8",
   "metadata": {},
   "outputs": [],
   "source": [
    "feat_1 = scipy.signal.correlate(save_test_layer_1, schmest, mode='same')\n",
    "feat_2 = scipy.signal.correlate(save_test_layer_1, catch_me_if_you_can, mode='same')"
   ]
  },
  {
   "cell_type": "code",
   "execution_count": 766,
   "id": "c0072127",
   "metadata": {},
   "outputs": [
    {
     "data": {
      "text/plain": [
       "(32, 32)"
      ]
     },
     "execution_count": 766,
     "metadata": {},
     "output_type": "execute_result"
    }
   ],
   "source": [
    "feat_1[0][1].shape"
   ]
  },
  {
   "cell_type": "code",
   "execution_count": 767,
   "id": "b785cac6",
   "metadata": {},
   "outputs": [
    {
     "data": {
      "image/png": "[encoded data removed]",
      "text/plain": [
       "<Figure size 640x480 with 2 Axes>"
      ]
     },
     "metadata": {},
     "output_type": "display_data"
    }
   ],
   "source": [
    "f, axarr = plt.subplots(2)\n",
    "axarr[0].imshow(feat_1[0][8])\n",
    "axarr[1].imshow(feat_2[0][8])\n",
    "#plt.imshow(ret_1[0], cmap=\"gray\")\n",
    "plt.show()"
   ]
  },
  {
   "cell_type": "code",
   "execution_count": 768,
   "id": "a9d5294d",
   "metadata": {},
   "outputs": [],
   "source": [
    "score = sum(((feat_2[0][8] - feat_1[0][8])**2).flatten()) / (32*32)"
   ]
  },
  {
   "cell_type": "code",
   "execution_count": 769,
   "id": "349ab0bc",
   "metadata": {},
   "outputs": [
    {
     "data": {
      "text/plain": [
       "0.3466940383331969"
      ]
     },
     "execution_count": 769,
     "metadata": {},
     "output_type": "execute_result"
    }
   ],
   "source": [
    "score"
   ]
  },
  {
   "cell_type": "code",
   "execution_count": 387,
   "id": "4e5ad3bf",
   "metadata": {},
   "outputs": [
    {
     "data": {
      "text/plain": [
       "64"
      ]
     },
     "execution_count": 387,
     "metadata": {},
     "output_type": "execute_result"
    }
   ],
   "source": [
    "8**2"
   ]
  },
  {
   "cell_type": "code",
   "execution_count": 406,
   "id": "3a972fcd",
   "metadata": {},
   "outputs": [],
   "source": [
    "ff = sum(((feat_2[0][8] - feat_1[0][8])**2).flatten()) / (32*32)"
   ]
  },
  {
   "cell_type": "code",
   "execution_count": 407,
   "id": "1da173f4",
   "metadata": {
    "scrolled": true
   },
   "outputs": [
    {
     "data": {
      "text/plain": [
       "array([[-0.53020656, -0.24161595, -0.12929425, ..., -0.08374975,\n",
       "        -0.13156882,  0.02912315],\n",
       "       [-1.117551  , -0.61707187, -0.49506176, ..., -0.434654  ,\n",
       "        -0.39102304,  0.15357937],\n",
       "       [-0.9654695 , -0.27363652, -0.1636149 , ..., -0.17824976,\n",
       "        -0.13050707,  0.31255856],\n",
       "       ...,\n",
       "       [ 0.11530776,  0.10488796, -0.04435235, ..., -0.02487823,\n",
       "        -0.11112041, -0.1189514 ],\n",
       "       [ 0.26033807,  0.32567945,  0.24343392, ...,  0.26244697,\n",
       "         0.06045797,  0.27904078],\n",
       "       [ 0.70185405,  0.86939824,  0.8164562 , ...,  0.8474988 ,\n",
       "         0.6459057 ,  0.15860532]], dtype=float32)"
      ]
     },
     "execution_count": 407,
     "metadata": {},
     "output_type": "execute_result"
    }
   ],
   "source": [
    "feat_1[0][8]"
   ]
  },
  {
   "cell_type": "code",
   "execution_count": 408,
   "id": "853744b6",
   "metadata": {
    "scrolled": true
   },
   "outputs": [
    {
     "data": {
      "text/plain": [
       "array([[ 0.4908783 ,  0.7590253 ,  0.5437419 , ...,  0.47529697,\n",
       "         0.32566872,  0.75445324],\n",
       "       [ 0.89267987,  0.45110208,  0.20482332, ...,  0.3115801 ,\n",
       "         0.00704041,  0.49765655],\n",
       "       [ 0.6182679 ,  0.31345823,  0.07794057, ...,  0.07955337,\n",
       "        -0.09369971,  0.47312057],\n",
       "       ...,\n",
       "       [ 0.01966079, -0.26883057, -0.28855097, ..., -0.38064438,\n",
       "        -0.50076175, -0.08519049],\n",
       "       [ 0.5164428 ,  0.6434553 ,  0.8366198 , ...,  0.8969766 ,\n",
       "         0.9089081 ,  0.5100114 ],\n",
       "       [-1.06682   , -1.5978854 , -1.3366531 , ..., -1.4060636 ,\n",
       "        -1.3976623 , -0.873723  ]], dtype=float32)"
      ]
     },
     "execution_count": 408,
     "metadata": {},
     "output_type": "execute_result"
    }
   ],
   "source": [
    "feat_2[0][8]"
   ]
  },
  {
   "cell_type": "code",
   "execution_count": 409,
   "id": "f274e23b",
   "metadata": {},
   "outputs": [
    {
     "data": {
      "text/plain": [
       "0.40523668626274"
      ]
     },
     "execution_count": 409,
     "metadata": {},
     "output_type": "execute_result"
    }
   ],
   "source": [
    "ff"
   ]
  },
  {
   "cell_type": "code",
   "execution_count": 605,
   "id": "c88bdbdf",
   "metadata": {},
   "outputs": [],
   "source": [
    "rr = np.intersect1d([5, 3, 4, 3], [1, 1, 2, 1])"
   ]
  },
  {
   "cell_type": "code",
   "execution_count": 606,
   "id": "30b8d27b",
   "metadata": {},
   "outputs": [
    {
     "data": {
      "text/plain": [
       "0"
      ]
     },
     "execution_count": 606,
     "metadata": {},
     "output_type": "execute_result"
    }
   ],
   "source": [
    "rr.shape[0]"
   ]
  },
  {
   "cell_type": "code",
   "execution_count": 620,
   "id": "2d162a89",
   "metadata": {},
   "outputs": [
    {
     "data": {
      "text/plain": [
       "tensor([ 0.0000,  0.0000,  0.0000,  0.0000, -0.0000, -0.0000,  0.0000,  0.0000,\n",
       "         0.0000, -0.0000, -0.0000,  0.0000,  0.0000,  0.0000, -0.1179,  0.0000,\n",
       "         0.1179,  0.0000,  0.0000,  0.0000,  0.0000,  0.0000, -0.0000, -0.1179,\n",
       "         0.0000, -0.0000, -0.0000, -0.0000,  0.0000,  0.0000,  0.0000, -0.0000,\n",
       "        -0.0000, -0.0000, -0.0000,  0.0000,  0.0000,  0.1179,  0.0000,  0.0000,\n",
       "         0.0000, -0.0000,  0.0000, -0.1179, -0.0000, -0.0000,  0.0000,  0.0000,\n",
       "         0.0000,  0.1179, -0.0000, -0.0000,  0.0000, -0.1179, -0.0000, -0.0000,\n",
       "         0.0000, -0.0000,  0.0000,  0.0000, -0.0000, -0.0000,  0.0000, -0.0000,\n",
       "        -0.0000,  0.0000, -0.0000, -0.0000, -0.0000, -0.0000, -0.0000, -0.0000,\n",
       "         0.0000,  0.0000, -0.0000, -0.1179, -0.1179, -0.0000, -0.0000, -0.0000,\n",
       "         0.0000, -0.1179, -0.0000, -0.0000,  0.0000, -0.0000, -0.0000,  0.0000,\n",
       "         0.0000,  0.0000, -0.0000, -0.0000, -0.0000,  0.0000,  0.0000, -0.0000,\n",
       "         0.0000, -0.0000, -0.0000, -0.0000,  0.0000,  0.0000, -0.0000,  0.0000,\n",
       "        -0.0000,  0.0000,  0.0000,  0.0000, -0.1179,  0.1179, -0.0000, -0.0000,\n",
       "         0.0000,  0.0000,  0.0000,  0.0000, -0.0000,  0.0000,  0.0000, -0.1179,\n",
       "        -0.0000, -0.0000,  0.0000,  0.0000, -0.0000, -0.0000,  0.0000, -0.0000,\n",
       "        -0.0000,  0.1179, -0.0000, -0.1179,  0.0000, -0.0000, -0.0000,  0.0000,\n",
       "        -0.0000, -0.0000,  0.0000, -0.1179, -0.0000, -0.0000, -0.0000, -0.0000])"
      ]
     },
     "execution_count": 620,
     "metadata": {},
     "output_type": "execute_result"
    }
   ],
   "source": [
    "catch_me_if_you_can.flatten()"
   ]
  },
  {
   "cell_type": "code",
   "execution_count": 630,
   "id": "bfb7d163",
   "metadata": {},
   "outputs": [
    {
     "data": {
      "text/plain": [
       "array([  0,   1,   2,   3,   4,   5,   6,   7,   8,   9,  10,  11,  12,\n",
       "        13,  15,  17,  18,  19,  20,  21,  22,  24,  25,  26,  27,  28,\n",
       "        29,  30,  31,  32,  33,  34,  35,  36,  38,  39,  40,  41,  42,\n",
       "        44,  45,  46,  47,  48,  50,  51,  52,  54,  55,  56,  57,  58,\n",
       "        59,  60,  61,  62,  63,  64,  65,  66,  67,  68,  69,  70,  71,\n",
       "        72,  73,  74,  77,  78,  79,  80,  82,  83,  84,  85,  86,  87,\n",
       "        88,  89,  90,  91,  92,  93,  94,  95,  96,  97,  98,  99, 100,\n",
       "       101, 102, 103, 104, 105, 106, 107, 110, 111, 112, 113, 114, 115,\n",
       "       116, 117, 118, 120, 121, 122, 123, 124, 125, 126, 127, 128, 130,\n",
       "       132, 133, 134, 135, 136, 137, 138, 140, 141, 142, 143])"
      ]
     },
     "execution_count": 630,
     "metadata": {},
     "output_type": "execute_result"
    }
   ],
   "source": [
    "np.where(abs(catch_me_if_you_can[0].flatten())==0)[0]"
   ]
  },
  {
   "cell_type": "code",
   "execution_count": 629,
   "id": "b2abac05",
   "metadata": {},
   "outputs": [
    {
     "data": {
      "text/plain": [
       "144"
      ]
     },
     "execution_count": 629,
     "metadata": {},
     "output_type": "execute_result"
    }
   ],
   "source": [
    "128 + 16"
   ]
  },
  {
   "cell_type": "markdown",
   "id": "a814e0a3",
   "metadata": {},
   "source": [
    "nums = alle möglichen stellen im kernel die in beiden filtern ungleich null sind \n"
   ]
  },
  {
   "cell_type": "code",
   "execution_count": 631,
   "id": "e020bf01",
   "metadata": {},
   "outputs": [],
   "source": [
    "def editDistanceSigns(a,b):\n",
    "    nums = len(a) - len(np.intersect1d(np.where(b==0), np.where(a==0)))\n",
    "    same = len(np.intersect1d(np.where(a<0), np.where(b<0))) + len(np.intersect1d(np.where(a>0), np.where(b>0)))\n",
    "    if nums == 0:\n",
    "        return 0\n",
    "    return (nums-same)/nums"
   ]
  },
  {
   "cell_type": "code",
   "execution_count": 633,
   "id": "a5f94d86",
   "metadata": {},
   "outputs": [
    {
     "data": {
      "text/plain": [
       "torch.Size([16, 3, 3])"
      ]
     },
     "execution_count": 633,
     "metadata": {},
     "output_type": "execute_result"
    }
   ],
   "source": [
    "catch_me_if_you_can[0].shape"
   ]
  },
  {
   "cell_type": "code",
   "execution_count": 744,
   "id": "c3173246",
   "metadata": {},
   "outputs": [],
   "source": [
    "schmest = create_filter(catch_me_if_you_can, None)"
   ]
  },
  {
   "cell_type": "code",
   "execution_count": 770,
   "id": "ec8311ff",
   "metadata": {},
   "outputs": [],
   "source": [
    "#zurt = editDistanceSigns(catch_me_if_you_can[0].flatten(),best_map[0].flatten())\n",
    "zurt = editDistanceSigns(catch_me_if_you_can[0].flatten(),schmest[0].flatten())"
   ]
  },
  {
   "cell_type": "code",
   "execution_count": 771,
   "id": "f0fe397f",
   "metadata": {},
   "outputs": [
    {
     "data": {
      "text/plain": [
       "0.8709677419354839"
      ]
     },
     "execution_count": 771,
     "metadata": {},
     "output_type": "execute_result"
    }
   ],
   "source": [
    "zurt"
   ]
  },
  {
   "cell_type": "code",
   "execution_count": 638,
   "id": "56dbd960",
   "metadata": {},
   "outputs": [
    {
     "data": {
      "text/plain": [
       "0.8888888888888888"
      ]
     },
     "execution_count": 638,
     "metadata": {},
     "output_type": "execute_result"
    }
   ],
   "source": [
    "128"
   ]
  },
  {
   "cell_type": "code",
   "execution_count": 710,
   "id": "7a50d946",
   "metadata": {},
   "outputs": [
    {
     "data": {
      "text/plain": [
       "array([2, 3, 4])"
      ]
     },
     "execution_count": 710,
     "metadata": {},
     "output_type": "execute_result"
    }
   ],
   "source": [
    "gzu = np.array([1,2,3,4])\n",
    "np.delete(gzu, 0)"
   ]
  },
  {
   "cell_type": "code",
   "execution_count": null,
   "id": "33137543",
   "metadata": {},
   "outputs": [],
   "source": [
    "np.unique()"
   ]
  },
  {
   "cell_type": "markdown",
   "id": "5a0088e0",
   "metadata": {},
   "source": [
    "# hab ich nen denkfehler oder warum kann man MSE oder MAE nicht als distanz measure benutzen ?\n",
    "\n",
    "## --> nicht normalisiert und daher vergleichbar ?\n",
    "## --> doch na klar, umso kleiner, umso besser, ist doch egal WIE unterschiedlich die sind, vielmehr darum wie gleich sie sind "
   ]
  },
  {
   "cell_type": "markdown",
   "id": "b902c0cc",
   "metadata": {},
   "source": [
    "# feature map hypothese:\n",
    "# wenn input image channel frequenzen ähnlich, dann können die filter durch sehr untershidliche kernel dennoch die gleichen feature maps haben"
   ]
  },
  {
   "cell_type": "markdown",
   "id": "9d8371a4",
   "metadata": {},
   "source": [
    "## werden die pixel values / benutzten frequenzen in tieferen layern ähnlicher / geringer ? "
   ]
  },
  {
   "cell_type": "markdown",
   "id": "ca621842",
   "metadata": {},
   "source": [
    "# Look at CKA \n",
    "# what hapens if I add all kernels together an convolve with that ?\n",
    "# this would make comparison easier and somewhat more robust, so simply comparing one kernel with all kinds of different values --> again not necessarily looking at strucure but more semantics "
   ]
  },
  {
   "cell_type": "code",
   "execution_count": null,
   "id": "81031655",
   "metadata": {},
   "outputs": [],
   "source": []
  }
 ],
 "metadata": {
  "kernelspec": {
   "display_name": "Python 3 (ipykernel)",
   "language": "python",
   "name": "python3"
  },
  "language_info": {
   "codemirror_mode": {
    "name": "ipython",
    "version": 3
   },
   "file_extension": ".py",
   "mimetype": "text/x-python",
   "name": "python",
   "nbconvert_exporter": "python",
   "pygments_lexer": "ipython3",
   "version": "3.10.6"
  }
 },
 "nbformat": 4,
 "nbformat_minor": 5
}
